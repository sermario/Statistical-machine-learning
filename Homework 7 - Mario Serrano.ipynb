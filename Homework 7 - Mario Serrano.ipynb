{
 "cells": [
  {
   "cell_type": "markdown",
   "id": "4641f928",
   "metadata": {},
   "source": [
    "# Homework 7"
   ]
  },
  {
   "cell_type": "code",
   "execution_count": 1,
   "id": "7103c3ec",
   "metadata": {},
   "outputs": [],
   "source": [
    "#install.packages(\"neuralnet\")\n",
    "library(neuralnet)"
   ]
  },
  {
   "cell_type": "code",
   "execution_count": 2,
   "id": "a44f7306",
   "metadata": {
    "scrolled": false
   },
   "outputs": [
    {
     "data": {
      "text/html": [
       "<table class=\"dataframe\">\n",
       "<caption>A data.frame: 6 × 96</caption>\n",
       "<thead>\n",
       "\t<tr><th></th><th scope=col>Bankrupt.</th><th scope=col>ROA.C..before.interest.and.depreciation.before.interest</th><th scope=col>ROA.A..before.interest.and...after.tax</th><th scope=col>ROA.B..before.interest.and.depreciation.after.tax</th><th scope=col>Operating.Gross.Margin</th><th scope=col>Realized.Sales.Gross.Margin</th><th scope=col>Operating.Profit.Rate</th><th scope=col>Pre.tax.net.Interest.Rate</th><th scope=col>After.tax.net.Interest.Rate</th><th scope=col>Non.industry.income.and.expenditure.revenue</th><th scope=col>⋯</th><th scope=col>Net.Income.to.Total.Assets</th><th scope=col>Total.assets.to.GNP.price</th><th scope=col>No.credit.Interval</th><th scope=col>Gross.Profit.to.Sales</th><th scope=col>Net.Income.to.Stockholder.s.Equity</th><th scope=col>Liability.to.Equity</th><th scope=col>Degree.of.Financial.Leverage..DFL.</th><th scope=col>Interest.Coverage.Ratio..Interest.expense.to.EBIT.</th><th scope=col>Net.Income.Flag</th><th scope=col>Equity.to.Liability</th></tr>\n",
       "\t<tr><th></th><th scope=col>&lt;int&gt;</th><th scope=col>&lt;dbl&gt;</th><th scope=col>&lt;dbl&gt;</th><th scope=col>&lt;dbl&gt;</th><th scope=col>&lt;dbl&gt;</th><th scope=col>&lt;dbl&gt;</th><th scope=col>&lt;dbl&gt;</th><th scope=col>&lt;dbl&gt;</th><th scope=col>&lt;dbl&gt;</th><th scope=col>&lt;dbl&gt;</th><th scope=col>⋯</th><th scope=col>&lt;dbl&gt;</th><th scope=col>&lt;dbl&gt;</th><th scope=col>&lt;dbl&gt;</th><th scope=col>&lt;dbl&gt;</th><th scope=col>&lt;dbl&gt;</th><th scope=col>&lt;dbl&gt;</th><th scope=col>&lt;dbl&gt;</th><th scope=col>&lt;dbl&gt;</th><th scope=col>&lt;int&gt;</th><th scope=col>&lt;dbl&gt;</th></tr>\n",
       "</thead>\n",
       "<tbody>\n",
       "\t<tr><th scope=row>1</th><td>1</td><td>0.3705943</td><td>0.4243894</td><td>0.4057498</td><td>0.6014572</td><td>0.6014572</td><td>0.9989692</td><td>0.7968871</td><td>0.8088094</td><td>0.3026464</td><td>⋯</td><td>0.7168453</td><td>0.009219440</td><td>0.6228790</td><td>0.6014533</td><td>0.8278902</td><td>0.2902019</td><td>0.02660063</td><td>0.5640501</td><td>1</td><td>0.01646874</td></tr>\n",
       "\t<tr><th scope=row>2</th><td>1</td><td>0.4642909</td><td>0.5382141</td><td>0.5167300</td><td>0.6102351</td><td>0.6102351</td><td>0.9989460</td><td>0.7973802</td><td>0.8093007</td><td>0.3035564</td><td>⋯</td><td>0.7952971</td><td>0.008323302</td><td>0.6236517</td><td>0.6102365</td><td>0.8399693</td><td>0.2838460</td><td>0.26457682</td><td>0.5701749</td><td>1</td><td>0.02079431</td></tr>\n",
       "\t<tr><th scope=row>3</th><td>1</td><td>0.4260713</td><td>0.4990188</td><td>0.4722951</td><td>0.6014500</td><td>0.6013635</td><td>0.9988574</td><td>0.7964034</td><td>0.8083875</td><td>0.3020352</td><td>⋯</td><td>0.7746697</td><td>0.040002853</td><td>0.6238410</td><td>0.6014493</td><td>0.8367743</td><td>0.2901885</td><td>0.02655472</td><td>0.5637061</td><td>1</td><td>0.01647411</td></tr>\n",
       "\t<tr><th scope=row>4</th><td>1</td><td>0.3998440</td><td>0.4512647</td><td>0.4577333</td><td>0.5835411</td><td>0.5835411</td><td>0.9986997</td><td>0.7969670</td><td>0.8089656</td><td>0.3033495</td><td>⋯</td><td>0.7395545</td><td>0.003252475</td><td>0.6229287</td><td>0.5835376</td><td>0.8346971</td><td>0.2817212</td><td>0.02669663</td><td>0.5646634</td><td>1</td><td>0.02398233</td></tr>\n",
       "\t<tr><th scope=row>5</th><td>1</td><td>0.4650222</td><td>0.5384322</td><td>0.5222978</td><td>0.5987835</td><td>0.5987835</td><td>0.9989731</td><td>0.7973661</td><td>0.8093037</td><td>0.3034750</td><td>⋯</td><td>0.7950159</td><td>0.003877563</td><td>0.6235207</td><td>0.5987815</td><td>0.8399727</td><td>0.2785138</td><td>0.02475185</td><td>0.5756166</td><td>1</td><td>0.03549020</td></tr>\n",
       "\t<tr><th scope=row>6</th><td>1</td><td>0.3886803</td><td>0.4151766</td><td>0.4191338</td><td>0.5901714</td><td>0.5902507</td><td>0.9987581</td><td>0.7969032</td><td>0.8087706</td><td>0.3031158</td><td>⋯</td><td>0.7104205</td><td>0.005277875</td><td>0.6226046</td><td>0.5901723</td><td>0.8299390</td><td>0.2850871</td><td>0.02667537</td><td>0.5645383</td><td>1</td><td>0.01953448</td></tr>\n",
       "</tbody>\n",
       "</table>\n"
      ],
      "text/latex": [
       "A data.frame: 6 × 96\n",
       "\\begin{tabular}{r|lllllllllllllllllllll}\n",
       "  & Bankrupt. & ROA.C..before.interest.and.depreciation.before.interest & ROA.A..before.interest.and...after.tax & ROA.B..before.interest.and.depreciation.after.tax & Operating.Gross.Margin & Realized.Sales.Gross.Margin & Operating.Profit.Rate & Pre.tax.net.Interest.Rate & After.tax.net.Interest.Rate & Non.industry.income.and.expenditure.revenue & ⋯ & Net.Income.to.Total.Assets & Total.assets.to.GNP.price & No.credit.Interval & Gross.Profit.to.Sales & Net.Income.to.Stockholder.s.Equity & Liability.to.Equity & Degree.of.Financial.Leverage..DFL. & Interest.Coverage.Ratio..Interest.expense.to.EBIT. & Net.Income.Flag & Equity.to.Liability\\\\\n",
       "  & <int> & <dbl> & <dbl> & <dbl> & <dbl> & <dbl> & <dbl> & <dbl> & <dbl> & <dbl> & ⋯ & <dbl> & <dbl> & <dbl> & <dbl> & <dbl> & <dbl> & <dbl> & <dbl> & <int> & <dbl>\\\\\n",
       "\\hline\n",
       "\t1 & 1 & 0.3705943 & 0.4243894 & 0.4057498 & 0.6014572 & 0.6014572 & 0.9989692 & 0.7968871 & 0.8088094 & 0.3026464 & ⋯ & 0.7168453 & 0.009219440 & 0.6228790 & 0.6014533 & 0.8278902 & 0.2902019 & 0.02660063 & 0.5640501 & 1 & 0.01646874\\\\\n",
       "\t2 & 1 & 0.4642909 & 0.5382141 & 0.5167300 & 0.6102351 & 0.6102351 & 0.9989460 & 0.7973802 & 0.8093007 & 0.3035564 & ⋯ & 0.7952971 & 0.008323302 & 0.6236517 & 0.6102365 & 0.8399693 & 0.2838460 & 0.26457682 & 0.5701749 & 1 & 0.02079431\\\\\n",
       "\t3 & 1 & 0.4260713 & 0.4990188 & 0.4722951 & 0.6014500 & 0.6013635 & 0.9988574 & 0.7964034 & 0.8083875 & 0.3020352 & ⋯ & 0.7746697 & 0.040002853 & 0.6238410 & 0.6014493 & 0.8367743 & 0.2901885 & 0.02655472 & 0.5637061 & 1 & 0.01647411\\\\\n",
       "\t4 & 1 & 0.3998440 & 0.4512647 & 0.4577333 & 0.5835411 & 0.5835411 & 0.9986997 & 0.7969670 & 0.8089656 & 0.3033495 & ⋯ & 0.7395545 & 0.003252475 & 0.6229287 & 0.5835376 & 0.8346971 & 0.2817212 & 0.02669663 & 0.5646634 & 1 & 0.02398233\\\\\n",
       "\t5 & 1 & 0.4650222 & 0.5384322 & 0.5222978 & 0.5987835 & 0.5987835 & 0.9989731 & 0.7973661 & 0.8093037 & 0.3034750 & ⋯ & 0.7950159 & 0.003877563 & 0.6235207 & 0.5987815 & 0.8399727 & 0.2785138 & 0.02475185 & 0.5756166 & 1 & 0.03549020\\\\\n",
       "\t6 & 1 & 0.3886803 & 0.4151766 & 0.4191338 & 0.5901714 & 0.5902507 & 0.9987581 & 0.7969032 & 0.8087706 & 0.3031158 & ⋯ & 0.7104205 & 0.005277875 & 0.6226046 & 0.5901723 & 0.8299390 & 0.2850871 & 0.02667537 & 0.5645383 & 1 & 0.01953448\\\\\n",
       "\\end{tabular}\n"
      ],
      "text/markdown": [
       "\n",
       "A data.frame: 6 × 96\n",
       "\n",
       "| <!--/--> | Bankrupt. &lt;int&gt; | ROA.C..before.interest.and.depreciation.before.interest &lt;dbl&gt; | ROA.A..before.interest.and...after.tax &lt;dbl&gt; | ROA.B..before.interest.and.depreciation.after.tax &lt;dbl&gt; | Operating.Gross.Margin &lt;dbl&gt; | Realized.Sales.Gross.Margin &lt;dbl&gt; | Operating.Profit.Rate &lt;dbl&gt; | Pre.tax.net.Interest.Rate &lt;dbl&gt; | After.tax.net.Interest.Rate &lt;dbl&gt; | Non.industry.income.and.expenditure.revenue &lt;dbl&gt; | ⋯ ⋯ | Net.Income.to.Total.Assets &lt;dbl&gt; | Total.assets.to.GNP.price &lt;dbl&gt; | No.credit.Interval &lt;dbl&gt; | Gross.Profit.to.Sales &lt;dbl&gt; | Net.Income.to.Stockholder.s.Equity &lt;dbl&gt; | Liability.to.Equity &lt;dbl&gt; | Degree.of.Financial.Leverage..DFL. &lt;dbl&gt; | Interest.Coverage.Ratio..Interest.expense.to.EBIT. &lt;dbl&gt; | Net.Income.Flag &lt;int&gt; | Equity.to.Liability &lt;dbl&gt; |\n",
       "|---|---|---|---|---|---|---|---|---|---|---|---|---|---|---|---|---|---|---|---|---|---|\n",
       "| 1 | 1 | 0.3705943 | 0.4243894 | 0.4057498 | 0.6014572 | 0.6014572 | 0.9989692 | 0.7968871 | 0.8088094 | 0.3026464 | ⋯ | 0.7168453 | 0.009219440 | 0.6228790 | 0.6014533 | 0.8278902 | 0.2902019 | 0.02660063 | 0.5640501 | 1 | 0.01646874 |\n",
       "| 2 | 1 | 0.4642909 | 0.5382141 | 0.5167300 | 0.6102351 | 0.6102351 | 0.9989460 | 0.7973802 | 0.8093007 | 0.3035564 | ⋯ | 0.7952971 | 0.008323302 | 0.6236517 | 0.6102365 | 0.8399693 | 0.2838460 | 0.26457682 | 0.5701749 | 1 | 0.02079431 |\n",
       "| 3 | 1 | 0.4260713 | 0.4990188 | 0.4722951 | 0.6014500 | 0.6013635 | 0.9988574 | 0.7964034 | 0.8083875 | 0.3020352 | ⋯ | 0.7746697 | 0.040002853 | 0.6238410 | 0.6014493 | 0.8367743 | 0.2901885 | 0.02655472 | 0.5637061 | 1 | 0.01647411 |\n",
       "| 4 | 1 | 0.3998440 | 0.4512647 | 0.4577333 | 0.5835411 | 0.5835411 | 0.9986997 | 0.7969670 | 0.8089656 | 0.3033495 | ⋯ | 0.7395545 | 0.003252475 | 0.6229287 | 0.5835376 | 0.8346971 | 0.2817212 | 0.02669663 | 0.5646634 | 1 | 0.02398233 |\n",
       "| 5 | 1 | 0.4650222 | 0.5384322 | 0.5222978 | 0.5987835 | 0.5987835 | 0.9989731 | 0.7973661 | 0.8093037 | 0.3034750 | ⋯ | 0.7950159 | 0.003877563 | 0.6235207 | 0.5987815 | 0.8399727 | 0.2785138 | 0.02475185 | 0.5756166 | 1 | 0.03549020 |\n",
       "| 6 | 1 | 0.3886803 | 0.4151766 | 0.4191338 | 0.5901714 | 0.5902507 | 0.9987581 | 0.7969032 | 0.8087706 | 0.3031158 | ⋯ | 0.7104205 | 0.005277875 | 0.6226046 | 0.5901723 | 0.8299390 | 0.2850871 | 0.02667537 | 0.5645383 | 1 | 0.01953448 |\n",
       "\n"
      ],
      "text/plain": [
       "  Bankrupt. ROA.C..before.interest.and.depreciation.before.interest\n",
       "1 1         0.3705943                                              \n",
       "2 1         0.4642909                                              \n",
       "3 1         0.4260713                                              \n",
       "4 1         0.3998440                                              \n",
       "5 1         0.4650222                                              \n",
       "6 1         0.3886803                                              \n",
       "  ROA.A..before.interest.and...after.tax\n",
       "1 0.4243894                             \n",
       "2 0.5382141                             \n",
       "3 0.4990188                             \n",
       "4 0.4512647                             \n",
       "5 0.5384322                             \n",
       "6 0.4151766                             \n",
       "  ROA.B..before.interest.and.depreciation.after.tax Operating.Gross.Margin\n",
       "1 0.4057498                                         0.6014572             \n",
       "2 0.5167300                                         0.6102351             \n",
       "3 0.4722951                                         0.6014500             \n",
       "4 0.4577333                                         0.5835411             \n",
       "5 0.5222978                                         0.5987835             \n",
       "6 0.4191338                                         0.5901714             \n",
       "  Realized.Sales.Gross.Margin Operating.Profit.Rate Pre.tax.net.Interest.Rate\n",
       "1 0.6014572                   0.9989692             0.7968871                \n",
       "2 0.6102351                   0.9989460             0.7973802                \n",
       "3 0.6013635                   0.9988574             0.7964034                \n",
       "4 0.5835411                   0.9986997             0.7969670                \n",
       "5 0.5987835                   0.9989731             0.7973661                \n",
       "6 0.5902507                   0.9987581             0.7969032                \n",
       "  After.tax.net.Interest.Rate Non.industry.income.and.expenditure.revenue\n",
       "1 0.8088094                   0.3026464                                  \n",
       "2 0.8093007                   0.3035564                                  \n",
       "3 0.8083875                   0.3020352                                  \n",
       "4 0.8089656                   0.3033495                                  \n",
       "5 0.8093037                   0.3034750                                  \n",
       "6 0.8087706                   0.3031158                                  \n",
       "  <U+22EF>        Net.Income.to.Total.Assets Total.assets.to.GNP.price\n",
       "1 <U+22EF> 0.7168453                  0.009219440              \n",
       "2 <U+22EF> 0.7952971                  0.008323302              \n",
       "3 <U+22EF> 0.7746697                  0.040002853              \n",
       "4 <U+22EF> 0.7395545                  0.003252475              \n",
       "5 <U+22EF> 0.7950159                  0.003877563              \n",
       "6 <U+22EF> 0.7104205                  0.005277875              \n",
       "  No.credit.Interval Gross.Profit.to.Sales Net.Income.to.Stockholder.s.Equity\n",
       "1 0.6228790          0.6014533             0.8278902                         \n",
       "2 0.6236517          0.6102365             0.8399693                         \n",
       "3 0.6238410          0.6014493             0.8367743                         \n",
       "4 0.6229287          0.5835376             0.8346971                         \n",
       "5 0.6235207          0.5987815             0.8399727                         \n",
       "6 0.6226046          0.5901723             0.8299390                         \n",
       "  Liability.to.Equity Degree.of.Financial.Leverage..DFL.\n",
       "1 0.2902019           0.02660063                        \n",
       "2 0.2838460           0.26457682                        \n",
       "3 0.2901885           0.02655472                        \n",
       "4 0.2817212           0.02669663                        \n",
       "5 0.2785138           0.02475185                        \n",
       "6 0.2850871           0.02667537                        \n",
       "  Interest.Coverage.Ratio..Interest.expense.to.EBIT. Net.Income.Flag\n",
       "1 0.5640501                                          1              \n",
       "2 0.5701749                                          1              \n",
       "3 0.5637061                                          1              \n",
       "4 0.5646634                                          1              \n",
       "5 0.5756166                                          1              \n",
       "6 0.5645383                                          1              \n",
       "  Equity.to.Liability\n",
       "1 0.01646874         \n",
       "2 0.02079431         \n",
       "3 0.01647411         \n",
       "4 0.02398233         \n",
       "5 0.03549020         \n",
       "6 0.01953448         "
      ]
     },
     "metadata": {},
     "output_type": "display_data"
    },
    {
     "name": "stdout",
     "output_type": "stream",
     "text": [
      "'data.frame':\t6819 obs. of  96 variables:\n",
      " $ Bankrupt.                                              : int  1 1 1 1 1 1 0 0 0 0 ...\n",
      " $ ROA.C..before.interest.and.depreciation.before.interest: num  0.371 0.464 0.426 0.4 0.465 ...\n",
      " $ ROA.A..before.interest.and...after.tax                 : num  0.424 0.538 0.499 0.451 0.538 ...\n",
      " $ ROA.B..before.interest.and.depreciation.after.tax      : num  0.406 0.517 0.472 0.458 0.522 ...\n",
      " $ Operating.Gross.Margin                                 : num  0.601 0.61 0.601 0.584 0.599 ...\n",
      " $ Realized.Sales.Gross.Margin                            : num  0.601 0.61 0.601 0.584 0.599 ...\n",
      " $ Operating.Profit.Rate                                  : num  0.999 0.999 0.999 0.999 0.999 ...\n",
      " $ Pre.tax.net.Interest.Rate                              : num  0.797 0.797 0.796 0.797 0.797 ...\n",
      " $ After.tax.net.Interest.Rate                            : num  0.809 0.809 0.808 0.809 0.809 ...\n",
      " $ Non.industry.income.and.expenditure.revenue            : num  0.303 0.304 0.302 0.303 0.303 ...\n",
      " $ Continuous.interest.rate..after.tax.                   : num  0.781 0.782 0.78 0.781 0.782 ...\n",
      " $ Operating.Expense.Rate                                 : num  1.26e-04 2.90e-04 2.36e-04 1.08e-04 7.89e+09 ...\n",
      " $ Research.and.development.expense.rate                  : num  0.00 0.00 2.55e+07 0.00 0.00 0.00 7.30e+08 5.09e+07 0.00 0.00 ...\n",
      " $ Cash.flow.rate                                         : num  0.458 0.462 0.459 0.466 0.463 ...\n",
      " $ Interest.bearing.debt.interest.rate                    : num  0.000725 0.000647 0.00079 0.000449 0.000686 ...\n",
      " $ Tax.rate..A.                                           : num  0 0 0 0 0 ...\n",
      " $ Net.Value.Per.Share..B.                                : num  0.148 0.182 0.178 0.154 0.168 ...\n",
      " $ Net.Value.Per.Share..A.                                : num  0.148 0.182 0.178 0.154 0.168 ...\n",
      " $ Net.Value.Per.Share..C.                                : num  0.148 0.182 0.194 0.154 0.168 ...\n",
      " $ Persistent.EPS.in.the.Last.Four.Seasons                : num  0.169 0.209 0.181 0.194 0.213 ...\n",
      " $ Cash.Flow.Per.Share                                    : num  0.312 0.318 0.307 0.322 0.319 ...\n",
      " $ Revenue.Per.Share..Yuan.Â..                            : num  0.01756 0.02114 0.00594 0.01437 0.02969 ...\n",
      " $ Operating.Profit.Per.Share..Yuan.Â..                   : num  0.0959 0.0937 0.0923 0.0778 0.0969 ...\n",
      " $ Per.Share.Net.profit.before.tax..Yuan.Â..              : num  0.139 0.17 0.143 0.149 0.168 ...\n",
      " $ Realized.Sales.Gross.Profit.Growth.Rate                : num  0.0221 0.0221 0.0228 0.022 0.0221 ...\n",
      " $ Operating.Profit.Growth.Rate                           : num  0.848 0.848 0.848 0.848 0.848 ...\n",
      " $ After.tax.Net.Profit.Growth.Rate                       : num  0.689 0.69 0.689 0.689 0.69 ...\n",
      " $ Regular.Net.Profit.Growth.Rate                         : num  0.689 0.69 0.689 0.689 0.69 ...\n",
      " $ Continuous.Net.Profit.Growth.Rate                      : num  0.218 0.218 0.218 0.218 0.218 ...\n",
      " $ Total.Asset.Growth.Rate                                : num  4.98e+09 6.11e+09 7.28e+09 4.88e+09 5.51e+09 6.08e+08 5.72e+09 6.63e+09 6.89e+09 5.55e+09 ...\n",
      " $ Net.Value.Growth.Rate                                  : num  0.000327 0.000443 0.000396 0.000382 0.000439 ...\n",
      " $ Total.Asset.Return.Growth.Rate.Ratio                   : num  0.263 0.265 0.264 0.263 0.265 ...\n",
      " $ Cash.Reinvestment..                                    : num  0.364 0.377 0.369 0.384 0.38 ...\n",
      " $ Current.Ratio                                          : num  0.00226 0.00602 0.01154 0.00419 0.00602 ...\n",
      " $ Quick.Ratio                                            : num  0.00121 0.00404 0.00535 0.0029 0.00373 ...\n",
      " $ Interest.Expense.Ratio                                 : num  0.63 0.635 0.63 0.63 0.636 ...\n",
      " $ Total.debt.Total.net.worth                             : num  0.02127 0.0125 0.02125 0.00957 0.00515 ...\n",
      " $ Debt.ratio..                                           : num  0.208 0.171 0.208 0.151 0.107 ...\n",
      " $ Net.worth.Assets                                       : num  0.792 0.829 0.792 0.849 0.893 ...\n",
      " $ Long.term.fund.suitability.ratio..A.                   : num  0.00502 0.00506 0.0051 0.00505 0.0053 ...\n",
      " $ Borrowing.dependency                                   : num  0.39 0.377 0.379 0.38 0.375 ...\n",
      " $ Contingent.liabilities.Net.worth                       : num  0.00648 0.00584 0.00656 0.00537 0.00662 ...\n",
      " $ Operating.profit.Paid.in.capital                       : num  0.0959 0.0937 0.0923 0.0777 0.0969 ...\n",
      " $ Net.profit.before.tax.Paid.in.capital                  : num  0.138 0.169 0.148 0.148 0.167 ...\n",
      " $ Inventory.and.accounts.receivable.Net.value            : num  0.398 0.398 0.407 0.398 0.4 ...\n",
      " $ Total.Asset.Turnover                                   : num  0.087 0.0645 0.015 0.09 0.1754 ...\n",
      " $ Accounts.Receivable.Turnover                           : num  0.00181 0.00129 0.0015 0.00197 0.00145 ...\n",
      " $ Average.Collection.Days                                : num  0.00349 0.00492 0.00423 0.00321 0.00437 ...\n",
      " $ Inventory.Turnover.Rate..times.                        : num  1.82e-04 9.36e+09 6.50e+07 7.13e+09 1.63e-04 ...\n",
      " $ Fixed.Assets.Turnover.Frequency                        : num  1.17e-04 7.19e+08 2.65e+09 9.15e+09 2.94e-04 ...\n",
      " $ Net.Worth.Turnover.Rate..times.                        : num  0.0329 0.0255 0.0134 0.0281 0.0402 ...\n",
      " $ Revenue.per.person                                     : num  0.03416 0.00689 0.029 0.01546 0.05811 ...\n",
      " $ Operating.profit.per.person                            : num  0.393 0.392 0.382 0.378 0.394 ...\n",
      " $ Allocation.rate.per.person                             : num  0.0371 0.0123 0.141 0.0213 0.024 ...\n",
      " $ Working.Capital.to.Total.Assets                        : num  0.673 0.751 0.83 0.726 0.752 ...\n",
      " $ Quick.Assets.Total.Assets                              : num  0.167 0.127 0.34 0.162 0.26 ...\n",
      " $ Current.Assets.Total.Assets                            : num  0.191 0.182 0.603 0.226 0.358 ...\n",
      " $ Cash.Total.Assets                                      : num  0.004094 0.014948 0.000991 0.018851 0.014161 ...\n",
      " $ Quick.Assets.Current.Liability                         : num  0.002 0.00414 0.0063 0.00296 0.00427 ...\n",
      " $ Cash.Current.Liability                                 : num  1.47e-04 1.38e-03 5.34e+09 1.01e-03 6.80e-04 ...\n",
      " $ Current.Liability.to.Assets                            : num  0.1473 0.057 0.0982 0.0987 0.1102 ...\n",
      " $ Operating.Funds.to.Liability                           : num  0.334 0.341 0.337 0.349 0.345 ...\n",
      " $ Inventory.Working.Capital                              : num  0.277 0.29 0.277 0.277 0.288 ...\n",
      " $ Inventory.Current.Liability                            : num  0.00104 0.00521 0.01388 0.00354 0.00487 ...\n",
      " $ Current.Liabilities.Liability                          : num  0.676 0.309 0.446 0.616 0.975 ...\n",
      " $ Working.Capital.Equity                                 : num  0.721 0.732 0.743 0.73 0.732 ...\n",
      " $ Current.Liabilities.Equity                             : num  0.339 0.33 0.335 0.332 0.331 ...\n",
      " $ Long.term.Liability.to.Current.Assets                  : num  0.02559 0.02395 0.00372 0.02217 0 ...\n",
      " $ Retained.Earnings.to.Total.Assets                      : num  0.903 0.931 0.91 0.907 0.914 ...\n",
      " $ Total.income.Total.expense                             : num  0.00202 0.00223 0.00206 0.00183 0.00222 ...\n",
      " $ Total.expense.Assets                                   : num  0.0649 0.0255 0.0214 0.0242 0.0264 ...\n",
      " $ Current.Asset.Turnover.Rate                            : num  7.01e+08 1.07e-04 1.79e-03 8.14e+09 6.68e+09 ...\n",
      " $ Quick.Asset.Turnover.Rate                              : num  6.55e+09 7.70e+09 1.02e-03 6.05e+09 5.05e+09 ...\n",
      " $ Working.capitcal.Turnover.Rate                         : num  0.594 0.594 0.595 0.594 0.594 ...\n",
      " $ Cash.Turnover.Rate                                     : num  4.58e+08 2.49e+09 7.61e+08 2.03e+09 8.24e+08 ...\n",
      " $ Cash.Flow.to.Sales                                     : num  0.672 0.672 0.672 0.672 0.672 ...\n",
      " $ Fixed.Assets.to.Assets                                 : num  0.424 0.469 0.276 0.559 0.31 ...\n",
      " $ Current.Liability.to.Liability                         : num  0.676 0.309 0.446 0.616 0.975 ...\n",
      " $ Current.Liability.to.Equity                            : num  0.339 0.33 0.335 0.332 0.331 ...\n",
      " $ Equity.to.Long.term.Liability                          : num  0.127 0.121 0.118 0.121 0.111 ...\n",
      " $ Cash.Flow.to.Total.Assets                              : num  0.638 0.641 0.643 0.579 0.622 ...\n",
      " $ Cash.Flow.to.Liability                                 : num  0.459 0.459 0.459 0.449 0.454 ...\n",
      " $ CFO.to.Assets                                          : num  0.52 0.567 0.538 0.604 0.578 ...\n",
      " $ Cash.Flow.to.Equity                                    : num  0.313 0.314 0.315 0.302 0.312 ...\n",
      " $ Current.Liability.to.Current.Assets                    : num  0.1183 0.0478 0.0253 0.0672 0.0477 ...\n",
      " $ Liability.Assets.Flag                                  : int  0 0 0 0 0 0 0 0 0 0 ...\n",
      " $ Net.Income.to.Total.Assets                             : num  0.717 0.795 0.775 0.74 0.795 ...\n",
      " $ Total.assets.to.GNP.price                              : num  0.00922 0.00832 0.04 0.00325 0.00388 ...\n",
      " $ No.credit.Interval                                     : num  0.623 0.624 0.624 0.623 0.624 ...\n",
      " $ Gross.Profit.to.Sales                                  : num  0.601 0.61 0.601 0.584 0.599 ...\n",
      " $ Net.Income.to.Stockholder.s.Equity                     : num  0.828 0.84 0.837 0.835 0.84 ...\n",
      " $ Liability.to.Equity                                    : num  0.29 0.284 0.29 0.282 0.279 ...\n",
      " $ Degree.of.Financial.Leverage..DFL.                     : num  0.0266 0.2646 0.0266 0.0267 0.0248 ...\n",
      " $ Interest.Coverage.Ratio..Interest.expense.to.EBIT.     : num  0.564 0.57 0.564 0.565 0.576 ...\n",
      " $ Net.Income.Flag                                        : int  1 1 1 1 1 1 1 1 1 1 ...\n",
      " $ Equity.to.Liability                                    : num  0.0165 0.0208 0.0165 0.024 0.0355 ...\n"
     ]
    }
   ],
   "source": [
    "bank <- read.csv(\"data/bankruptcy_prediction/data.csv\")\n",
    "head(bank)\n",
    "str(bank)"
   ]
  },
  {
   "cell_type": "code",
   "execution_count": 7,
   "id": "5eaa971f",
   "metadata": {},
   "outputs": [
    {
     "data": {
      "text/plain": [
       "   Bankrupt.       ROA.C..before.interest.and.depreciation.before.interest\n",
       " Min.   :0.00000   Min.   :0.0000                                         \n",
       " 1st Qu.:0.00000   1st Qu.:0.4765                                         \n",
       " Median :0.00000   Median :0.5027                                         \n",
       " Mean   :0.03226   Mean   :0.5052                                         \n",
       " 3rd Qu.:0.00000   3rd Qu.:0.5356                                         \n",
       " Max.   :1.00000   Max.   :1.0000                                         \n",
       " ROA.A..before.interest.and...after.tax\n",
       " Min.   :0.0000                        \n",
       " 1st Qu.:0.5355                        \n",
       " Median :0.5598                        \n",
       " Mean   :0.5586                        \n",
       " 3rd Qu.:0.5892                        \n",
       " Max.   :1.0000                        \n",
       " ROA.B..before.interest.and.depreciation.after.tax Operating.Gross.Margin\n",
       " Min.   :0.0000                                    Min.   :0.0000        \n",
       " 1st Qu.:0.5273                                    1st Qu.:0.6004        \n",
       " Median :0.5523                                    Median :0.6060        \n",
       " Mean   :0.5536                                    Mean   :0.6079        \n",
       " 3rd Qu.:0.5841                                    3rd Qu.:0.6139        \n",
       " Max.   :1.0000                                    Max.   :1.0000        \n",
       " Realized.Sales.Gross.Margin Operating.Profit.Rate Pre.tax.net.Interest.Rate\n",
       " Min.   :0.0000              Min.   :0.0000        Min.   :0.0000           \n",
       " 1st Qu.:0.6004              1st Qu.:0.9990        1st Qu.:0.7974           \n",
       " Median :0.6060              Median :0.9990        Median :0.7975           \n",
       " Mean   :0.6079              Mean   :0.9988        Mean   :0.7972           \n",
       " 3rd Qu.:0.6138              3rd Qu.:0.9991        3rd Qu.:0.7976           \n",
       " Max.   :1.0000              Max.   :1.0000        Max.   :1.0000           \n",
       " After.tax.net.Interest.Rate Non.industry.income.and.expenditure.revenue\n",
       " Min.   :0.0000              Min.   :0.0000                             \n",
       " 1st Qu.:0.8093              1st Qu.:0.3035                             \n",
       " Median :0.8094              Median :0.3035                             \n",
       " Mean   :0.8091              Mean   :0.3036                             \n",
       " 3rd Qu.:0.8095              3rd Qu.:0.3036                             \n",
       " Max.   :1.0000              Max.   :1.0000                             \n",
       " Continuous.interest.rate..after.tax. Operating.Expense.Rate\n",
       " Min.   :0.0000                       Min.   :0.000e+00     \n",
       " 1st Qu.:0.7816                       1st Qu.:0.000e+00     \n",
       " Median :0.7816                       Median :0.000e+00     \n",
       " Mean   :0.7814                       Mean   :1.995e+09     \n",
       " 3rd Qu.:0.7817                       3rd Qu.:4.145e+09     \n",
       " Max.   :1.0000                       Max.   :9.990e+09     \n",
       " Research.and.development.expense.rate Cash.flow.rate  \n",
       " Min.   :0.00e+00                      Min.   :0.0000  \n",
       " 1st Qu.:0.00e+00                      1st Qu.:0.4616  \n",
       " Median :5.09e+08                      Median :0.4651  \n",
       " Mean   :1.95e+09                      Mean   :0.4674  \n",
       " 3rd Qu.:3.45e+09                      3rd Qu.:0.4710  \n",
       " Max.   :9.98e+09                      Max.   :1.0000  \n",
       " Interest.bearing.debt.interest.rate  Tax.rate..A.     Net.Value.Per.Share..B.\n",
       " Min.   :        0                   Min.   :0.00000   Min.   :0.0000         \n",
       " 1st Qu.:        0                   1st Qu.:0.00000   1st Qu.:0.1736         \n",
       " Median :        0                   Median :0.07349   Median :0.1844         \n",
       " Mean   : 16448013                   Mean   :0.11500   Mean   :0.1907         \n",
       " 3rd Qu.:        0                   3rd Qu.:0.20584   3rd Qu.:0.1996         \n",
       " Max.   :990000000                   Max.   :1.00000   Max.   :1.0000         \n",
       " Net.Value.Per.Share..A. Net.Value.Per.Share..C.\n",
       " Min.   :0.0000          Min.   :0.0000         \n",
       " 1st Qu.:0.1736          1st Qu.:0.1737         \n",
       " Median :0.1844          Median :0.1844         \n",
       " Mean   :0.1906          Mean   :0.1907         \n",
       " 3rd Qu.:0.1996          3rd Qu.:0.1996         \n",
       " Max.   :1.0000          Max.   :1.0000         \n",
       " Persistent.EPS.in.the.Last.Four.Seasons Cash.Flow.Per.Share\n",
       " Min.   :0.0000                          Min.   :0.0000     \n",
       " 1st Qu.:0.2147                          1st Qu.:0.3177     \n",
       " Median :0.2245                          Median :0.3225     \n",
       " Mean   :0.2288                          Mean   :0.3235     \n",
       " 3rd Qu.:0.2388                          3rd Qu.:0.3286     \n",
       " Max.   :1.0000                          Max.   :1.0000     \n",
       " Revenue.Per.Share..Yuan.Â.. Operating.Profit.Per.Share..Yuan.Â..\n",
       " Min.   :0.000e+00           Min.   :0.00000                     \n",
       " 1st Qu.:0.000e+00           1st Qu.:0.09608                     \n",
       " Median :0.000e+00           Median :0.10423                     \n",
       " Mean   :1.329e+06           Mean   :0.10909                     \n",
       " 3rd Qu.:0.000e+00           3rd Qu.:0.11615                     \n",
       " Max.   :3.020e+09           Max.   :1.00000                     \n",
       " Per.Share.Net.profit.before.tax..Yuan.Â..\n",
       " Min.   :0.0000                           \n",
       " 1st Qu.:0.1704                           \n",
       " Median :0.1797                           \n",
       " Mean   :0.1844                           \n",
       " 3rd Qu.:0.1935                           \n",
       " Max.   :1.0000                           \n",
       " Realized.Sales.Gross.Profit.Growth.Rate Operating.Profit.Growth.Rate\n",
       " Min.   :0.00000                         Min.   :0.0000              \n",
       " 1st Qu.:0.02206                         1st Qu.:0.8480              \n",
       " Median :0.02210                         Median :0.8480              \n",
       " Mean   :0.02241                         Mean   :0.8480              \n",
       " 3rd Qu.:0.02215                         3rd Qu.:0.8481              \n",
       " Max.   :1.00000                         Max.   :1.0000              \n",
       " After.tax.Net.Profit.Growth.Rate Regular.Net.Profit.Growth.Rate\n",
       " Min.   :0.0000                   Min.   :0.0000                \n",
       " 1st Qu.:0.6893                   1st Qu.:0.6893                \n",
       " Median :0.6894                   Median :0.6894                \n",
       " Mean   :0.6891                   Mean   :0.6892                \n",
       " 3rd Qu.:0.6896                   3rd Qu.:0.6896                \n",
       " Max.   :1.0000                   Max.   :1.0000                \n",
       " Continuous.Net.Profit.Growth.Rate Total.Asset.Growth.Rate\n",
       " Min.   :0.0000                    Min.   :0.000e+00      \n",
       " 1st Qu.:0.2176                    1st Qu.:4.860e+09      \n",
       " Median :0.2176                    Median :6.400e+09      \n",
       " Mean   :0.2176                    Mean   :5.508e+09      \n",
       " 3rd Qu.:0.2176                    3rd Qu.:7.390e+09      \n",
       " Max.   :1.0000                    Max.   :9.990e+09      \n",
       " Net.Value.Growth.Rate Total.Asset.Return.Growth.Rate.Ratio Cash.Reinvestment..\n",
       " Min.   :0.000e+00     Min.   :0.0000                       Min.   :0.0000     \n",
       " 1st Qu.:0.000e+00     1st Qu.:0.2638                       1st Qu.:0.3747     \n",
       " Median :0.000e+00     Median :0.2640                       Median :0.3804     \n",
       " Mean   :1.566e+06     Mean   :0.2642                       Mean   :0.3797     \n",
       " 3rd Qu.:0.000e+00     3rd Qu.:0.2644                       3rd Qu.:0.3867     \n",
       " Max.   :9.330e+09     Max.   :1.0000                       Max.   :1.0000     \n",
       " Current.Ratio        Quick.Ratio        Interest.Expense.Ratio\n",
       " Min.   :0.000e+00   Min.   :0.000e+00   Min.   :0.0000        \n",
       " 1st Qu.:0.000e+00   1st Qu.:0.000e+00   1st Qu.:0.6306        \n",
       " Median :0.000e+00   Median :0.000e+00   Median :0.6307        \n",
       " Mean   :4.033e+05   Mean   :8.377e+06   Mean   :0.6310        \n",
       " 3rd Qu.:0.000e+00   3rd Qu.:0.000e+00   3rd Qu.:0.6311        \n",
       " Max.   :2.750e+09   Max.   :9.230e+09   Max.   :1.0000        \n",
       " Total.debt.Total.net.worth  Debt.ratio..     Net.worth.Assets\n",
       " Min.   :0.000e+00          Min.   :0.00000   Min.   :0.0000  \n",
       " 1st Qu.:0.000e+00          1st Qu.:0.07289   1st Qu.:0.8512  \n",
       " Median :0.000e+00          Median :0.11141   Median :0.8886  \n",
       " Mean   :4.416e+06          Mean   :0.11318   Mean   :0.8868  \n",
       " 3rd Qu.:0.000e+00          3rd Qu.:0.14880   3rd Qu.:0.9271  \n",
       " Max.   :9.940e+09          Max.   :1.00000   Max.   :1.0000  \n",
       " Long.term.fund.suitability.ratio..A. Borrowing.dependency\n",
       " Min.   :0.000000                     Min.   :0.0000      \n",
       " 1st Qu.:0.005244                     1st Qu.:0.3702      \n",
       " Median :0.005665                     Median :0.3726      \n",
       " Mean   :0.008783                     Mean   :0.3747      \n",
       " 3rd Qu.:0.006847                     3rd Qu.:0.3763      \n",
       " Max.   :1.000000                     Max.   :1.0000      \n",
       " Contingent.liabilities.Net.worth Operating.profit.Paid.in.capital\n",
       " Min.   :0.000000                 Min.   :0.0000                  \n",
       " 1st Qu.:0.005366                 1st Qu.:0.0961                  \n",
       " Median :0.005366                 Median :0.1041                  \n",
       " Mean   :0.005968                 Mean   :0.1090                  \n",
       " 3rd Qu.:0.005764                 3rd Qu.:0.1159                  \n",
       " Max.   :1.000000                 Max.   :1.0000                  \n",
       " Net.profit.before.tax.Paid.in.capital\n",
       " Min.   :0.0000                       \n",
       " 1st Qu.:0.1694                       \n",
       " Median :0.1785                       \n",
       " Mean   :0.1827                       \n",
       " 3rd Qu.:0.1916                       \n",
       " Max.   :1.0000                       \n",
       " Inventory.and.accounts.receivable.Net.value Total.Asset.Turnover\n",
       " Min.   :0.0000                              Min.   :0.00000     \n",
       " 1st Qu.:0.3974                              1st Qu.:0.07646     \n",
       " Median :0.4001                              Median :0.11844     \n",
       " Mean   :0.4025                              Mean   :0.14161     \n",
       " 3rd Qu.:0.4046                              3rd Qu.:0.17691     \n",
       " Max.   :1.0000                              Max.   :1.00000     \n",
       " Accounts.Receivable.Turnover Average.Collection.Days\n",
       " Min.   :0.000e+00            Min.   :0.000e+00      \n",
       " 1st Qu.:0.000e+00            1st Qu.:0.000e+00      \n",
       " Median :0.000e+00            Median :0.000e+00      \n",
       " Mean   :1.279e+07            Mean   :9.826e+06      \n",
       " 3rd Qu.:0.000e+00            3rd Qu.:0.000e+00      \n",
       " Max.   :9.740e+09            Max.   :9.730e+09      \n",
       " Inventory.Turnover.Rate..times. Fixed.Assets.Turnover.Frequency\n",
       " Min.   :0.000e+00               Min.   :0.000e+00              \n",
       " 1st Qu.:0.000e+00               1st Qu.:0.000e+00              \n",
       " Median :0.000e+00               Median :0.000e+00              \n",
       " Mean   :2.149e+09               Mean   :1.009e+09              \n",
       " 3rd Qu.:4.620e+09               3rd Qu.:0.000e+00              \n",
       " Max.   :9.990e+09               Max.   :9.990e+09              \n",
       " Net.Worth.Turnover.Rate..times. Revenue.per.person \n",
       " Min.   :0.00000                 Min.   :0.000e+00  \n",
       " 1st Qu.:0.02177                 1st Qu.:0.000e+00  \n",
       " Median :0.02952                 Median :0.000e+00  \n",
       " Mean   :0.03860                 Mean   :2.326e+06  \n",
       " 3rd Qu.:0.04290                 3rd Qu.:0.000e+00  \n",
       " Max.   :1.00000                 Max.   :8.810e+09  \n",
       " Operating.profit.per.person Allocation.rate.per.person\n",
       " Min.   :0.0000              Min.   :0.000e+00         \n",
       " 1st Qu.:0.3924              1st Qu.:0.000e+00         \n",
       " Median :0.3959              Median :0.000e+00         \n",
       " Mean   :0.4007              Mean   :1.126e+07         \n",
       " 3rd Qu.:0.4019              3rd Qu.:0.000e+00         \n",
       " Max.   :1.0000              Max.   :9.570e+09         \n",
       " Working.Capital.to.Total.Assets Quick.Assets.Total.Assets\n",
       " Min.   :0.0000                  Min.   :0.0000           \n",
       " 1st Qu.:0.7743                  1st Qu.:0.2420           \n",
       " Median :0.8103                  Median :0.3865           \n",
       " Mean   :0.8141                  Mean   :0.4001           \n",
       " 3rd Qu.:0.8504                  3rd Qu.:0.5406           \n",
       " Max.   :1.0000                  Max.   :1.0000           \n",
       " Current.Assets.Total.Assets Cash.Total.Assets Quick.Assets.Current.Liability\n",
       " Min.   :0.0000              Min.   :0.00000   Min.   :0.000e+00             \n",
       " 1st Qu.:0.3528              1st Qu.:0.03354   1st Qu.:0.000e+00             \n",
       " Median :0.5148              Median :0.07489   Median :0.000e+00             \n",
       " Mean   :0.5223              Mean   :0.12409   Mean   :3.593e+06             \n",
       " 3rd Qu.:0.6891              3rd Qu.:0.16107   3rd Qu.:0.000e+00             \n",
       " Max.   :1.0000              Max.   :1.00000   Max.   :8.820e+09             \n",
       " Cash.Current.Liability Current.Liability.to.Assets\n",
       " Min.   :0.000e+00      Min.   :0.00000            \n",
       " 1st Qu.:0.000e+00      1st Qu.:0.05330            \n",
       " Median :0.000e+00      Median :0.08270            \n",
       " Mean   :3.716e+07      Mean   :0.09067            \n",
       " 3rd Qu.:0.000e+00      3rd Qu.:0.11952            \n",
       " Max.   :9.650e+09      Max.   :1.00000            \n",
       " Operating.Funds.to.Liability Inventory.Working.Capital\n",
       " Min.   :0.0000               Min.   :0.0000           \n",
       " 1st Qu.:0.3410               1st Qu.:0.2770           \n",
       " Median :0.3486               Median :0.2772           \n",
       " Mean   :0.3538               Mean   :0.2774           \n",
       " 3rd Qu.:0.3609               3rd Qu.:0.2774           \n",
       " Max.   :1.0000               Max.   :1.0000           \n",
       " Inventory.Current.Liability Current.Liabilities.Liability\n",
       " Min.   :0.000e+00           Min.   :0.0000               \n",
       " 1st Qu.:0.000e+00           1st Qu.:0.6270               \n",
       " Median :0.000e+00           Median :0.8069               \n",
       " Mean   :5.581e+07           Mean   :0.7616               \n",
       " 3rd Qu.:0.000e+00           3rd Qu.:0.9420               \n",
       " Max.   :9.910e+09           Max.   :1.0000               \n",
       " Working.Capital.Equity Current.Liabilities.Equity\n",
       " Min.   :0.0000         Min.   :0.0000            \n",
       " 1st Qu.:0.7336         1st Qu.:0.3281            \n",
       " Median :0.7360         Median :0.3297            \n",
       " Mean   :0.7358         Mean   :0.3314            \n",
       " 3rd Qu.:0.7386         3rd Qu.:0.3323            \n",
       " Max.   :1.0000         Max.   :1.0000            \n",
       " Long.term.Liability.to.Current.Assets Retained.Earnings.to.Total.Assets\n",
       " Min.   :0.000e+00                     Min.   :0.0000                   \n",
       " 1st Qu.:0.000e+00                     1st Qu.:0.9311                   \n",
       " Median :0.000e+00                     Median :0.9377                   \n",
       " Mean   :5.416e+07                     Mean   :0.9347                   \n",
       " 3rd Qu.:0.000e+00                     3rd Qu.:0.9448                   \n",
       " Max.   :9.540e+09                     Max.   :1.0000                   \n",
       " Total.income.Total.expense Total.expense.Assets Current.Asset.Turnover.Rate\n",
       " Min.   :0.000000           Min.   :0.00000      Min.   :0.000e+00          \n",
       " 1st Qu.:0.002236           1st Qu.:0.01457      1st Qu.:0.000e+00          \n",
       " Median :0.002336           Median :0.02267      Median :0.000e+00          \n",
       " Mean   :0.002549           Mean   :0.02918      Mean   :1.196e+09          \n",
       " 3rd Qu.:0.002492           3rd Qu.:0.03593      3rd Qu.:0.000e+00          \n",
       " Max.   :1.000000           Max.   :1.00000      Max.   :1.000e+10          \n",
       " Quick.Asset.Turnover.Rate Working.capitcal.Turnover.Rate Cash.Turnover.Rate \n",
       " Min.   :0.000e+00         Min.   :0.0000                 Min.   :0.000e+00  \n",
       " 1st Qu.:0.000e+00         1st Qu.:0.5939                 1st Qu.:0.000e+00  \n",
       " Median :0.000e+00         Median :0.5940                 Median :1.080e+09  \n",
       " Mean   :2.164e+09         Mean   :0.5940                 Mean   :2.472e+09  \n",
       " 3rd Qu.:4.900e+09         3rd Qu.:0.5940                 3rd Qu.:4.510e+09  \n",
       " Max.   :1.000e+10         Max.   :1.0000                 Max.   :1.000e+10  \n",
       " Cash.Flow.to.Sales Fixed.Assets.to.Assets Current.Liability.to.Liability\n",
       " Min.   :0.0000     Min.   :0.00e+00       Min.   :0.0000                \n",
       " 1st Qu.:0.6716     1st Qu.:0.00e+00       1st Qu.:0.6270                \n",
       " Median :0.6716     Median :0.00e+00       Median :0.8069                \n",
       " Mean   :0.6715     Mean   :1.22e+06       Mean   :0.7616                \n",
       " 3rd Qu.:0.6716     3rd Qu.:0.00e+00       3rd Qu.:0.9420                \n",
       " Max.   :1.0000     Max.   :8.32e+09       Max.   :1.0000                \n",
       " Current.Liability.to.Equity Equity.to.Long.term.Liability\n",
       " Min.   :0.0000              Min.   :0.0000               \n",
       " 1st Qu.:0.3281              1st Qu.:0.1109               \n",
       " Median :0.3297              Median :0.1123               \n",
       " Mean   :0.3314              Mean   :0.1156               \n",
       " 3rd Qu.:0.3323              3rd Qu.:0.1171               \n",
       " Max.   :1.0000              Max.   :1.0000               \n",
       " Cash.Flow.to.Total.Assets Cash.Flow.to.Liability CFO.to.Assets   \n",
       " Min.   :0.0000            Min.   :0.0000         Min.   :0.0000  \n",
       " 1st Qu.:0.6333            1st Qu.:0.4571         1st Qu.:0.5660  \n",
       " Median :0.6454            Median :0.4598         Median :0.5933  \n",
       " Mean   :0.6497            Mean   :0.4618         Mean   :0.5934  \n",
       " 3rd Qu.:0.6631            3rd Qu.:0.4642         3rd Qu.:0.6248  \n",
       " Max.   :1.0000            Max.   :1.0000         Max.   :1.0000  \n",
       " Cash.Flow.to.Equity Current.Liability.to.Current.Assets Liability.Assets.Flag\n",
       " Min.   :0.0000      Min.   :0.00000                     Min.   :0.000000     \n",
       " 1st Qu.:0.3130      1st Qu.:0.01803                     1st Qu.:0.000000     \n",
       " Median :0.3150      Median :0.02760                     Median :0.000000     \n",
       " Mean   :0.3156      Mean   :0.03151                     Mean   :0.001173     \n",
       " 3rd Qu.:0.3177      3rd Qu.:0.03837                     3rd Qu.:0.000000     \n",
       " Max.   :1.0000      Max.   :1.00000                     Max.   :1.000000     \n",
       " Net.Income.to.Total.Assets Total.assets.to.GNP.price No.credit.Interval\n",
       " Min.   :0.0000             Min.   :0.000e+00         Min.   :0.0000    \n",
       " 1st Qu.:0.7967             1st Qu.:0.000e+00         1st Qu.:0.6236    \n",
       " Median :0.8106             Median :0.000e+00         Median :0.6239    \n",
       " Mean   :0.8078             Mean   :1.863e+07         Mean   :0.6239    \n",
       " 3rd Qu.:0.8265             3rd Qu.:0.000e+00         3rd Qu.:0.6242    \n",
       " Max.   :1.0000             Max.   :9.820e+09         Max.   :1.0000    \n",
       " Gross.Profit.to.Sales Net.Income.to.Stockholder.s.Equity Liability.to.Equity\n",
       " Min.   :0.0000        Min.   :0.0000                     Min.   :0.0000     \n",
       " 1st Qu.:0.6004        1st Qu.:0.8401                     1st Qu.:0.2769     \n",
       " Median :0.6060        Median :0.8412                     Median :0.2788     \n",
       " Mean   :0.6079        Mean   :0.8404                     Mean   :0.2804     \n",
       " 3rd Qu.:0.6139        3rd Qu.:0.8424                     3rd Qu.:0.2814     \n",
       " Max.   :1.0000        Max.   :1.0000                     Max.   :1.0000     \n",
       " Degree.of.Financial.Leverage..DFL.\n",
       " Min.   :0.00000                   \n",
       " 1st Qu.:0.02679                   \n",
       " Median :0.02681                   \n",
       " Mean   :0.02754                   \n",
       " 3rd Qu.:0.02691                   \n",
       " Max.   :1.00000                   \n",
       " Interest.Coverage.Ratio..Interest.expense.to.EBIT. Net.Income.Flag\n",
       " Min.   :0.0000                                     Min.   :1      \n",
       " 1st Qu.:0.5652                                     1st Qu.:1      \n",
       " Median :0.5653                                     Median :1      \n",
       " Mean   :0.5654                                     Mean   :1      \n",
       " 3rd Qu.:0.5657                                     3rd Qu.:1      \n",
       " Max.   :1.0000                                     Max.   :1      \n",
       " Equity.to.Liability\n",
       " Min.   :0.00000    \n",
       " 1st Qu.:0.02448    \n",
       " Median :0.03380    \n",
       " Mean   :0.04758    \n",
       " 3rd Qu.:0.05284    \n",
       " Max.   :1.00000    "
      ]
     },
     "metadata": {},
     "output_type": "display_data"
    }
   ],
   "source": [
    "summary(bank)"
   ]
  },
  {
   "cell_type": "code",
   "execution_count": 6,
   "id": "9faafd32",
   "metadata": {},
   "outputs": [
    {
     "data": {
      "text/plain": [
       "\n",
       " FALSE \n",
       "654624 "
      ]
     },
     "metadata": {},
     "output_type": "display_data"
    }
   ],
   "source": [
    "table(is.na(bank))"
   ]
  },
  {
   "cell_type": "markdown",
   "id": "02e966a0",
   "metadata": {},
   "source": [
    "### Q1: Randomly divide data into train/test as 80/20 ( set.seed =1)\n"
   ]
  },
  {
   "cell_type": "code",
   "execution_count": 8,
   "id": "b4685c09",
   "metadata": {},
   "outputs": [
    {
     "data": {
      "text/html": [
       "5455"
      ],
      "text/latex": [
       "5455"
      ],
      "text/markdown": [
       "5455"
      ],
      "text/plain": [
       "[1] 5455"
      ]
     },
     "metadata": {},
     "output_type": "display_data"
    },
    {
     "data": {
      "text/html": [
       "1364"
      ],
      "text/latex": [
       "1364"
      ],
      "text/markdown": [
       "1364"
      ],
      "text/plain": [
       "[1] 1364"
      ]
     },
     "metadata": {},
     "output_type": "display_data"
    },
    {
     "data": {
      "text/html": [
       "TRUE"
      ],
      "text/latex": [
       "TRUE"
      ],
      "text/markdown": [
       "TRUE"
      ],
      "text/plain": [
       "[1] TRUE"
      ]
     },
     "metadata": {},
     "output_type": "display_data"
    }
   ],
   "source": [
    "set.seed(1)\n",
    "rtrain<-sample(nrow(bank),nrow(bank)*0.8)\n",
    "train<-bank[rtrain,]\n",
    "test<-bank[-rtrain,]\n",
    "\n",
    "nrow(train)\n",
    "nrow(test)\n",
    "nrow(train)+nrow(test) == nrow(bank)\n"
   ]
  },
  {
   "cell_type": "code",
   "execution_count": 9,
   "id": "11aae3be",
   "metadata": {},
   "outputs": [
    {
     "data": {
      "text/plain": [
       "\n",
       "   0    1 \n",
       "5279  176 "
      ]
     },
     "metadata": {},
     "output_type": "display_data"
    }
   ],
   "source": [
    "table(train$Bankrupt.)"
   ]
  },
  {
   "cell_type": "markdown",
   "id": "8d74512a",
   "metadata": {},
   "source": [
    "### Q2: Build a NN model with 1 hidden layer of 30 neurons, sigmoid activation function.\n"
   ]
  },
  {
   "cell_type": "code",
   "execution_count": 15,
   "id": "ed870085",
   "metadata": {},
   "outputs": [
    {
     "name": "stderr",
     "output_type": "stream",
     "text": [
      "Warning message:\n",
      "\"Algorithm did not converge in 1 of 1 repetition(s) within the stepmax.\"\n"
     ]
    }
   ],
   "source": [
    "#activation function from logistic is the sigmoid act func.\n",
    "\n",
    "nnmod <- neuralnet(Bankrupt.~., hidden=30, data = train,threshold=0.1,stepmax =100000,act.fct=\"logistic\")\n",
    "#plot(nnmod, rep=\"best\")"
   ]
  },
  {
   "cell_type": "code",
   "execution_count": 16,
   "id": "03a5e117",
   "metadata": {},
   "outputs": [
    {
     "data": {
      "text/plain": [
       "              Length Class      Mode    \n",
       "call               7 -none-     call    \n",
       "response        5455 -none-     numeric \n",
       "covariate     518225 -none-     numeric \n",
       "model.list         2 -none-     list    \n",
       "err.fct            1 -none-     function\n",
       "act.fct            1 -none-     function\n",
       "linear.output      1 -none-     logical \n",
       "data              96 data.frame list    \n",
       "exclude            0 -none-     NULL    "
      ]
     },
     "metadata": {},
     "output_type": "display_data"
    }
   ],
   "source": [
    "summary(nnmod)"
   ]
  },
  {
   "cell_type": "code",
   "execution_count": 17,
   "id": "ca2027a3",
   "metadata": {},
   "outputs": [
    {
     "ename": "ERROR",
     "evalue": "Error in cbind(1, pred) %*% weights[[num_hidden_layers + 1]]: requires numeric/complex matrix/vector arguments\n",
     "output_type": "error",
     "traceback": [
      "Error in cbind(1, pred) %*% weights[[num_hidden_layers + 1]]: requires numeric/complex matrix/vector arguments\nTraceback:\n",
      "1. predict(nnmod, bank[rtrain, ])",
      "2. predict.nn(nnmod, bank[rtrain, ])"
     ]
    }
   ],
   "source": [
    "predict(nnmod,bank[rtrain,])"
   ]
  },
  {
   "cell_type": "markdown",
   "id": "6c852774",
   "metadata": {},
   "source": [
    "\n",
    "### Q3: Build a deep NN model with multiple hidden layers (of your choice) and sigmoid activation function."
   ]
  },
  {
   "cell_type": "code",
   "execution_count": 19,
   "id": "6847465c",
   "metadata": {},
   "outputs": [],
   "source": [
    "nnmod2 <- neuralnet(Bankrupt.~., hidden=c(5,10,5), data = train,act.fct=\"logistic\")"
   ]
  },
  {
   "cell_type": "code",
   "execution_count": 20,
   "id": "87c3101a",
   "metadata": {},
   "outputs": [
    {
     "data": {
      "image/png": "[encoded data removed]",
      "text/plain": [
       "plot without title"
      ]
     },
     "metadata": {
      "image/png": {
       "height": 420,
       "width": 420
      }
     },
     "output_type": "display_data"
    }
   ],
   "source": [
    "plot(nnmod2,rep=\"best\")"
   ]
  },
  {
   "cell_type": "code",
   "execution_count": 21,
   "id": "ee3b2f93",
   "metadata": {},
   "outputs": [
    {
     "ename": "ERROR",
     "evalue": "Error in cbind(1, pred) %*% weights[[num_hidden_layers + 1]]: requires numeric/complex matrix/vector arguments\n",
     "output_type": "error",
     "traceback": [
      "Error in cbind(1, pred) %*% weights[[num_hidden_layers + 1]]: requires numeric/complex matrix/vector arguments\nTraceback:\n",
      "1. predict(nnmod, bank[rtrain, ])",
      "2. predict.nn(nnmod, bank[rtrain, ])"
     ]
    }
   ],
   "source": [
    "predict(nnmod,bank[rtrain,])"
   ]
  },
  {
   "cell_type": "markdown",
   "id": "efc1200c",
   "metadata": {},
   "source": [
    "### Q4: Build 5 other classification models and compare with the 2 previous NN models."
   ]
  },
  {
   "cell_type": "code",
   "execution_count": 23,
   "id": "c03f5846",
   "metadata": {},
   "outputs": [
    {
     "name": "stderr",
     "output_type": "stream",
     "text": [
      "Warning message:\n",
      "\"glm.fit: fitted probabilities numerically 0 or 1 occurred\"\n"
     ]
    },
    {
     "data": {
      "text/plain": [
       "\n",
       "Call:\n",
       "glm(formula = Bankrupt. ~ ., family = \"binomial\", data = train)\n",
       "\n",
       "Deviance Residuals: \n",
       "    Min       1Q   Median       3Q      Max  \n",
       "-2.1126  -0.1481  -0.0679  -0.0279   3.6718  \n",
       "\n",
       "Coefficients: (4 not defined because of singularities)\n",
       "                                                          Estimate Std. Error\n",
       "(Intercept)                                              1.230e+07  5.615e+08\n",
       "ROA.C..before.interest.and.depreciation.before.interest -1.926e+01  1.353e+01\n",
       "ROA.A..before.interest.and...after.tax                  -1.611e+00  9.384e+00\n",
       "ROA.B..before.interest.and.depreciation.after.tax        1.882e+01  1.781e+01\n",
       "Operating.Gross.Margin                                   1.075e+04  4.784e+04\n",
       "Realized.Sales.Gross.Margin                              2.066e+01  1.768e+02\n",
       "Operating.Profit.Rate                                   -8.776e+05  1.671e+06\n",
       "Pre.tax.net.Interest.Rate                                7.342e+05  1.396e+06\n",
       "After.tax.net.Interest.Rate                             -6.056e+02  6.871e+02\n",
       "Non.industry.income.and.expenditure.revenue             -4.197e+05  7.988e+05\n",
       "Continuous.interest.rate..after.tax.                    -5.008e+02  3.880e+02\n",
       "Operating.Expense.Rate                                   1.105e-11  3.399e-11\n",
       "Research.and.development.expense.rate                    4.467e-11  4.189e-11\n",
       "Cash.flow.rate                                          -8.847e+01  4.707e+01\n",
       "Interest.bearing.debt.interest.rate                      6.813e-10  1.542e-09\n",
       "Tax.rate..A.                                            -6.159e-01  1.008e+00\n",
       "Net.Value.Per.Share..B.                                 -1.875e+02  9.645e+01\n",
       "Net.Value.Per.Share..A.                                  2.417e+01  1.397e+02\n",
       "Net.Value.Per.Share..C.                                  1.451e+02  1.030e+02\n",
       "Persistent.EPS.in.the.Last.Four.Seasons                 -5.128e+01  2.779e+01\n",
       "Cash.Flow.Per.Share                                     -1.435e+01  1.561e+01\n",
       "Revenue.Per.Share..Yuan.Â..                             -1.901e-04  1.680e-02\n",
       "Operating.Profit.Per.Share..Yuan.Â..                     7.034e+00  1.723e+02\n",
       "Per.Share.Net.profit.before.tax..Yuan.Â..                2.822e+01  1.252e+01\n",
       "Realized.Sales.Gross.Profit.Growth.Rate                  2.519e+00  5.616e+00\n",
       "Operating.Profit.Growth.Rate                            -3.710e+01  2.473e+01\n",
       "After.tax.Net.Profit.Growth.Rate                        -4.087e+01  3.965e+01\n",
       "Regular.Net.Profit.Growth.Rate                           3.823e+01  3.878e+01\n",
       "Continuous.Net.Profit.Growth.Rate                        7.481e+00  8.212e+00\n",
       "Total.Asset.Growth.Rate                                 -1.014e-11  4.257e-11\n",
       "Net.Value.Growth.Rate                                    2.045e-09  1.811e-05\n",
       "Total.Asset.Return.Growth.Rate.Ratio                    -2.235e+01  1.385e+02\n",
       "Cash.Reinvestment..                                      2.039e+01  8.165e+00\n",
       "Current.Ratio                                           -5.800e-09  4.971e-05\n",
       "Quick.Ratio                                             -3.502e-10  4.175e-10\n",
       "Interest.Expense.Ratio                                  -1.462e+00  3.067e+00\n",
       "Total.debt.Total.net.worth                               2.460e-09  1.337e-09\n",
       "Debt.ratio..                                             5.231e+01  1.844e+01\n",
       "Net.worth.Assets                                                NA         NA\n",
       "Long.term.fund.suitability.ratio..A.                     1.532e+00  7.119e+00\n",
       "Borrowing.dependency                                     6.722e+01  3.243e+01\n",
       "Contingent.liabilities.Net.worth                        -4.463e+00  3.675e+01\n",
       "Operating.profit.Paid.in.capital                         1.215e+01  1.744e+02\n",
       "Net.profit.before.tax.Paid.in.capital                   -8.861e+00  3.370e+01\n",
       "Inventory.and.accounts.receivable.Net.value             -4.529e+00  3.629e+01\n",
       "Total.Asset.Turnover                                     1.887e+00  4.349e+00\n",
       "Accounts.Receivable.Turnover                            -8.565e-08  3.910e-06\n",
       "Average.Collection.Days                                 -5.050e-08  1.815e-06\n",
       "Inventory.Turnover.Rate..times.                         -4.637e-11  3.469e-11\n",
       "Fixed.Assets.Turnover.Frequency                          1.122e-10  3.609e-11\n",
       "Net.Worth.Turnover.Rate..times.                         -2.666e+01  1.268e+01\n",
       "Revenue.per.person                                       1.368e-08  6.898e-07\n",
       "Operating.profit.per.person                             -5.318e+00  4.077e+00\n",
       "Allocation.rate.per.person                              -6.075e-07  4.105e-05\n",
       "Working.Capital.to.Total.Assets                         -1.580e+07  7.467e+08\n",
       "Quick.Assets.Total.Assets                                4.822e-01  1.152e+00\n",
       "Current.Assets.Total.Assets                              4.329e+06  2.045e+08\n",
       "Cash.Total.Assets                                       -3.981e+00  2.168e+00\n",
       "Quick.Assets.Current.Liability                          -2.312e-09  6.626e-06\n",
       "Cash.Current.Liability                                   9.999e-11  8.617e-11\n",
       "Current.Liability.to.Assets                             -1.410e+07  6.661e+08\n",
       "Operating.Funds.to.Liability                             4.373e+01  2.278e+01\n",
       "Inventory.Working.Capital                               -3.956e+00  6.232e+00\n",
       "Inventory.Current.Liability                              2.036e-11  1.968e-10\n",
       "Current.Liabilities.Liability                            4.489e+00  2.725e+00\n",
       "Working.Capital.Equity                                  -1.817e+01  5.820e+01\n",
       "Current.Liabilities.Equity                               3.412e+02  1.606e+02\n",
       "Long.term.Liability.to.Current.Assets                    1.578e-10  1.428e-10\n",
       "Retained.Earnings.to.Total.Assets                        1.104e+01  7.037e+00\n",
       "Total.income.Total.expense                               4.815e+02  9.131e+02\n",
       "Total.expense.Assets                                    -6.197e+00  8.020e+00\n",
       "Current.Asset.Turnover.Rate                              5.147e-11  4.104e-11\n",
       "Quick.Asset.Turnover.Rate                                9.151e-12  3.375e-11\n",
       "Working.capitcal.Turnover.Rate                          -6.134e+01  6.060e+02\n",
       "Cash.Turnover.Rate                                      -9.932e-11  4.257e-11\n",
       "Cash.Flow.to.Sales                                       2.240e+02  1.178e+03\n",
       "Fixed.Assets.to.Assets                                   2.578e-07  2.263e-05\n",
       "Current.Liability.to.Liability                                  NA         NA\n",
       "Current.Liability.to.Equity                                     NA         NA\n",
       "Equity.to.Long.term.Liability                            2.747e+01  2.552e+01\n",
       "Cash.Flow.to.Total.Assets                               -2.278e+00  5.686e+00\n",
       "Cash.Flow.to.Liability                                  -1.480e+01  1.004e+01\n",
       "CFO.to.Assets                                           -5.028e+00  5.790e+00\n",
       "Cash.Flow.to.Equity                                     -2.450e+00  1.156e+01\n",
       "Current.Liability.to.Current.Assets                     -1.279e-02  4.056e+00\n",
       "Liability.Assets.Flag                                   -6.668e+00  6.158e+00\n",
       "Net.Income.to.Total.Assets                              -2.599e+01  9.864e+00\n",
       "Total.assets.to.GNP.price                                1.210e-10  1.578e-10\n",
       "No.credit.Interval                                       2.853e-01  7.431e+00\n",
       "Gross.Profit.to.Sales                                   -1.077e+04  4.784e+04\n",
       "Net.Income.to.Stockholder.s.Equity                       7.221e+01  2.517e+01\n",
       "Liability.to.Equity                                     -3.591e+02  1.534e+02\n",
       "Degree.of.Financial.Leverage..DFL.                      -3.198e+00  1.377e+01\n",
       "Interest.Coverage.Ratio..Interest.expense.to.EBIT.      -1.293e+00  4.636e+00\n",
       "Net.Income.Flag                                                 NA         NA\n",
       "Equity.to.Liability                                     -1.485e+01  1.288e+01\n",
       "                                                        z value Pr(>|z|)   \n",
       "(Intercept)                                               0.022  0.98252   \n",
       "ROA.C..before.interest.and.depreciation.before.interest  -1.424  0.15444   \n",
       "ROA.A..before.interest.and...after.tax                   -0.172  0.86368   \n",
       "ROA.B..before.interest.and.depreciation.after.tax         1.057  0.29048   \n",
       "Operating.Gross.Margin                                    0.225  0.82223   \n",
       "Realized.Sales.Gross.Margin                               0.117  0.90699   \n",
       "Operating.Profit.Rate                                    -0.525  0.59940   \n",
       "Pre.tax.net.Interest.Rate                                 0.526  0.59879   \n",
       "After.tax.net.Interest.Rate                              -0.881  0.37809   \n",
       "Non.industry.income.and.expenditure.revenue              -0.525  0.59924   \n",
       "Continuous.interest.rate..after.tax.                     -1.291  0.19680   \n",
       "Operating.Expense.Rate                                    0.325  0.74520   \n",
       "Research.and.development.expense.rate                     1.066  0.28620   \n",
       "Cash.flow.rate                                           -1.880  0.06016 . \n",
       "Interest.bearing.debt.interest.rate                       0.442  0.65872   \n",
       "Tax.rate..A.                                             -0.611  0.54134   \n",
       "Net.Value.Per.Share..B.                                  -1.944  0.05189 . \n",
       "Net.Value.Per.Share..A.                                   0.173  0.86258   \n",
       "Net.Value.Per.Share..C.                                   1.409  0.15896   \n",
       "Persistent.EPS.in.the.Last.Four.Seasons                  -1.846  0.06495 . \n",
       "Cash.Flow.Per.Share                                      -0.919  0.35799   \n",
       "Revenue.Per.Share..Yuan.Â..                              -0.011  0.99097   \n",
       "Operating.Profit.Per.Share..Yuan.Â..                      0.041  0.96744   \n",
       "Per.Share.Net.profit.before.tax..Yuan.Â..                 2.253  0.02425 * \n",
       "Realized.Sales.Gross.Profit.Growth.Rate                   0.449  0.65370   \n",
       "Operating.Profit.Growth.Rate                             -1.500  0.13357   \n",
       "After.tax.Net.Profit.Growth.Rate                         -1.031  0.30261   \n",
       "Regular.Net.Profit.Growth.Rate                            0.986  0.32422   \n",
       "Continuous.Net.Profit.Growth.Rate                         0.911  0.36230   \n",
       "Total.Asset.Growth.Rate                                  -0.238  0.81171   \n",
       "Net.Value.Growth.Rate                                     0.000  0.99991   \n",
       "Total.Asset.Return.Growth.Rate.Ratio                     -0.161  0.87178   \n",
       "Cash.Reinvestment..                                       2.497  0.01253 * \n",
       "Current.Ratio                                             0.000  0.99991   \n",
       "Quick.Ratio                                              -0.839  0.40161   \n",
       "Interest.Expense.Ratio                                   -0.477  0.63345   \n",
       "Total.debt.Total.net.worth                                1.840  0.06572 . \n",
       "Debt.ratio..                                              2.836  0.00456 **\n",
       "Net.worth.Assets                                             NA       NA   \n",
       "Long.term.fund.suitability.ratio..A.                      0.215  0.82965   \n",
       "Borrowing.dependency                                      2.073  0.03822 * \n",
       "Contingent.liabilities.Net.worth                         -0.121  0.90334   \n",
       "Operating.profit.Paid.in.capital                          0.070  0.94447   \n",
       "Net.profit.before.tax.Paid.in.capital                    -0.263  0.79262   \n",
       "Inventory.and.accounts.receivable.Net.value              -0.125  0.90069   \n",
       "Total.Asset.Turnover                                      0.434  0.66434   \n",
       "Accounts.Receivable.Turnover                             -0.022  0.98253   \n",
       "Average.Collection.Days                                  -0.028  0.97780   \n",
       "Inventory.Turnover.Rate..times.                          -1.337  0.18132   \n",
       "Fixed.Assets.Turnover.Frequency                           3.108  0.00188 **\n",
       "Net.Worth.Turnover.Rate..times.                          -2.102  0.03552 * \n",
       "Revenue.per.person                                        0.020  0.98418   \n",
       "Operating.profit.per.person                              -1.304  0.19207   \n",
       "Allocation.rate.per.person                               -0.015  0.98819   \n",
       "Working.Capital.to.Total.Assets                          -0.021  0.98311   \n",
       "Quick.Assets.Total.Assets                                 0.419  0.67546   \n",
       "Current.Assets.Total.Assets                               0.021  0.98311   \n",
       "Cash.Total.Assets                                        -1.836  0.06630 . \n",
       "Quick.Assets.Current.Liability                            0.000  0.99972   \n",
       "Cash.Current.Liability                                    1.160  0.24588   \n",
       "Current.Liability.to.Assets                              -0.021  0.98311   \n",
       "Operating.Funds.to.Liability                              1.920  0.05492 . \n",
       "Inventory.Working.Capital                                -0.635  0.52559   \n",
       "Inventory.Current.Liability                               0.103  0.91762   \n",
       "Current.Liabilities.Liability                             1.648  0.09944 . \n",
       "Working.Capital.Equity                                   -0.312  0.75488   \n",
       "Current.Liabilities.Equity                                2.124  0.03364 * \n",
       "Long.term.Liability.to.Current.Assets                     1.105  0.26931   \n",
       "Retained.Earnings.to.Total.Assets                         1.569  0.11657   \n",
       "Total.income.Total.expense                                0.527  0.59800   \n",
       "Total.expense.Assets                                     -0.773  0.43974   \n",
       "Current.Asset.Turnover.Rate                               1.254  0.20983   \n",
       "Quick.Asset.Turnover.Rate                                 0.271  0.78629   \n",
       "Working.capitcal.Turnover.Rate                           -0.101  0.91937   \n",
       "Cash.Turnover.Rate                                       -2.333  0.01965 * \n",
       "Cash.Flow.to.Sales                                        0.190  0.84915   \n",
       "Fixed.Assets.to.Assets                                    0.011  0.99091   \n",
       "Current.Liability.to.Liability                               NA       NA   \n",
       "Current.Liability.to.Equity                                  NA       NA   \n",
       "Equity.to.Long.term.Liability                             1.076  0.28182   \n",
       "Cash.Flow.to.Total.Assets                                -0.401  0.68867   \n",
       "Cash.Flow.to.Liability                                   -1.473  0.14064   \n",
       "CFO.to.Assets                                            -0.868  0.38521   \n",
       "Cash.Flow.to.Equity                                      -0.212  0.83210   \n",
       "Current.Liability.to.Current.Assets                      -0.003  0.99748   \n",
       "Liability.Assets.Flag                                    -1.083  0.27891   \n",
       "Net.Income.to.Total.Assets                               -2.635  0.00842 **\n",
       "Total.assets.to.GNP.price                                 0.767  0.44330   \n",
       "No.credit.Interval                                        0.038  0.96938   \n",
       "Gross.Profit.to.Sales                                    -0.225  0.82186   \n",
       "Net.Income.to.Stockholder.s.Equity                        2.869  0.00411 **\n",
       "Liability.to.Equity                                      -2.341  0.01922 * \n",
       "Degree.of.Financial.Leverage..DFL.                       -0.232  0.81631   \n",
       "Interest.Coverage.Ratio..Interest.expense.to.EBIT.       -0.279  0.78026   \n",
       "Net.Income.Flag                                              NA       NA   \n",
       "Equity.to.Liability                                      -1.153  0.24887   \n",
       "---\n",
       "Signif. codes:  0 '***' 0.001 '**' 0.01 '*' 0.05 '.' 0.1 ' ' 1\n",
       "\n",
       "(Dispersion parameter for binomial family taken to be 1)\n",
       "\n",
       "    Null deviance: 1554.96  on 5454  degrees of freedom\n",
       "Residual deviance:  838.04  on 5363  degrees of freedom\n",
       "AIC: 1022\n",
       "\n",
       "Number of Fisher Scoring iterations: 23\n"
      ]
     },
     "metadata": {},
     "output_type": "display_data"
    }
   ],
   "source": [
    "log_mod <-glm(Bankrupt.~.,data=train,family=\"binomial\")\n",
    "summary(log_mod)"
   ]
  },
  {
   "cell_type": "code",
   "execution_count": 35,
   "id": "b9eaec54",
   "metadata": {},
   "outputs": [
    {
     "name": "stderr",
     "output_type": "stream",
     "text": [
      "Warning message in predict.lm(object, newdata, se.fit, scale = 1, type = if (type == :\n",
      "\"prediction from a rank-deficient fit may be misleading\"\n"
     ]
    },
    {
     "data": {
      "text/html": [
       "0.0381231671554252"
      ],
      "text/latex": [
       "0.0381231671554252"
      ],
      "text/markdown": [
       "0.0381231671554252"
      ],
      "text/plain": [
       "[1] 0.03812317"
      ]
     },
     "metadata": {},
     "output_type": "display_data"
    },
    {
     "data": {
      "text/plain": [
       "   lpred2\n",
       "       0    1\n",
       "  0 1303   17\n",
       "  1   35    9"
      ]
     },
     "metadata": {},
     "output_type": "display_data"
    }
   ],
   "source": [
    "lpred <- predict(log_mod, test,type=\"response\")\n",
    "lpred2<- ifelse(lpred>=0.5,1,0)\n",
    "mean((test$Bankrupt - lpred2)^2)\n",
    "table(test$Bankrupt,lpred2)"
   ]
  },
  {
   "cell_type": "code",
   "execution_count": 36,
   "id": "953f9e68",
   "metadata": {},
   "outputs": [
    {
     "name": "stderr",
     "output_type": "stream",
     "text": [
      "randomForest 4.6-14\n",
      "\n",
      "Type rfNews() to see new features/changes/bug fixes.\n",
      "\n"
     ]
    }
   ],
   "source": [
    "library(randomForest)"
   ]
  },
  {
   "cell_type": "code",
   "execution_count": 44,
   "id": "e8bb77a4",
   "metadata": {},
   "outputs": [],
   "source": [
    "rf_mod <- randomForest(as.factor(Bankrupt.)~., data=train, proximity=TRUE)"
   ]
  },
  {
   "cell_type": "code",
   "execution_count": 47,
   "id": "8e0f86bb",
   "metadata": {},
   "outputs": [
    {
     "data": {
      "text/html": [
       "0.030791788856305"
      ],
      "text/latex": [
       "0.030791788856305"
      ],
      "text/markdown": [
       "0.030791788856305"
      ],
      "text/plain": [
       "[1] 0.03079179"
      ]
     },
     "metadata": {},
     "output_type": "display_data"
    },
    {
     "data": {
      "text/plain": [
       "   rfpred\n",
       "       0    1\n",
       "  0 1313    7\n",
       "  1   35    9"
      ]
     },
     "metadata": {},
     "output_type": "display_data"
    }
   ],
   "source": [
    "rfpred <- as.numeric(as.character(predict(rf_mod, test)))\n",
    "mean((test$Bankrupt. - rfpred)^2)\n",
    "table(test$Bankrupt,rfpred)"
   ]
  }
 ],
 "metadata": {
  "kernelspec": {
   "display_name": "R",
   "language": "R",
   "name": "ir"
  },
  "language_info": {
   "codemirror_mode": "r",
   "file_extension": ".r",
   "mimetype": "text/x-r-source",
   "name": "R",
   "pygments_lexer": "r",
   "version": "4.0.5"
  }
 },
 "nbformat": 4,
 "nbformat_minor": 5
}
