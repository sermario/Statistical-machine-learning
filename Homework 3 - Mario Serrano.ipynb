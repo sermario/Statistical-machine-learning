{
 "cells": [
  {
   "cell_type": "markdown",
   "id": "348655d6",
   "metadata": {},
   "source": [
    "## Homework 3\n",
    "\n",
    "### 3.  Chapter 5\n",
    "We now review k-fold cross-validation.\n",
    "\n",
    "(a) Explain how k-fold cross-validation is implemented.\n",
    "\n",
    "(b) What are the advantages and disadvantages of k-fold crossvalidation\n",
    "\n",
    "relative to:\n",
    "\n",
    "i. The validation set approach?\n",
    "\n",
    "ii. LOOCV?"
   ]
  },
  {
   "cell_type": "markdown",
   "id": "3a659f30",
   "metadata": {},
   "source": [
    "#### a) \n",
    "K-fold cross validation is implemented by taking k random samples of the data set, making sure they are not overlapped. For each sample set, it acts as a validation send and the rest as a training set. For example if we use k=4, the data set is going to be divided by 4 samples, where 1 is the validation and the other 3 are the training set. This repeats for each until the 4 samples are used as a validation set. After this, the test error is the average MSE estimates.\n",
    "\n",
    "#### b) \n",
    "##### i.\n",
    "The validation set approach is simpler to use and to understand, as you are basically spliting data into two sets. One disadvantage is that the MSE estimates or the error estimates are only tested to one validation set and cannot be compared with other samples. It also can lead to overestimate the test error rate.\n",
    "\n",
    "##### ii.\n",
    "The LOOCV is more complicated to implement than the validation set approach since the model has to be fitted several times. It consists in splitting data into two, but only one observation is used  as a validation set while the others remain as the training set. Its also important to say that it has a lower bias than the k-fold cross validation, but less accurate error estimates.\n"
   ]
  },
  {
   "cell_type": "markdown",
   "id": "a243b677",
   "metadata": {},
   "source": [
    "### 8. Chapter 5\n",
    "We will now perform cross-validation on a simulated data set.\n",
    "\n",
    "(a) Generate a simulated data set as follows:\n",
    "> set .seed (1)\n",
    "> x=rnorm (100)\n",
    "> y=x-2* x^2+ rnorm (100)\n",
    "\n",
    "In this data set, what is n and what is p? Write out the model\n",
    "used to generate the data in equation form.\n",
    "\n",
    "(b) Create a scatterplot of X against Y . Comment on what you find.\n",
    "\n",
    "(c) Set a random seed, and then compute the LOOCV errors that\n",
    "\n",
    "result from fitting the following four models using least squares:\n",
    "\n",
    "i. Y = β0 + β1X + \u0003\n",
    "\n",
    "ii. Y = β0 + β1X + β2X^2 + \u0003\n",
    "\n",
    "iii. Y = β0 + β1X + β2X^2 + β3X^3 + \u0003\n",
    "\n",
    "iv. Y = β0 + β1X + β2X^2 + β3X^3 + β4X^4 + \u0003.\n",
    "\n",
    "Note you may find it helpful to use the data.frame() function\n",
    "to create a single data set containing both X and Y .\n",
    "\n",
    "(d) Repeat (c) using another random seed, and report your results.\n",
    "Are your results the same as what you got in (c)? Why?\n",
    "\n",
    "(e) Which of the models in (c) had the smallest LOOCV error? Is\n",
    "this what you expected? Explain your answer.\n",
    "\n",
    "(f) Comment on the statistical significance of the coefficient estimates\n",
    "that results from fitting each of the models in (c) using\n",
    "least squares. Do these results agree with the conclusions drawn\n",
    "based on the cross-validation results?"
   ]
  },
  {
   "cell_type": "code",
   "execution_count": 11,
   "id": "14def172",
   "metadata": {},
   "outputs": [],
   "source": [
    "# a) generate data set\n",
    "set.seed(42) \n",
    "x=rnorm(100) \n",
    "y=x-2*x^2+rnorm(100)"
   ]
  },
  {
   "cell_type": "code",
   "execution_count": 12,
   "id": "9c33659d",
   "metadata": {},
   "outputs": [
    {
     "data": {
      "image/png": "[encoded data removed]",
      "text/plain": [
       "plot without title"
      ]
     },
     "metadata": {
      "image/png": {
       "height": 420,
       "width": 420
      }
     },
     "output_type": "display_data"
    }
   ],
   "source": [
    "#b) plot\n",
    "plot(x,y,pch=20) #its a concave function, since it is a quadratic equation. "
   ]
  },
  {
   "cell_type": "code",
   "execution_count": 15,
   "id": "45751bfe",
   "metadata": {},
   "outputs": [],
   "source": [
    "df<-data.frame(y,x)"
   ]
  },
  {
   "cell_type": "code",
   "execution_count": 14,
   "id": "4780aca4",
   "metadata": {
    "scrolled": true
   },
   "outputs": [
    {
     "data": {
      "text/html": [
       "<style>\n",
       ".list-inline {list-style: none; margin:0; padding: 0}\n",
       ".list-inline>li {display: inline-block}\n",
       ".list-inline>li:not(:last-child)::after {content: \"\\00b7\"; padding: 0 .5ex}\n",
       "</style>\n",
       "<ol class=list-inline><li>10.9659305071762</li><li>10.9603191778933</li></ol>\n"
      ],
      "text/latex": [
       "\\begin{enumerate*}\n",
       "\\item 10.9659305071762\n",
       "\\item 10.9603191778933\n",
       "\\end{enumerate*}\n"
      ],
      "text/markdown": [
       "1. 10.9659305071762\n",
       "2. 10.9603191778933\n",
       "\n",
       "\n"
      ],
      "text/plain": [
       "[1] 10.96593 10.96032"
      ]
     },
     "metadata": {},
     "output_type": "display_data"
    }
   ],
   "source": [
    "# i.\n",
    "library(boot)\n",
    "\n",
    "set.seed(42)\n",
    "fit = glm(y ~ x)\n",
    "cv.glm(df, fit)$delta"
   ]
  },
  {
   "cell_type": "code",
   "execution_count": 17,
   "id": "f8268ba9",
   "metadata": {},
   "outputs": [
    {
     "data": {
      "text/html": [
       "<style>\n",
       ".list-inline {list-style: none; margin:0; padding: 0}\n",
       ".list-inline>li {display: inline-block}\n",
       ".list-inline>li:not(:last-child)::after {content: \"\\00b7\"; padding: 0 .5ex}\n",
       "</style>\n",
       "<ol class=list-inline><li>0.885807618518591</li><li>0.885396245547962</li></ol>\n"
      ],
      "text/latex": [
       "\\begin{enumerate*}\n",
       "\\item 0.885807618518591\n",
       "\\item 0.885396245547962\n",
       "\\end{enumerate*}\n"
      ],
      "text/markdown": [
       "1. 0.885807618518591\n",
       "2. 0.885396245547962\n",
       "\n",
       "\n"
      ],
      "text/plain": [
       "[1] 0.8858076 0.8853962"
      ]
     },
     "metadata": {},
     "output_type": "display_data"
    }
   ],
   "source": [
    "# ii.\n",
    "\n",
    "set.seed(42)\n",
    "fit = glm(y ~ poly(x,2))\n",
    "cv.glm(df, fit)$delta"
   ]
  },
  {
   "cell_type": "code",
   "execution_count": 18,
   "id": "a6b1c7c7",
   "metadata": {},
   "outputs": [
    {
     "data": {
      "text/html": [
       "<style>\n",
       ".list-inline {list-style: none; margin:0; padding: 0}\n",
       ".list-inline>li {display: inline-block}\n",
       ".list-inline>li:not(:last-child)::after {content: \"\\00b7\"; padding: 0 .5ex}\n",
       "</style>\n",
       "<ol class=list-inline><li>0.908714371855436</li><li>0.908167254153214</li></ol>\n"
      ],
      "text/latex": [
       "\\begin{enumerate*}\n",
       "\\item 0.908714371855436\n",
       "\\item 0.908167254153214\n",
       "\\end{enumerate*}\n"
      ],
      "text/markdown": [
       "1. 0.908714371855436\n",
       "2. 0.908167254153214\n",
       "\n",
       "\n"
      ],
      "text/plain": [
       "[1] 0.9087144 0.9081673"
      ]
     },
     "metadata": {},
     "output_type": "display_data"
    }
   ],
   "source": [
    "# iii.\n",
    "\n",
    "set.seed(42)\n",
    "fit = glm(y ~ poly(x,3))\n",
    "cv.glm(df, fit)$delta"
   ]
  },
  {
   "cell_type": "code",
   "execution_count": 19,
   "id": "1b520873",
   "metadata": {},
   "outputs": [
    {
     "data": {
      "text/html": [
       "<style>\n",
       ".list-inline {list-style: none; margin:0; padding: 0}\n",
       ".list-inline>li {display: inline-block}\n",
       ".list-inline>li:not(:last-child)::after {content: \"\\00b7\"; padding: 0 .5ex}\n",
       "</style>\n",
       "<ol class=list-inline><li>0.964477892388928</li><li>0.963432304167869</li></ol>\n"
      ],
      "text/latex": [
       "\\begin{enumerate*}\n",
       "\\item 0.964477892388928\n",
       "\\item 0.963432304167869\n",
       "\\end{enumerate*}\n"
      ],
      "text/markdown": [
       "1. 0.964477892388928\n",
       "2. 0.963432304167869\n",
       "\n",
       "\n"
      ],
      "text/plain": [
       "[1] 0.9644779 0.9634323"
      ]
     },
     "metadata": {},
     "output_type": "display_data"
    }
   ],
   "source": [
    "# iv.\n",
    "\n",
    "set.seed(42)\n",
    "fit = glm(y ~ poly(x,4))\n",
    "cv.glm(df, fit)$delta"
   ]
  },
  {
   "cell_type": "code",
   "execution_count": 20,
   "id": "2aa58588",
   "metadata": {
    "scrolled": true
   },
   "outputs": [
    {
     "data": {
      "text/html": [
       "<style>\n",
       ".list-inline {list-style: none; margin:0; padding: 0}\n",
       ".list-inline>li {display: inline-block}\n",
       ".list-inline>li:not(:last-child)::after {content: \"\\00b7\"; padding: 0 .5ex}\n",
       "</style>\n",
       "<ol class=list-inline><li>10.9659305071761</li><li>10.9603191778933</li></ol>\n"
      ],
      "text/latex": [
       "\\begin{enumerate*}\n",
       "\\item 10.9659305071761\n",
       "\\item 10.9603191778933\n",
       "\\end{enumerate*}\n"
      ],
      "text/markdown": [
       "1. 10.9659305071761\n",
       "2. 10.9603191778933\n",
       "\n",
       "\n"
      ],
      "text/plain": [
       "[1] 10.96593 10.96032"
      ]
     },
     "metadata": {},
     "output_type": "display_data"
    }
   ],
   "source": [
    "# d\n",
    "#i.\n",
    "\n",
    "set.seed(92)\n",
    "fit = glm(y ~ x)\n",
    "cv.glm(df, fit)$delta"
   ]
  },
  {
   "cell_type": "code",
   "execution_count": 21,
   "id": "cc7e704c",
   "metadata": {},
   "outputs": [
    {
     "data": {
      "text/html": [
       "<style>\n",
       ".list-inline {list-style: none; margin:0; padding: 0}\n",
       ".list-inline>li {display: inline-block}\n",
       ".list-inline>li:not(:last-child)::after {content: \"\\00b7\"; padding: 0 .5ex}\n",
       "</style>\n",
       "<ol class=list-inline><li>0.885807618518591</li><li>0.885396245547962</li></ol>\n"
      ],
      "text/latex": [
       "\\begin{enumerate*}\n",
       "\\item 0.885807618518591\n",
       "\\item 0.885396245547962\n",
       "\\end{enumerate*}\n"
      ],
      "text/markdown": [
       "1. 0.885807618518591\n",
       "2. 0.885396245547962\n",
       "\n",
       "\n"
      ],
      "text/plain": [
       "[1] 0.8858076 0.8853962"
      ]
     },
     "metadata": {},
     "output_type": "display_data"
    }
   ],
   "source": [
    "# ii.\n",
    "\n",
    "set.seed(92)\n",
    "fit = glm(y ~ poly(x,2))\n",
    "cv.glm(df, fit)$delta"
   ]
  },
  {
   "cell_type": "code",
   "execution_count": 22,
   "id": "30155996",
   "metadata": {},
   "outputs": [
    {
     "data": {
      "text/html": [
       "<style>\n",
       ".list-inline {list-style: none; margin:0; padding: 0}\n",
       ".list-inline>li {display: inline-block}\n",
       ".list-inline>li:not(:last-child)::after {content: \"\\00b7\"; padding: 0 .5ex}\n",
       "</style>\n",
       "<ol class=list-inline><li>0.908714371855436</li><li>0.908167254153214</li></ol>\n"
      ],
      "text/latex": [
       "\\begin{enumerate*}\n",
       "\\item 0.908714371855436\n",
       "\\item 0.908167254153214\n",
       "\\end{enumerate*}\n"
      ],
      "text/markdown": [
       "1. 0.908714371855436\n",
       "2. 0.908167254153214\n",
       "\n",
       "\n"
      ],
      "text/plain": [
       "[1] 0.9087144 0.9081673"
      ]
     },
     "metadata": {},
     "output_type": "display_data"
    }
   ],
   "source": [
    "# iii.\n",
    "\n",
    "set.seed(92)\n",
    "fit = glm(y ~ poly(x,3))\n",
    "cv.glm(df, fit)$delta"
   ]
  },
  {
   "cell_type": "code",
   "execution_count": 23,
   "id": "9da1facf",
   "metadata": {},
   "outputs": [
    {
     "data": {
      "text/html": [
       "<style>\n",
       ".list-inline {list-style: none; margin:0; padding: 0}\n",
       ".list-inline>li {display: inline-block}\n",
       ".list-inline>li:not(:last-child)::after {content: \"\\00b7\"; padding: 0 .5ex}\n",
       "</style>\n",
       "<ol class=list-inline><li>0.964477892388928</li><li>0.963432304167869</li></ol>\n"
      ],
      "text/latex": [
       "\\begin{enumerate*}\n",
       "\\item 0.964477892388928\n",
       "\\item 0.963432304167869\n",
       "\\end{enumerate*}\n"
      ],
      "text/markdown": [
       "1. 0.964477892388928\n",
       "2. 0.963432304167869\n",
       "\n",
       "\n"
      ],
      "text/plain": [
       "[1] 0.9644779 0.9634323"
      ]
     },
     "metadata": {},
     "output_type": "display_data"
    }
   ],
   "source": [
    "# iv.\n",
    "\n",
    "set.seed(92)\n",
    "fit = glm(y ~ poly(x,4))\n",
    "cv.glm(df, fit)$delta"
   ]
  },
  {
   "cell_type": "markdown",
   "id": "a199c64b",
   "metadata": {},
   "source": [
    "In this case we have the same results, even if we change the seed because LOOCV does the validation for a single observation."
   ]
  },
  {
   "cell_type": "markdown",
   "id": "bc16294a",
   "metadata": {},
   "source": [
    "e) THe model with the lowest LOOCV error is the quadratic, since it follows the same degree polynomial as the true form of y."
   ]
  },
  {
   "cell_type": "code",
   "execution_count": 24,
   "id": "6ca6f097",
   "metadata": {},
   "outputs": [
    {
     "data": {
      "text/plain": [
       "\n",
       "Call:\n",
       "glm(formula = y ~ poly(x, 4))\n",
       "\n",
       "Deviance Residuals: \n",
       "    Min       1Q   Median       3Q      Max  \n",
       "-1.6837  -0.5941  -0.0534   0.5654   2.8583  \n",
       "\n",
       "Coefficients:\n",
       "             Estimate Std. Error t value Pr(>|t|)    \n",
       "(Intercept)  -2.20424    0.09144 -24.105   <2e-16 ***\n",
       "poly(x, 4)1  19.51809    0.91443  21.345   <2e-16 ***\n",
       "poly(x, 4)2 -30.12292    0.91443 -32.942   <2e-16 ***\n",
       "poly(x, 4)3   0.27121    0.91443   0.297    0.767    \n",
       "poly(x, 4)4   1.15503    0.91443   1.263    0.210    \n",
       "---\n",
       "Signif. codes:  0 '***' 0.001 '**' 0.01 '*' 0.05 '.' 0.1 ' ' 1\n",
       "\n",
       "(Dispersion parameter for gaussian family taken to be 0.8361751)\n",
       "\n",
       "    Null deviance: 1369.191  on 99  degrees of freedom\n",
       "Residual deviance:   79.437  on 95  degrees of freedom\n",
       "AIC: 272.77\n",
       "\n",
       "Number of Fisher Scoring iterations: 2\n"
      ]
     },
     "metadata": {},
     "output_type": "display_data"
    }
   ],
   "source": [
    "#f) \n",
    "summary(fit)"
   ]
  },
  {
   "cell_type": "markdown",
   "id": "f8cc5c98",
   "metadata": {},
   "source": [
    "We can see that the main significance are for the first and second degree of x which leads into a the quadratic form being the best fit. This is in accordance to the LOOCV results."
   ]
  },
  {
   "cell_type": "markdown",
   "id": "3efa81b5",
   "metadata": {},
   "source": [
    "### 1. Chapter 6\n",
    "We perform best subset, forward stepwise, and backward stepwise\n",
    "selection on a single data set. For each approach, we obtain p + 1\n",
    "models, containing 0, 1, 2, . . . , p predictors. Explain your answers:\n",
    "\n",
    "(a) Which of the three models with k predictors has the smallest\n",
    "training RSS?\n",
    "\n",
    "(b) Which of the three models with k predictors has the smallest\n",
    "test RSS?\n",
    "\n",
    "(c) True or False:\n",
    "\n",
    "i. The predictors in the k-variable model identified by forward\n",
    "stepwise are a subset of the predictors in the (k+1)-variable\n",
    "model identified by forward stepwise selection.\n",
    "\n",
    "ii. The predictors in the k-variable model identified by backward\n",
    "stepwise are a subset of the predictors in the (k + 1)-\n",
    "variable model identified by backward stepwise selection.\n",
    "\n",
    "iii. The predictors in the k-variable model identified by backward\n",
    "stepwise are a subset of the predictors in the (k + 1)-\n",
    "variable model identified by forward stepwise selection.\n",
    "\n",
    "iv. The predictors in the k-variable model identified by forward\n",
    "stepwise are a subset of the predictors in the (k+1)-variable\n",
    "model identified by backward stepwise selection.\n",
    "\n",
    "v. The predictors in the k-variable model identified by best\n",
    "subset are a subset of the predictors in the (k + 1)-variable\n",
    "model identified by best subset selection."
   ]
  },
  {
   "cell_type": "markdown",
   "id": "21f18aa2",
   "metadata": {},
   "source": [
    "a) From the three models with k predictors, the best subset selection has the smallest trainingn RSS since the other methods defines models with path dependency.\n",
    "\n",
    "b) From the same three models, the best subset selection has the samallest test RSS since it uses more models.\n",
    "\n",
    "c)\n",
    "i. true\n",
    "\n",
    "ii. true\n",
    "\n",
    "iii. false\n",
    "\n",
    "iv. false\n",
    "\n",
    "v. false"
   ]
  },
  {
   "cell_type": "markdown",
   "id": "abd4c9d3",
   "metadata": {},
   "source": [
    "### 9. Chapter 6 \n",
    "In this exercise, we will predict the number of applications received\n",
    "using the other variables in the College data set.\n",
    "\n",
    "(a) Split the data set into a training set and a test set.\n",
    "\n",
    "(b) Fit a linear model using least squares on the training set, and\n",
    "report the test error obtained.\n",
    "\n",
    "(c) Fit a ridge regression model on the training set, with λ chosen\n",
    "by cross-validation. Report the test error obtained.\n",
    "\n",
    "(d) Fit a lasso model on the training set, with λ chosen by crossvalidation.\n",
    "Report the test error obtained, along with the number\n",
    "of non-zero coefficient estimates.\n",
    "\n",
    "(e) Fit a PCR model on the training set, with M chosen by crossvalidation.\n",
    "Report the test error obtained, along with the value\n",
    "of M selected by cross-validation.\n",
    "\n",
    "(f) Fit a PLS model on the training set, with M chosen by crossvalidation.\n",
    "Report the test error obtained, along with the value\n",
    "of M selected by cross-validation.\n",
    "\n",
    "(g) Comment on the results obtained. How accurately can we predict\n",
    "the number of college applications received? Is there much\n",
    "difference among the test errors resulting from these five approaches?"
   ]
  },
  {
   "cell_type": "code",
   "execution_count": 42,
   "id": "9a8ca59c",
   "metadata": {},
   "outputs": [
    {
     "data": {
      "text/html": [
       "543"
      ],
      "text/latex": [
       "543"
      ],
      "text/markdown": [
       "543"
      ],
      "text/plain": [
       "[1] 543"
      ]
     },
     "metadata": {},
     "output_type": "display_data"
    },
    {
     "data": {
      "text/html": [
       "234"
      ],
      "text/latex": [
       "234"
      ],
      "text/markdown": [
       "234"
      ],
      "text/plain": [
       "[1] 234"
      ]
     },
     "metadata": {},
     "output_type": "display_data"
    }
   ],
   "source": [
    "library(ISLR)\n",
    "\n",
    "#a)\n",
    "set.seed(42)\n",
    "train<-sample(nrow(College),nrow(College)*0.7)\n",
    "test<-c(1:nrow(College))[!c(1:nrow(College))%in%train]\n",
    "\n",
    "train<-College[train,]\n",
    "test<-College[test,]\n",
    "nrow(train)\n",
    "nrow(test)"
   ]
  },
  {
   "cell_type": "code",
   "execution_count": 43,
   "id": "c482a8d7",
   "metadata": {},
   "outputs": [
    {
     "data": {
      "text/html": [
       "<table class=\"dataframe\">\n",
       "<caption>A data.frame: 6 × 18</caption>\n",
       "<thead>\n",
       "\t<tr><th></th><th scope=col>Private</th><th scope=col>Apps</th><th scope=col>Accept</th><th scope=col>Enroll</th><th scope=col>Top10perc</th><th scope=col>Top25perc</th><th scope=col>F.Undergrad</th><th scope=col>P.Undergrad</th><th scope=col>Outstate</th><th scope=col>Room.Board</th><th scope=col>Books</th><th scope=col>Personal</th><th scope=col>PhD</th><th scope=col>Terminal</th><th scope=col>S.F.Ratio</th><th scope=col>perc.alumni</th><th scope=col>Expend</th><th scope=col>Grad.Rate</th></tr>\n",
       "\t<tr><th></th><th scope=col>&lt;fct&gt;</th><th scope=col>&lt;dbl&gt;</th><th scope=col>&lt;dbl&gt;</th><th scope=col>&lt;dbl&gt;</th><th scope=col>&lt;dbl&gt;</th><th scope=col>&lt;dbl&gt;</th><th scope=col>&lt;dbl&gt;</th><th scope=col>&lt;dbl&gt;</th><th scope=col>&lt;dbl&gt;</th><th scope=col>&lt;dbl&gt;</th><th scope=col>&lt;dbl&gt;</th><th scope=col>&lt;dbl&gt;</th><th scope=col>&lt;dbl&gt;</th><th scope=col>&lt;dbl&gt;</th><th scope=col>&lt;dbl&gt;</th><th scope=col>&lt;dbl&gt;</th><th scope=col>&lt;dbl&gt;</th><th scope=col>&lt;dbl&gt;</th></tr>\n",
       "</thead>\n",
       "<tbody>\n",
       "\t<tr><th scope=row>William Jewell College</th><td>Yes</td><td> 663</td><td> 547</td><td>315</td><td>32</td><td>67</td><td>1279</td><td>  75</td><td>10060</td><td>2970</td><td>500</td><td>2600</td><td>74</td><td>80</td><td>11.2</td><td>19</td><td>7885</td><td>59</td></tr>\n",
       "\t<tr><th scope=row>Baker University</th><td>Yes</td><td> 602</td><td> 483</td><td>206</td><td>21</td><td>47</td><td> 958</td><td> 466</td><td> 8620</td><td>4100</td><td>400</td><td>2250</td><td>58</td><td>68</td><td>11.0</td><td>21</td><td>6136</td><td>65</td></tr>\n",
       "\t<tr><th scope=row>University of West Florida</th><td>No </td><td>1558</td><td>1254</td><td>472</td><td>20</td><td>57</td><td>3754</td><td>2477</td><td> 6172</td><td>3994</td><td>541</td><td>1387</td><td>83</td><td>87</td><td>23.4</td><td>12</td><td>8488</td><td>53</td></tr>\n",
       "\t<tr><th scope=row>Columbia College</th><td>Yes</td><td> 737</td><td> 614</td><td>242</td><td>21</td><td>67</td><td> 968</td><td> 237</td><td>10425</td><td>3975</td><td>500</td><td>1500</td><td>61</td><td>77</td><td>14.7</td><td>34</td><td>8693</td><td>76</td></tr>\n",
       "\t<tr><th scope=row>Christopher Newport University</th><td>No </td><td> 883</td><td> 766</td><td>428</td><td> 3</td><td>37</td><td>2910</td><td>1749</td><td> 7860</td><td>4750</td><td>525</td><td>1889</td><td>80</td><td>82</td><td>21.2</td><td>16</td><td>4639</td><td>48</td></tr>\n",
       "\t<tr><th scope=row>St. Martin's College</th><td>Yes</td><td> 191</td><td> 165</td><td> 63</td><td> 5</td><td>25</td><td> 494</td><td> 574</td><td>11550</td><td>4270</td><td>300</td><td> 500</td><td>43</td><td>77</td><td>14.5</td><td> 8</td><td>9209</td><td>40</td></tr>\n",
       "</tbody>\n",
       "</table>\n"
      ],
      "text/latex": [
       "A data.frame: 6 × 18\n",
       "\\begin{tabular}{r|llllllllllllllllll}\n",
       "  & Private & Apps & Accept & Enroll & Top10perc & Top25perc & F.Undergrad & P.Undergrad & Outstate & Room.Board & Books & Personal & PhD & Terminal & S.F.Ratio & perc.alumni & Expend & Grad.Rate\\\\\n",
       "  & <fct> & <dbl> & <dbl> & <dbl> & <dbl> & <dbl> & <dbl> & <dbl> & <dbl> & <dbl> & <dbl> & <dbl> & <dbl> & <dbl> & <dbl> & <dbl> & <dbl> & <dbl>\\\\\n",
       "\\hline\n",
       "\tWilliam Jewell College & Yes &  663 &  547 & 315 & 32 & 67 & 1279 &   75 & 10060 & 2970 & 500 & 2600 & 74 & 80 & 11.2 & 19 & 7885 & 59\\\\\n",
       "\tBaker University & Yes &  602 &  483 & 206 & 21 & 47 &  958 &  466 &  8620 & 4100 & 400 & 2250 & 58 & 68 & 11.0 & 21 & 6136 & 65\\\\\n",
       "\tUniversity of West Florida & No  & 1558 & 1254 & 472 & 20 & 57 & 3754 & 2477 &  6172 & 3994 & 541 & 1387 & 83 & 87 & 23.4 & 12 & 8488 & 53\\\\\n",
       "\tColumbia College & Yes &  737 &  614 & 242 & 21 & 67 &  968 &  237 & 10425 & 3975 & 500 & 1500 & 61 & 77 & 14.7 & 34 & 8693 & 76\\\\\n",
       "\tChristopher Newport University & No  &  883 &  766 & 428 &  3 & 37 & 2910 & 1749 &  7860 & 4750 & 525 & 1889 & 80 & 82 & 21.2 & 16 & 4639 & 48\\\\\n",
       "\tSt. Martin's College & Yes &  191 &  165 &  63 &  5 & 25 &  494 &  574 & 11550 & 4270 & 300 &  500 & 43 & 77 & 14.5 &  8 & 9209 & 40\\\\\n",
       "\\end{tabular}\n"
      ],
      "text/markdown": [
       "\n",
       "A data.frame: 6 × 18\n",
       "\n",
       "| <!--/--> | Private &lt;fct&gt; | Apps &lt;dbl&gt; | Accept &lt;dbl&gt; | Enroll &lt;dbl&gt; | Top10perc &lt;dbl&gt; | Top25perc &lt;dbl&gt; | F.Undergrad &lt;dbl&gt; | P.Undergrad &lt;dbl&gt; | Outstate &lt;dbl&gt; | Room.Board &lt;dbl&gt; | Books &lt;dbl&gt; | Personal &lt;dbl&gt; | PhD &lt;dbl&gt; | Terminal &lt;dbl&gt; | S.F.Ratio &lt;dbl&gt; | perc.alumni &lt;dbl&gt; | Expend &lt;dbl&gt; | Grad.Rate &lt;dbl&gt; |\n",
       "|---|---|---|---|---|---|---|---|---|---|---|---|---|---|---|---|---|---|---|\n",
       "| William Jewell College | Yes |  663 |  547 | 315 | 32 | 67 | 1279 |   75 | 10060 | 2970 | 500 | 2600 | 74 | 80 | 11.2 | 19 | 7885 | 59 |\n",
       "| Baker University | Yes |  602 |  483 | 206 | 21 | 47 |  958 |  466 |  8620 | 4100 | 400 | 2250 | 58 | 68 | 11.0 | 21 | 6136 | 65 |\n",
       "| University of West Florida | No  | 1558 | 1254 | 472 | 20 | 57 | 3754 | 2477 |  6172 | 3994 | 541 | 1387 | 83 | 87 | 23.4 | 12 | 8488 | 53 |\n",
       "| Columbia College | Yes |  737 |  614 | 242 | 21 | 67 |  968 |  237 | 10425 | 3975 | 500 | 1500 | 61 | 77 | 14.7 | 34 | 8693 | 76 |\n",
       "| Christopher Newport University | No  |  883 |  766 | 428 |  3 | 37 | 2910 | 1749 |  7860 | 4750 | 525 | 1889 | 80 | 82 | 21.2 | 16 | 4639 | 48 |\n",
       "| St. Martin's College | Yes |  191 |  165 |  63 |  5 | 25 |  494 |  574 | 11550 | 4270 | 300 |  500 | 43 | 77 | 14.5 |  8 | 9209 | 40 |\n",
       "\n"
      ],
      "text/plain": [
       "                               Private Apps Accept Enroll Top10perc Top25perc\n",
       "William Jewell College         Yes      663  547   315    32        67       \n",
       "Baker University               Yes      602  483   206    21        47       \n",
       "University of West Florida     No      1558 1254   472    20        57       \n",
       "Columbia College               Yes      737  614   242    21        67       \n",
       "Christopher Newport University No       883  766   428     3        37       \n",
       "St. Martin's College           Yes      191  165    63     5        25       \n",
       "                               F.Undergrad P.Undergrad Outstate Room.Board\n",
       "William Jewell College         1279          75        10060    2970      \n",
       "Baker University                958         466         8620    4100      \n",
       "University of West Florida     3754        2477         6172    3994      \n",
       "Columbia College                968         237        10425    3975      \n",
       "Christopher Newport University 2910        1749         7860    4750      \n",
       "St. Martin's College            494         574        11550    4270      \n",
       "                               Books Personal PhD Terminal S.F.Ratio\n",
       "William Jewell College         500   2600     74  80       11.2     \n",
       "Baker University               400   2250     58  68       11.0     \n",
       "University of West Florida     541   1387     83  87       23.4     \n",
       "Columbia College               500   1500     61  77       14.7     \n",
       "Christopher Newport University 525   1889     80  82       21.2     \n",
       "St. Martin's College           300    500     43  77       14.5     \n",
       "                               perc.alumni Expend Grad.Rate\n",
       "William Jewell College         19          7885   59       \n",
       "Baker University               21          6136   65       \n",
       "University of West Florida     12          8488   53       \n",
       "Columbia College               34          8693   76       \n",
       "Christopher Newport University 16          4639   48       \n",
       "St. Martin's College            8          9209   40       "
      ]
     },
     "metadata": {},
     "output_type": "display_data"
    }
   ],
   "source": [
    "head(train)"
   ]
  },
  {
   "cell_type": "code",
   "execution_count": 45,
   "id": "e4d5b0fa",
   "metadata": {},
   "outputs": [
    {
     "data": {
      "text/html": [
       "680349.549952722"
      ],
      "text/latex": [
       "680349.549952722"
      ],
      "text/markdown": [
       "680349.549952722"
      ],
      "text/plain": [
       "[1] 680349.5"
      ]
     },
     "metadata": {},
     "output_type": "display_data"
    }
   ],
   "source": [
    "#b)\n",
    "fit<-lm(Apps~.,data=train)\n",
    "#summary(fit)\n",
    "\n",
    "fit_pred=predict(fit,test)\n",
    "\n",
    "mean((test$Apps-fit_pred)^2)"
   ]
  },
  {
   "cell_type": "code",
   "execution_count": 63,
   "id": "e4e32d44",
   "metadata": {},
   "outputs": [
    {
     "data": {
      "text/html": [
       "0.001"
      ],
      "text/latex": [
       "0.001"
      ],
      "text/markdown": [
       "0.001"
      ],
      "text/plain": [
       "[1] 0.001"
      ]
     },
     "metadata": {},
     "output_type": "display_data"
    }
   ],
   "source": [
    "#c)\n",
    "library(glmnet)\n",
    "\n",
    "x_train <- model.matrix(Apps~.,data=train)\n",
    "\n",
    "grid = 10^seq(2, -3, by = -.1)\n",
    "fit_ridge = cv.glmnet(x_train,train$Apps, alpha=0, lambda=grid, thresh=1e-12)\n",
    "lambda_best = fit_ridge$lambda.min\n",
    "lambda_best"
   ]
  },
  {
   "cell_type": "code",
   "execution_count": 64,
   "id": "5edb7ea9",
   "metadata": {},
   "outputs": [
    {
     "data": {
      "text/html": [
       "680337.281405221"
      ],
      "text/latex": [
       "680337.281405221"
      ],
      "text/markdown": [
       "680337.281405221"
      ],
      "text/plain": [
       "[1] 680337.3"
      ]
     },
     "metadata": {},
     "output_type": "display_data"
    }
   ],
   "source": [
    "x_test <- model.matrix(Apps~.,data=test)\n",
    "ridge_pred = predict(fit_ridge, newx=x_test, s=lambda_best)\n",
    "mean((test$Apps - ridge_pred)^2)\n",
    "\n",
    "#the RSS is a little smaller than in OLS"
   ]
  },
  {
   "cell_type": "code",
   "execution_count": 65,
   "id": "cb42cd57",
   "metadata": {},
   "outputs": [
    {
     "data": {
      "text/html": [
       "0.001"
      ],
      "text/latex": [
       "0.001"
      ],
      "text/markdown": [
       "0.001"
      ],
      "text/plain": [
       "[1] 0.001"
      ]
     },
     "metadata": {},
     "output_type": "display_data"
    },
    {
     "data": {
      "text/html": [
       "680327.303520315"
      ],
      "text/latex": [
       "680327.303520315"
      ],
      "text/markdown": [
       "680327.303520315"
      ],
      "text/plain": [
       "[1] 680327.3"
      ]
     },
     "metadata": {},
     "output_type": "display_data"
    }
   ],
   "source": [
    "#d)\n",
    "fit_lasso = cv.glmnet(x_train,train$Apps, alpha=1, lambda=grid, thresh=1e-12)\n",
    "lambda_best = fit_lasso$lambda.min\n",
    "lambda_best\n",
    "\n",
    "lasso_pred = predict(fit_lasso, newx=x_test, s=lambda_best)\n",
    "mean((test$Apps - lasso_pred)^2)\n",
    "\n",
    "#the RSS is a little smaller than in Ridge"
   ]
  },
  {
   "cell_type": "code",
   "execution_count": 68,
   "id": "45bdd048",
   "metadata": {},
   "outputs": [
    {
     "data": {
      "text/plain": [
       "19 x 1 sparse Matrix of class \"dgCMatrix\"\n",
       "                       s1\n",
       "(Intercept) -347.67697894\n",
       "(Intercept)    .         \n",
       "PrivateYes  -532.81526329\n",
       "Accept         1.66219728\n",
       "Enroll        -1.21558048\n",
       "Top10perc     61.52751658\n",
       "Top25perc    -20.58788019\n",
       "F.Undergrad    0.08776007\n",
       "P.Undergrad    0.01096350\n",
       "Outstate      -0.09506419\n",
       "Room.Board     0.13345111\n",
       "Books         -0.17267925\n",
       "Personal       0.14306592\n",
       "PhD           -9.32798659\n",
       "Terminal      -0.80794226\n",
       "S.F.Ratio     13.03066761\n",
       "perc.alumni   -1.14114039\n",
       "Expend         0.07480815\n",
       "Grad.Rate      9.95371379"
      ]
     },
     "metadata": {},
     "output_type": "display_data"
    }
   ],
   "source": [
    "lasso <- glmnet(x_train, train$Apps, alpha=1)\n",
    "predict(lasso, s=lambda.best, type=\"coefficients\")"
   ]
  },
  {
   "cell_type": "code",
   "execution_count": 71,
   "id": "576a7008",
   "metadata": {},
   "outputs": [
    {
     "name": "stdout",
     "output_type": "stream",
     "text": [
      "package 'pls' successfully unpacked and MD5 sums checked\n",
      "\n",
      "The downloaded binary packages are in\n",
      "\tC:\\Users\\mserrano\\AppData\\Local\\Temp\\RtmpoL7nNL\\downloaded_packages\n"
     ]
    }
   ],
   "source": [
    "#install.packages(\"pls\")"
   ]
  },
  {
   "cell_type": "code",
   "execution_count": 73,
   "id": "c642eada",
   "metadata": {},
   "outputs": [
    {
     "data": {
      "text/html": [
       "1227181.50064128"
      ],
      "text/latex": [
       "1227181.50064128"
      ],
      "text/markdown": [
       "1227181.50064128"
      ],
      "text/plain": [
       "[1] 1227182"
      ]
     },
     "metadata": {},
     "output_type": "display_data"
    },
    {
     "data": {
      "image/png": "[encoded data removed]",
      "text/plain": [
       "Plot with title \"Apps\""
      ]
     },
     "metadata": {
      "image/png": {
       "height": 420,
       "width": 420
      }
     },
     "output_type": "display_data"
    }
   ],
   "source": [
    "#e)\n",
    "library(pls)\n",
    "\n",
    "fit_pcr = pcr(Apps~., data=train, scale=T, validation=\"CV\")\n",
    "validationplot(fit_pcr, val.type=\"MSEP\")\n",
    "\n",
    "pcr_pred = predict(fit_pcr, test, ncomp=10)\n",
    "mean((test$Apps - pcr_pred)^2)\n",
    "\n",
    "#the error is higher "
   ]
  },
  {
   "cell_type": "code",
   "execution_count": 76,
   "id": "31a7472a",
   "metadata": {},
   "outputs": [
    {
     "data": {
      "text/html": [
       "661659.179278466"
      ],
      "text/latex": [
       "661659.179278466"
      ],
      "text/markdown": [
       "661659.179278466"
      ],
      "text/plain": [
       "[1] 661659.2"
      ]
     },
     "metadata": {},
     "output_type": "display_data"
    },
    {
     "data": {
      "image/png": "[encoded data removed]",
      "text/plain": [
       "Plot with title \"Apps\""
      ]
     },
     "metadata": {
      "image/png": {
       "height": 420,
       "width": 420
      }
     },
     "output_type": "display_data"
    }
   ],
   "source": [
    "#f)\n",
    "\n",
    "fit_psl = plsr(Apps~., data=train, scale=T, validation=\"CV\")\n",
    "validationplot(fit_psl, val.type=\"MSEP\")\n",
    "\n",
    "psl_pred = predict(fit_psl, test, ncomp=10)\n",
    "mean((test$Apps - psl_pred)^2)\n",
    "\n",
    "#error is lower than other models"
   ]
  },
  {
   "cell_type": "markdown",
   "id": "be73f06b",
   "metadata": {},
   "source": [
    "g)\n",
    "\n",
    "Checking the errors obtained from each model we can say that the error for the PLS model is the lowest from the applied models. \n",
    "Eventhough, we can say that the error differences between most of the models are not very significant.\n",
    "\n",
    "For the  PCR the error is the highest by much more significant, so in this case, basically we could use most of the models to predict except for the PCR.\n"
   ]
  },
  {
   "cell_type": "markdown",
   "id": "2cae59b0",
   "metadata": {},
   "source": [
    "### 9. Chapter 7\n",
    "This question uses the variables dis (the weighted mean of distances\n",
    "to five Boston employment centers) and nox (nitrogen oxides concentration\n",
    "in parts per 10 million) from the Boston data. We will treat\n",
    "dis as the predictor and nox as the response.\n",
    "\n",
    "(a) Use the poly() function to fit a cubic polynomial regression to\n",
    "predict nox using dis. Report the regression output, and plot\n",
    "the resulting data and polynomial fits.\n",
    "\n",
    "(b) Plot the polynomial fits for a range of different polynomial\n",
    "degrees (say, from 1 to 10), and report the associated residual\n",
    "sum of squares.\n",
    "\n",
    "(c) Perform cross-validation or another approach to select the optimal\n",
    "degree for the polynomial, and explain your results.\n",
    "\n",
    "(d) Use the bs() function to fit a regression spline to predict nox\n",
    "using dis. Report the output for the fit using four degrees of\n",
    "freedom. How did you choose the knots? Plot the resulting fit.\n",
    "\n",
    "(e) Now fit a regression spline for a range of degrees of freedom, and\n",
    "plot the resulting fits and report the resulting RSS. Describe the\n",
    "results obtained.\n",
    "\n",
    "(f) Perform cross-validation or another approach in order to select\n",
    "the best degrees of freedom for a regression spline on this data.\n",
    "Describe your results."
   ]
  },
  {
   "cell_type": "code",
   "execution_count": 77,
   "id": "351abaaa",
   "metadata": {},
   "outputs": [
    {
     "data": {
      "text/plain": [
       "\n",
       "Call:\n",
       "lm(formula = nox ~ poly(dis, 3), data = Boston)\n",
       "\n",
       "Residuals:\n",
       "      Min        1Q    Median        3Q       Max \n",
       "-0.121130 -0.040619 -0.009738  0.023385  0.194904 \n",
       "\n",
       "Coefficients:\n",
       "               Estimate Std. Error t value Pr(>|t|)    \n",
       "(Intercept)    0.554695   0.002759 201.021  < 2e-16 ***\n",
       "poly(dis, 3)1 -2.003096   0.062071 -32.271  < 2e-16 ***\n",
       "poly(dis, 3)2  0.856330   0.062071  13.796  < 2e-16 ***\n",
       "poly(dis, 3)3 -0.318049   0.062071  -5.124 4.27e-07 ***\n",
       "---\n",
       "Signif. codes:  0 '***' 0.001 '**' 0.01 '*' 0.05 '.' 0.1 ' ' 1\n",
       "\n",
       "Residual standard error: 0.06207 on 502 degrees of freedom\n",
       "Multiple R-squared:  0.7148,\tAdjusted R-squared:  0.7131 \n",
       "F-statistic: 419.3 on 3 and 502 DF,  p-value: < 2.2e-16\n"
      ]
     },
     "metadata": {},
     "output_type": "display_data"
    }
   ],
   "source": [
    "#a)\n",
    "library(MASS)\n",
    "\n",
    "lm_fit <- lm(nox ~ poly(dis, 3), data = Boston)\n",
    "summary(lm_fit)"
   ]
  },
  {
   "cell_type": "code",
   "execution_count": 85,
   "id": "dadfc21e",
   "metadata": {},
   "outputs": [
    {
     "data": {
      "image/png": "[encoded data removed]",
      "text/plain": [
       "plot without title"
      ]
     },
     "metadata": {
      "image/png": {
       "height": 420,
       "width": 420
      }
     },
     "output_type": "display_data"
    }
   ],
   "source": [
    "dislim = range(Boston$dis)\n",
    "\n",
    "dis_grid = seq(from = dislim[1], to = dislim[2], by = 0.1)\n",
    "lm_pred = predict(lm_fit, list(dis = dis_grid))\n",
    "\n",
    "plot(nox ~ dis, data = Boston, pch=20)\n",
    "lines(dis_grid, lm_pred, col = \"red\")"
   ]
  },
  {
   "cell_type": "markdown",
   "id": "0c15e1b2",
   "metadata": {},
   "source": [
    "It shows that all terms are significant. The plot also shows a curve that fits the data very good."
   ]
  },
  {
   "cell_type": "code",
   "execution_count": 87,
   "id": "40f1275e",
   "metadata": {},
   "outputs": [
    {
     "data": {
      "text/html": [
       "<style>\n",
       ".list-inline {list-style: none; margin:0; padding: 0}\n",
       ".list-inline>li {display: inline-block}\n",
       ".list-inline>li:not(:last-child)::after {content: \"\\00b7\"; padding: 0 .5ex}\n",
       "</style>\n",
       "<ol class=list-inline><li>2.76856285896928</li><li>2.03526186893526</li><li>1.93410670717907</li><li>1.93298132729859</li><li>1.9152899610843</li><li>1.87825729850816</li><li>1.84948361458298</li><li>1.83562968906769</li><li>1.83333080449159</li><li>1.83217112393134</li></ol>\n"
      ],
      "text/latex": [
       "\\begin{enumerate*}\n",
       "\\item 2.76856285896928\n",
       "\\item 2.03526186893526\n",
       "\\item 1.93410670717907\n",
       "\\item 1.93298132729859\n",
       "\\item 1.9152899610843\n",
       "\\item 1.87825729850816\n",
       "\\item 1.84948361458298\n",
       "\\item 1.83562968906769\n",
       "\\item 1.83333080449159\n",
       "\\item 1.83217112393134\n",
       "\\end{enumerate*}\n"
      ],
      "text/markdown": [
       "1. 2.76856285896928\n",
       "2. 2.03526186893526\n",
       "3. 1.93410670717907\n",
       "4. 1.93298132729859\n",
       "5. 1.9152899610843\n",
       "6. 1.87825729850816\n",
       "7. 1.84948361458298\n",
       "8. 1.83562968906769\n",
       "9. 1.83333080449159\n",
       "10. 1.83217112393134\n",
       "\n",
       "\n"
      ],
      "text/plain": [
       " [1] 2.768563 2.035262 1.934107 1.932981 1.915290 1.878257 1.849484 1.835630\n",
       " [9] 1.833331 1.832171"
      ]
     },
     "metadata": {},
     "output_type": "display_data"
    }
   ],
   "source": [
    "#b)\n",
    "results <- rep(NA, 10)\n",
    "for (i in 1:10) {\n",
    "    lm_fit = lm(nox ~ poly(dis, i), data = Boston)\n",
    "    results[i] = sum(lm_fit$residuals^2)\n",
    "}\n",
    "results\n",
    "\n",
    "#the RSS goes down as the polynomials go higher"
   ]
  },
  {
   "cell_type": "code",
   "execution_count": 103,
   "id": "b8a202c9",
   "metadata": {},
   "outputs": [
    {
     "data": {
      "image/png": "[encoded data removed]",
      "text/plain": [
       "plot without title"
      ]
     },
     "metadata": {
      "image/png": {
       "height": 420,
       "width": 420
      }
     },
     "output_type": "display_data"
    }
   ],
   "source": [
    "#c)\n",
    "library(boot)\n",
    "\n",
    "results = rep(NA, 10)\n",
    "for (i in 1:10) {\n",
    "    glm_fit = glm(nox ~ poly(dis, i), data = Boston)\n",
    "    results[i] = cv.glm(Boston, glm_fit, K = 10)$delta[2]\n",
    "}\n",
    "plot(results, type = \"l\")\n"
   ]
  },
  {
   "cell_type": "markdown",
   "id": "61607ea1",
   "metadata": {},
   "source": [
    "We can see that for higher degrees the error start increasing, specially from the degree 3 or 4. "
   ]
  },
  {
   "cell_type": "code",
   "execution_count": 91,
   "id": "4c964f8d",
   "metadata": {},
   "outputs": [
    {
     "data": {
      "text/plain": [
       "\n",
       "Call:\n",
       "lm(formula = nox ~ ns(dis, df = 4, knots = c(4, 7, 11)), data = Boston)\n",
       "\n",
       "Residuals:\n",
       "      Min        1Q    Median        3Q       Max \n",
       "-0.123145 -0.040555 -0.008866  0.022473  0.193180 \n",
       "\n",
       "Coefficients:\n",
       "                                       Estimate Std. Error t value Pr(>|t|)    \n",
       "(Intercept)                            0.744773   0.007315 101.808   <2e-16 ***\n",
       "ns(dis, df = 4, knots = c(4, 7, 11))1 -0.285665   0.016569 -17.241   <2e-16 ***\n",
       "ns(dis, df = 4, knots = c(4, 7, 11))2 -0.329754   0.035477  -9.295   <2e-16 ***\n",
       "ns(dis, df = 4, knots = c(4, 7, 11))3 -0.574141   0.044965 -12.769   <2e-16 ***\n",
       "ns(dis, df = 4, knots = c(4, 7, 11))4 -0.109542   0.054935  -1.994   0.0467 *  \n",
       "---\n",
       "Signif. codes:  0 '***' 0.001 '**' 0.01 '*' 0.05 '.' 0.1 ' ' 1\n",
       "\n",
       "Residual standard error: 0.06178 on 501 degrees of freedom\n",
       "Multiple R-squared:  0.718,\tAdjusted R-squared:  0.7158 \n",
       "F-statistic:   319 on 4 and 501 DF,  p-value: < 2.2e-16\n"
      ]
     },
     "metadata": {},
     "output_type": "display_data"
    }
   ],
   "source": [
    "#d)\n",
    "library(splines)\n",
    "splines_fit = lm(nox ~ bs(dis, df = 4, knots = c(4, 7, 11)), data = Boston)\n",
    "summary(splines_fit)"
   ]
  },
  {
   "cell_type": "code",
   "execution_count": 94,
   "id": "52dabe52",
   "metadata": {},
   "outputs": [
    {
     "data": {
      "image/png": "[encoded data removed]",
      "text/plain": [
       "plot without title"
      ]
     },
     "metadata": {
      "image/png": {
       "height": 420,
       "width": 420
      }
     },
     "output_type": "display_data"
    }
   ],
   "source": [
    "spline_pred = predict(splines_fit, list(dis = dis_grid))\n",
    "\n",
    "plot(nox ~ dis, data = Boston, pch=20)\n",
    "lines(dis_grid, spline_pred, col = \"red\")"
   ]
  },
  {
   "cell_type": "markdown",
   "id": "48d15419",
   "metadata": {},
   "source": [
    "All the coefficients are significant and the spline seems to fit the data very well."
   ]
  },
  {
   "cell_type": "code",
   "execution_count": 104,
   "id": "d8ec2a2d",
   "metadata": {},
   "outputs": [
    {
     "data": {
      "image/png": "[encoded data removed]",
      "text/plain": [
       "plot without title"
      ]
     },
     "metadata": {
      "image/png": {
       "height": 420,
       "width": 420
      }
     },
     "output_type": "display_data"
    }
   ],
   "source": [
    "#e)\n",
    "results = rep(NA, 16)\n",
    "for (i in 3:16) {\n",
    "    splines_fit = lm(nox ~ bs(dis, df = i), data = Boston)\n",
    "    results[i] = sum(splines_fit$residuals^2)\n",
    "}\n",
    "\n",
    "plot(results,type=\"l\")"
   ]
  },
  {
   "cell_type": "markdown",
   "id": "e0f3394b",
   "metadata": {},
   "source": [
    "The RSS decrease as the df go down until df=14."
   ]
  },
  {
   "cell_type": "code",
   "execution_count": 107,
   "id": "fb1c6ad2",
   "metadata": {},
   "outputs": [
    {
     "name": "stderr",
     "output_type": "stream",
     "text": [
      "Warning message in bs(dis, degree = 3L, knots = numeric(0), Boundary.knots = c(1.1296, :\n",
      "\"some 'x' values beyond boundary knots may cause ill-conditioned bases\"\n",
      "Warning message in bs(dis, degree = 3L, knots = numeric(0), Boundary.knots = c(1.1296, :\n",
      "\"some 'x' values beyond boundary knots may cause ill-conditioned bases\"\n",
      "Warning message in bs(dis, degree = 3L, knots = numeric(0), Boundary.knots = c(1.137, :\n",
      "\"some 'x' values beyond boundary knots may cause ill-conditioned bases\"\n",
      "Warning message in bs(dis, degree = 3L, knots = numeric(0), Boundary.knots = c(1.137, :\n",
      "\"some 'x' values beyond boundary knots may cause ill-conditioned bases\"\n",
      "Warning message in bs(dis, degree = 3L, knots = c(`50%` = 3.2759), Boundary.knots = c(1.1296, :\n",
      "\"some 'x' values beyond boundary knots may cause ill-conditioned bases\"\n",
      "Warning message in bs(dis, degree = 3L, knots = c(`50%` = 3.2759), Boundary.knots = c(1.1296, :\n",
      "\"some 'x' values beyond boundary knots may cause ill-conditioned bases\"\n",
      "Warning message in bs(dis, degree = 3L, knots = c(`50%` = 3.0993), Boundary.knots = c(1.137, :\n",
      "\"some 'x' values beyond boundary knots may cause ill-conditioned bases\"\n",
      "Warning message in bs(dis, degree = 3L, knots = c(`50%` = 3.0993), Boundary.knots = c(1.137, :\n",
      "\"some 'x' values beyond boundary knots may cause ill-conditioned bases\"\n",
      "Warning message in bs(dis, degree = 3L, knots = c(`33.33333%` = 2.4259, `66.66667%` = 4.3996:\n",
      "\"some 'x' values beyond boundary knots may cause ill-conditioned bases\"\n",
      "Warning message in bs(dis, degree = 3L, knots = c(`33.33333%` = 2.4259, `66.66667%` = 4.3996:\n",
      "\"some 'x' values beyond boundary knots may cause ill-conditioned bases\"\n",
      "Warning message in bs(dis, degree = 3L, knots = c(`33.33333%` = 2.41306666666667, :\n",
      "\"some 'x' values beyond boundary knots may cause ill-conditioned bases\"\n",
      "Warning message in bs(dis, degree = 3L, knots = c(`33.33333%` = 2.41306666666667, :\n",
      "\"some 'x' values beyond boundary knots may cause ill-conditioned bases\"\n",
      "Warning message in bs(dis, degree = 3L, knots = c(`25%` = 2.087875, `50%` = 3.20745, :\n",
      "\"some 'x' values beyond boundary knots may cause ill-conditioned bases\"\n",
      "Warning message in bs(dis, degree = 3L, knots = c(`25%` = 2.087875, `50%` = 3.20745, :\n",
      "\"some 'x' values beyond boundary knots may cause ill-conditioned bases\"\n",
      "Warning message in bs(dis, degree = 3L, knots = c(`25%` = 2.0941, `50%` = 3.2157, :\n",
      "\"some 'x' values beyond boundary knots may cause ill-conditioned bases\"\n",
      "Warning message in bs(dis, degree = 3L, knots = c(`25%` = 2.0941, `50%` = 3.2157, :\n",
      "\"some 'x' values beyond boundary knots may cause ill-conditioned bases\"\n",
      "Warning message in bs(dis, degree = 3L, knots = c(`20%` = 1.96376, `40%` = 2.66502, :\n",
      "\"some 'x' values beyond boundary knots may cause ill-conditioned bases\"\n",
      "Warning message in bs(dis, degree = 3L, knots = c(`20%` = 1.96376, `40%` = 2.66502, :\n",
      "\"some 'x' values beyond boundary knots may cause ill-conditioned bases\"\n",
      "Warning message in bs(dis, degree = 3L, knots = c(`16.66667%` = 1.81911666666667, :\n",
      "\"some 'x' values beyond boundary knots may cause ill-conditioned bases\"\n",
      "Warning message in bs(dis, degree = 3L, knots = c(`16.66667%` = 1.81911666666667, :\n",
      "\"some 'x' values beyond boundary knots may cause ill-conditioned bases\"\n",
      "Warning message in bs(dis, degree = 3L, knots = c(`16.66667%` = 1.86223333333333, :\n",
      "\"some 'x' values beyond boundary knots may cause ill-conditioned bases\"\n",
      "Warning message in bs(dis, degree = 3L, knots = c(`16.66667%` = 1.86223333333333, :\n",
      "\"some 'x' values beyond boundary knots may cause ill-conditioned bases\"\n",
      "Warning message in bs(dis, degree = 3L, knots = c(`14.28571%` = 1.8576, `28.57143%` = 2.2935, :\n",
      "\"some 'x' values beyond boundary knots may cause ill-conditioned bases\"\n",
      "Warning message in bs(dis, degree = 3L, knots = c(`14.28571%` = 1.8576, `28.57143%` = 2.2935, :\n",
      "\"some 'x' values beyond boundary knots may cause ill-conditioned bases\"\n",
      "Warning message in bs(dis, degree = 3L, knots = c(`14.28571%` = 1.78037142857143, :\n",
      "\"some 'x' values beyond boundary knots may cause ill-conditioned bases\"\n",
      "Warning message in bs(dis, degree = 3L, knots = c(`14.28571%` = 1.78037142857143, :\n",
      "\"some 'x' values beyond boundary knots may cause ill-conditioned bases\"\n",
      "Warning message in bs(dis, degree = 3L, knots = c(`12.5%` = 1.7455, `25%` = 2.0882, :\n",
      "\"some 'x' values beyond boundary knots may cause ill-conditioned bases\"\n",
      "Warning message in bs(dis, degree = 3L, knots = c(`12.5%` = 1.7455, `25%` = 2.0882, :\n",
      "\"some 'x' values beyond boundary knots may cause ill-conditioned bases\"\n",
      "Warning message in bs(dis, degree = 3L, knots = c(`12.5%` = 1.75675, `25%` = 2.10035, :\n",
      "\"some 'x' values beyond boundary knots may cause ill-conditioned bases\"\n",
      "Warning message in bs(dis, degree = 3L, knots = c(`12.5%` = 1.75675, `25%` = 2.10035, :\n",
      "\"some 'x' values beyond boundary knots may cause ill-conditioned bases\"\n",
      "Warning message in bs(dis, degree = 3L, knots = c(`11.11111%` = 1.74044444444444, :\n",
      "\"some 'x' values beyond boundary knots may cause ill-conditioned bases\"\n",
      "Warning message in bs(dis, degree = 3L, knots = c(`11.11111%` = 1.74044444444444, :\n",
      "\"some 'x' values beyond boundary knots may cause ill-conditioned bases\"\n",
      "Warning message in bs(dis, degree = 3L, knots = c(`11.11111%` = 1.6732, `22.22222%` = 2.04785555555556, :\n",
      "\"some 'x' values beyond boundary knots may cause ill-conditioned bases\"\n",
      "Warning message in bs(dis, degree = 3L, knots = c(`11.11111%` = 1.6732, `22.22222%` = 2.04785555555556, :\n",
      "\"some 'x' values beyond boundary knots may cause ill-conditioned bases\"\n",
      "Warning message in bs(dis, degree = 3L, knots = c(`10%` = 1.66864, `20%` = 1.96794, :\n",
      "\"some 'x' values beyond boundary knots may cause ill-conditioned bases\"\n",
      "Warning message in bs(dis, degree = 3L, knots = c(`10%` = 1.66864, `20%` = 1.96794, :\n",
      "\"some 'x' values beyond boundary knots may cause ill-conditioned bases\"\n",
      "Warning message in bs(dis, degree = 3L, knots = c(`10%` = 1.6206, `20%` = 1.9265, :\n",
      "\"some 'x' values beyond boundary knots may cause ill-conditioned bases\"\n",
      "Warning message in bs(dis, degree = 3L, knots = c(`10%` = 1.6206, `20%` = 1.9265, :\n",
      "\"some 'x' values beyond boundary knots may cause ill-conditioned bases\"\n",
      "Warning message in bs(dis, degree = 3L, knots = c(`9.090909%` = 1.66198181818182, :\n",
      "\"some 'x' values beyond boundary knots may cause ill-conditioned bases\"\n",
      "Warning message in bs(dis, degree = 3L, knots = c(`9.090909%` = 1.66198181818182, :\n",
      "\"some 'x' values beyond boundary knots may cause ill-conditioned bases\"\n",
      "Warning message in bs(dis, degree = 3L, knots = c(`8.333333%` = 1.57598333333333, :\n",
      "\"some 'x' values beyond boundary knots may cause ill-conditioned bases\"\n",
      "Warning message in bs(dis, degree = 3L, knots = c(`8.333333%` = 1.57598333333333, :\n",
      "\"some 'x' values beyond boundary knots may cause ill-conditioned bases\"\n",
      "Warning message in bs(dis, degree = 3L, knots = c(`8.333333%` = 1.58949166666667, :\n",
      "\"some 'x' values beyond boundary knots may cause ill-conditioned bases\"\n",
      "Warning message in bs(dis, degree = 3L, knots = c(`8.333333%` = 1.58949166666667, :\n",
      "\"some 'x' values beyond boundary knots may cause ill-conditioned bases\"\n",
      "Warning message in bs(dis, degree = 3L, knots = c(`7.692308%` = 1.53283076923077, :\n",
      "\"some 'x' values beyond boundary knots may cause ill-conditioned bases\"\n",
      "Warning message in bs(dis, degree = 3L, knots = c(`7.692308%` = 1.53283076923077, :\n",
      "\"some 'x' values beyond boundary knots may cause ill-conditioned bases\"\n",
      "Warning message in bs(dis, degree = 3L, knots = c(`7.692308%` = 1.57991538461538, :\n",
      "\"some 'x' values beyond boundary knots may cause ill-conditioned bases\"\n",
      "Warning message in bs(dis, degree = 3L, knots = c(`7.692308%` = 1.57991538461538, :\n",
      "\"some 'x' values beyond boundary knots may cause ill-conditioned bases\"\n",
      "Warning message in bs(dis, degree = 3L, knots = c(`7.142857%` = 1.52198571428571, :\n",
      "\"some 'x' values beyond boundary knots may cause ill-conditioned bases\"\n",
      "Warning message in bs(dis, degree = 3L, knots = c(`7.142857%` = 1.52198571428571, :\n",
      "\"some 'x' values beyond boundary knots may cause ill-conditioned bases\"\n",
      "Warning message in bs(dis, degree = 3L, knots = c(`7.142857%` = 1.52647142857143, :\n",
      "\"some 'x' values beyond boundary knots may cause ill-conditioned bases\"\n",
      "Warning message in bs(dis, degree = 3L, knots = c(`7.142857%` = 1.52647142857143, :\n",
      "\"some 'x' values beyond boundary knots may cause ill-conditioned bases\"\n"
     ]
    },
    {
     "data": {
      "image/png": "[encoded data removed]",
      "text/plain": [
       "plot without title"
      ]
     },
     "metadata": {
      "image/png": {
       "height": 420,
       "width": 420
      }
     },
     "output_type": "display_data"
    }
   ],
   "source": [
    "#f)\n",
    "results = rep(NA, 16)\n",
    "for (i in 3:16) {\n",
    "    splines_fit = glm(nox ~ bs(dis, df = i), data = Boston)\n",
    "    results[i] = cv.glm(Boston, splines_fit, K = 10)$delta[2]\n",
    "}\n",
    "\n",
    "plot(results[3:16], type = \"l\")\n"
   ]
  },
  {
   "cell_type": "markdown",
   "id": "91fe54a8",
   "metadata": {},
   "source": [
    "The minimum value is obtained when df=6"
   ]
  },
  {
   "cell_type": "markdown",
   "id": "876f7519",
   "metadata": {},
   "source": [
    "### 10. Chapter 7 \n",
    "This question relates to the College data set.\n",
    "\n",
    "(a) Split the data into a training set and a test set. Using out-of-state\n",
    "tuition as the response and the other variables as the predictors,\n",
    "perform forward stepwise selection on the training set in order\n",
    "to identify a satisfactory model that uses just a subset of the\n",
    "predictors.\n",
    "\n",
    "(b) Fit a GAM on the training data, using out-of-state tuition as\n",
    "the response and the features selected in the previous step as\n",
    "the predictors. Plot the results, and explain your findings.\n",
    "\n",
    "(c) Evaluate the model obtained on the test set, and explain the\n",
    "results obtained.\n",
    "\n",
    "(d) For which variables, if any, is there evidence of a non-linear\n",
    "relationship with the response?"
   ]
  },
  {
   "cell_type": "code",
   "execution_count": 110,
   "id": "a46cbefe",
   "metadata": {},
   "outputs": [
    {
     "name": "stdout",
     "output_type": "stream",
     "text": [
      "package 'leaps' successfully unpacked and MD5 sums checked\n",
      "\n",
      "The downloaded binary packages are in\n",
      "\tC:\\Users\\mserrano\\AppData\\Local\\Temp\\RtmpoL7nNL\\downloaded_packages\n"
     ]
    }
   ],
   "source": [
    "#install.packages(\"leaps\")"
   ]
  },
  {
   "cell_type": "code",
   "execution_count": 132,
   "id": "b33d5808",
   "metadata": {},
   "outputs": [],
   "source": [
    "library(leaps)\n",
    "\n",
    "#a)\n",
    "\n",
    "set.seed(42)\n",
    "train<-sample(nrow(College),nrow(College)*0.75)\n",
    "test<-c(1:nrow(College))[!c(1:nrow(College))%in%train]\n",
    "\n",
    "train<-College[train,]\n",
    "test<-College[test,]"
   ]
  },
  {
   "cell_type": "code",
   "execution_count": 133,
   "id": "72bd07de",
   "metadata": {},
   "outputs": [],
   "source": [
    "fit <- regsubsets(Outstate ~ ., data = train, nvmax = 17, method = \"forward\")\n",
    "reg_summary = summary(fit)"
   ]
  },
  {
   "cell_type": "code",
   "execution_count": 137,
   "id": "330ca8fa",
   "metadata": {},
   "outputs": [
    {
     "data": {
      "text/html": [
       "<style>\n",
       ".list-inline {list-style: none; margin:0; padding: 0}\n",
       ".list-inline>li {display: inline-block}\n",
       ".list-inline>li:not(:last-child)::after {content: \"\\00b7\"; padding: 0 .5ex}\n",
       "</style>\n",
       "<ol class=list-inline><li>825.696110778084</li><li>403.156072246405</li><li>243.165812865557</li><li>111.673009688879</li><li>65.2353393243176</li><li>49.8537322732325</li><li>46.11326268933</li><li>28.8166554121236</li><li>24.1645218977558</li><li>18.4996192549327</li><li>16.1268744334337</li><li>14.285181107159</li><li>13.3244807262587</li><li>12.9917830256456</li><li>14.0163263666386</li><li>16.0015981459536</li><li>18</li></ol>\n"
      ],
      "text/latex": [
       "\\begin{enumerate*}\n",
       "\\item 825.696110778084\n",
       "\\item 403.156072246405\n",
       "\\item 243.165812865557\n",
       "\\item 111.673009688879\n",
       "\\item 65.2353393243176\n",
       "\\item 49.8537322732325\n",
       "\\item 46.11326268933\n",
       "\\item 28.8166554121236\n",
       "\\item 24.1645218977558\n",
       "\\item 18.4996192549327\n",
       "\\item 16.1268744334337\n",
       "\\item 14.285181107159\n",
       "\\item 13.3244807262587\n",
       "\\item 12.9917830256456\n",
       "\\item 14.0163263666386\n",
       "\\item 16.0015981459536\n",
       "\\item 18\n",
       "\\end{enumerate*}\n"
      ],
      "text/markdown": [
       "1. 825.696110778084\n",
       "2. 403.156072246405\n",
       "3. 243.165812865557\n",
       "4. 111.673009688879\n",
       "5. 65.2353393243176\n",
       "6. 49.8537322732325\n",
       "7. 46.11326268933\n",
       "8. 28.8166554121236\n",
       "9. 24.1645218977558\n",
       "10. 18.4996192549327\n",
       "11. 16.1268744334337\n",
       "12. 14.285181107159\n",
       "13. 13.3244807262587\n",
       "14. 12.9917830256456\n",
       "15. 14.0163263666386\n",
       "16. 16.0015981459536\n",
       "17. 18\n",
       "\n",
       "\n"
      ],
      "text/plain": [
       " [1] 825.69611 403.15607 243.16581 111.67301  65.23534  49.85373  46.11326\n",
       " [8]  28.81666  24.16452  18.49962  16.12687  14.28518  13.32448  12.99178\n",
       "[15]  14.01633  16.00160  18.00000"
      ]
     },
     "metadata": {},
     "output_type": "display_data"
    },
    {
     "data": {
      "image/png": "[encoded data removed]",
      "text/plain": [
       "plot without title"
      ]
     },
     "metadata": {
      "image/png": {
       "height": 420,
       "width": 420
      }
     },
     "output_type": "display_data"
    },
    {
     "data": {
      "text/html": [
       "<style>\n",
       ".list-inline {list-style: none; margin:0; padding: 0}\n",
       ".list-inline>li {display: inline-block}\n",
       ".list-inline>li:not(:last-child)::after {content: \"\\00b7\"; padding: 0 .5ex}\n",
       "</style>\n",
       "<ol class=list-inline><li>-348.932671075987</li><li>-552.186925011751</li><li>-651.074585543045</li><li>-748.514962220977</li><li>-784.916298480966</li><li>-794.696715597966</li><li>-793.762874757286</li><li>-806.039124561503</li><li>-806.240329432905</li><li>-807.534501375143</li><li>-805.5839448585</li><li>-803.124937467779</li><li>-799.787856748263</li><li>-795.81935942137</li><li>-790.458578679644</li><li>-784.10730626069</li><li>-777.742484961234</li></ol>\n"
      ],
      "text/latex": [
       "\\begin{enumerate*}\n",
       "\\item -348.932671075987\n",
       "\\item -552.186925011751\n",
       "\\item -651.074585543045\n",
       "\\item -748.514962220977\n",
       "\\item -784.916298480966\n",
       "\\item -794.696715597966\n",
       "\\item -793.762874757286\n",
       "\\item -806.039124561503\n",
       "\\item -806.240329432905\n",
       "\\item -807.534501375143\n",
       "\\item -805.5839448585\n",
       "\\item -803.124937467779\n",
       "\\item -799.787856748263\n",
       "\\item -795.81935942137\n",
       "\\item -790.458578679644\n",
       "\\item -784.10730626069\n",
       "\\item -777.742484961234\n",
       "\\end{enumerate*}\n"
      ],
      "text/markdown": [
       "1. -348.932671075987\n",
       "2. -552.186925011751\n",
       "3. -651.074585543045\n",
       "4. -748.514962220977\n",
       "5. -784.916298480966\n",
       "6. -794.696715597966\n",
       "7. -793.762874757286\n",
       "8. -806.039124561503\n",
       "9. -806.240329432905\n",
       "10. -807.534501375143\n",
       "11. -805.5839448585\n",
       "12. -803.124937467779\n",
       "13. -799.787856748263\n",
       "14. -795.81935942137\n",
       "15. -790.458578679644\n",
       "16. -784.10730626069\n",
       "17. -777.742484961234\n",
       "\n",
       "\n"
      ],
      "text/plain": [
       " [1] -348.9327 -552.1869 -651.0746 -748.5150 -784.9163 -794.6967 -793.7629\n",
       " [8] -806.0391 -806.2403 -807.5345 -805.5839 -803.1249 -799.7879 -795.8194\n",
       "[15] -790.4586 -784.1073 -777.7425"
      ]
     },
     "metadata": {},
     "output_type": "display_data"
    },
    {
     "data": {
      "image/png": "[encoded data removed]",
      "text/plain": [
       "plot without title"
      ]
     },
     "metadata": {
      "image/png": {
       "height": 420,
       "width": 420
      }
     },
     "output_type": "display_data"
    },
    {
     "data": {
      "text/html": [
       "<style>\n",
       ".list-inline {list-style: none; margin:0; padding: 0}\n",
       ".list-inline>li {display: inline-block}\n",
       ".list-inline>li:not(:last-child)::after {content: \"\\00b7\"; padding: 0 .5ex}\n",
       "</style>\n",
       "<ol class=list-inline><li>0.461891961518216</li><li>0.623991437762261</li><li>0.685654876533353</li><li>0.736550730581739</li><li>0.754790922208221</li><li>0.761085666079744</li><li>0.762893055601571</li><li>0.769966995658154</li><li>0.772150606559775</li><li>0.774736231161661</li><li>0.776046735517212</li><li>0.777154331572564</li><li>0.777920963129158</li><li>0.77844403378417</li><li>0.778435783697506</li><li>0.77804943061321</li><li>0.777656531265565</li></ol>\n"
      ],
      "text/latex": [
       "\\begin{enumerate*}\n",
       "\\item 0.461891961518216\n",
       "\\item 0.623991437762261\n",
       "\\item 0.685654876533353\n",
       "\\item 0.736550730581739\n",
       "\\item 0.754790922208221\n",
       "\\item 0.761085666079744\n",
       "\\item 0.762893055601571\n",
       "\\item 0.769966995658154\n",
       "\\item 0.772150606559775\n",
       "\\item 0.774736231161661\n",
       "\\item 0.776046735517212\n",
       "\\item 0.777154331572564\n",
       "\\item 0.777920963129158\n",
       "\\item 0.77844403378417\n",
       "\\item 0.778435783697506\n",
       "\\item 0.77804943061321\n",
       "\\item 0.777656531265565\n",
       "\\end{enumerate*}\n"
      ],
      "text/markdown": [
       "1. 0.461891961518216\n",
       "2. 0.623991437762261\n",
       "3. 0.685654876533353\n",
       "4. 0.736550730581739\n",
       "5. 0.754790922208221\n",
       "6. 0.761085666079744\n",
       "7. 0.762893055601571\n",
       "8. 0.769966995658154\n",
       "9. 0.772150606559775\n",
       "10. 0.774736231161661\n",
       "11. 0.776046735517212\n",
       "12. 0.777154331572564\n",
       "13. 0.777920963129158\n",
       "14. 0.77844403378417\n",
       "15. 0.778435783697506\n",
       "16. 0.77804943061321\n",
       "17. 0.777656531265565\n",
       "\n",
       "\n"
      ],
      "text/plain": [
       " [1] 0.4618920 0.6239914 0.6856549 0.7365507 0.7547909 0.7610857 0.7628931\n",
       " [8] 0.7699670 0.7721506 0.7747362 0.7760467 0.7771543 0.7779210 0.7784440\n",
       "[15] 0.7784358 0.7780494 0.7776565"
      ]
     },
     "metadata": {},
     "output_type": "display_data"
    },
    {
     "data": {
      "image/png": "[encoded data removed]",
      "text/plain": [
       "plot without title"
      ]
     },
     "metadata": {
      "image/png": {
       "height": 420,
       "width": 420
      }
     },
     "output_type": "display_data"
    }
   ],
   "source": [
    "#par(mfrow = c(1, 3))\n",
    "\n",
    "plot(reg_summary$cp, xlab = \"Number Variables\", ylab = \"Cp\", type = \"l\")\n",
    "reg_summary$cp\n",
    "\n",
    "plot(reg_summary$bic, xlab = \"Number Variables\", ylab = \"BIC\", type = \"l\")\n",
    "reg_summary$bic\n",
    "\n",
    "plot(reg_summary$adjr2, xlab = \"Number Variables\", ylab = \"Adjusted R2\",type = \"l\")\n",
    "reg_summary$adjr2"
   ]
  },
  {
   "cell_type": "code",
   "execution_count": 139,
   "id": "3ef927b2",
   "metadata": {},
   "outputs": [
    {
     "data": {
      "text/html": [
       "<style>\n",
       ".list-inline {list-style: none; margin:0; padding: 0}\n",
       ".list-inline>li {display: inline-block}\n",
       ".list-inline>li:not(:last-child)::after {content: \"\\00b7\"; padding: 0 .5ex}\n",
       "</style>\n",
       "<ol class=list-inline><li>'(Intercept)'</li><li>'PrivateYes'</li><li>'Room.Board'</li><li>'Personal'</li><li>'PhD'</li><li>'perc.alumni'</li><li>'Expend'</li><li>'Grad.Rate'</li></ol>\n"
      ],
      "text/latex": [
       "\\begin{enumerate*}\n",
       "\\item '(Intercept)'\n",
       "\\item 'PrivateYes'\n",
       "\\item 'Room.Board'\n",
       "\\item 'Personal'\n",
       "\\item 'PhD'\n",
       "\\item 'perc.alumni'\n",
       "\\item 'Expend'\n",
       "\\item 'Grad.Rate'\n",
       "\\end{enumerate*}\n"
      ],
      "text/markdown": [
       "1. '(Intercept)'\n",
       "2. 'PrivateYes'\n",
       "3. 'Room.Board'\n",
       "4. 'Personal'\n",
       "5. 'PhD'\n",
       "6. 'perc.alumni'\n",
       "7. 'Expend'\n",
       "8. 'Grad.Rate'\n",
       "\n",
       "\n"
      ],
      "text/plain": [
       "[1] \"(Intercept)\" \"PrivateYes\"  \"Room.Board\"  \"Personal\"    \"PhD\"        \n",
       "[6] \"perc.alumni\" \"Expend\"      \"Grad.Rate\"  "
      ]
     },
     "metadata": {},
     "output_type": "display_data"
    }
   ],
   "source": [
    "#looks like we can select 7 \n",
    "selected <- coef(reg_fit, id = 7)\n",
    "names(selected)"
   ]
  },
  {
   "cell_type": "code",
   "execution_count": 156,
   "id": "3c7a9c0b",
   "metadata": {},
   "outputs": [
    {
     "data": {
      "image/png": "[encoded data removed]",
      "text/plain": [
       "plot without title"
      ]
     },
     "metadata": {
      "image/png": {
       "height": 420,
       "width": 420
      }
     },
     "output_type": "display_data"
    }
   ],
   "source": [
    "#b) #install.packages(\"gam\")\n",
    "library(gam)\n",
    "\n",
    "gam_fit <- gam(Outstate ~ Private + s(Room.Board, df = 5) +  s(Personal, df = 5) + s(PhD, df = 5) + s(perc.alumni, df = 5) +\n",
    "               s(Expend, df = 5) + s(Grad.Rate, df = 5), data = train)\n",
    "\n",
    "par(mfrow=c(3,3))\n",
    "plot(gam_fit)\n"
   ]
  },
  {
   "cell_type": "code",
   "execution_count": 157,
   "id": "a1220c44",
   "metadata": {},
   "outputs": [],
   "source": [
    "#c)\n",
    "gam_pred <- predict(gam_fit, test)\n",
    "err<-mean((test$Outstate - gam_pred)^2)"
   ]
  },
  {
   "cell_type": "code",
   "execution_count": 158,
   "id": "b2d397c4",
   "metadata": {},
   "outputs": [
    {
     "data": {
      "text/html": [
       "0.748256750744755"
      ],
      "text/latex": [
       "0.748256750744755"
      ],
      "text/markdown": [
       "0.748256750744755"
      ],
      "text/plain": [
       "[1] 0.7482568"
      ]
     },
     "metadata": {},
     "output_type": "display_data"
    }
   ],
   "source": [
    "tss = mean((test$Outstate - mean(test$Outstate))^2)\n",
    "1 - err/tss"
   ]
  },
  {
   "cell_type": "markdown",
   "id": "3dde7579",
   "metadata": {},
   "source": [
    "There is no improvement with the GAM model in relation with the OLS with 7 variables. The OLS showed an R squared of 0.76."
   ]
  },
  {
   "cell_type": "code",
   "execution_count": 159,
   "id": "9a556cc2",
   "metadata": {},
   "outputs": [
    {
     "data": {
      "text/plain": [
       "\n",
       "Call: gam(formula = Outstate ~ Private + s(Room.Board, df = 5) + s(Personal, \n",
       "    df = 5) + s(PhD, df = 5) + s(perc.alumni, df = 5) + s(Expend, \n",
       "    df = 5) + s(Grad.Rate, df = 5), data = train)\n",
       "Deviance Residuals:\n",
       "     Min       1Q   Median       3Q      Max \n",
       "-6122.80 -1134.83    47.68  1205.12  4441.25 \n",
       "\n",
       "(Dispersion Parameter for gaussian family taken to be 3250461)\n",
       "\n",
       "    Null Deviance: 9447464234 on 581 degrees of freedom\n",
       "Residual Deviance: 1787751532 on 549.9993 degrees of freedom\n",
       "AIC: 10411.42 \n",
       "\n",
       "Number of Local Scoring Iterations: NA \n",
       "\n",
       "Anova for Parametric Effects\n",
       "                        Df     Sum Sq    Mean Sq  F value    Pr(>F)    \n",
       "Private                  1 2673997513 2673997513 822.6517 < 2.2e-16 ***\n",
       "s(Room.Board, df = 5)    1 2024196109 2024196109 622.7411 < 2.2e-16 ***\n",
       "s(Personal, df = 5)      1   24903250   24903250   7.6615  0.005831 ** \n",
       "s(PhD, df = 5)           1  555943706  555943706 171.0353 < 2.2e-16 ***\n",
       "s(perc.alumni, df = 5)   1  356060138  356060138 109.5414 < 2.2e-16 ***\n",
       "s(Expend, df = 5)        1  696778842  696778842 214.3631 < 2.2e-16 ***\n",
       "s(Grad.Rate, df = 5)     1   79154019   79154019  24.3516 1.065e-06 ***\n",
       "Residuals              550 1787751532    3250461                       \n",
       "---\n",
       "Signif. codes:  0 '***' 0.001 '**' 0.01 '*' 0.05 '.' 0.1 ' ' 1\n",
       "\n",
       "Anova for Nonparametric Effects\n",
       "                       Npar Df  Npar F   Pr(F)    \n",
       "(Intercept)                                       \n",
       "Private                                           \n",
       "s(Room.Board, df = 5)        4  1.3207 0.26098    \n",
       "s(Personal, df = 5)          4  2.6952 0.03020 *  \n",
       "s(PhD, df = 5)               4  0.7756 0.54133    \n",
       "s(perc.alumni, df = 5)       4  1.9118 0.10702    \n",
       "s(Expend, df = 5)            4 21.8726 < 2e-16 ***\n",
       "s(Grad.Rate, df = 5)         4  2.5230 0.04012 *  \n",
       "---\n",
       "Signif. codes:  0 '***' 0.001 '**' 0.01 '*' 0.05 '.' 0.1 ' ' 1"
      ]
     },
     "metadata": {},
     "output_type": "display_data"
    }
   ],
   "source": [
    "summary(gam_fit)"
   ]
  },
  {
   "cell_type": "markdown",
   "id": "4c386b23",
   "metadata": {},
   "source": [
    "If we see the anova for nonparametric effects, we can see that Personal, expend and grad rate show evidence of a non linear relationship."
   ]
  }
 ],
 "metadata": {
  "kernelspec": {
   "display_name": "R",
   "language": "R",
   "name": "ir"
  },
  "language_info": {
   "codemirror_mode": "r",
   "file_extension": ".r",
   "mimetype": "text/x-r-source",
   "name": "R",
   "pygments_lexer": "r",
   "version": "4.0.5"
  }
 },
 "nbformat": 4,
 "nbformat_minor": 5
}
