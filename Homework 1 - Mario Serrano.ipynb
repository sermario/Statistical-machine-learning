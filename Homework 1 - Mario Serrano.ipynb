{
 "cells": [
  {
   "cell_type": "markdown",
   "id": "036d8fe1",
   "metadata": {},
   "source": [
    "## Homework 1\n",
    "\n",
    "2. Explain whether each scenario is a classification or regression problem, and indicate whether we are most interested in inference or prediction. Finally, provide n and p.\n",
    "- a) This is a *regression* problem. For this case we are interested in inference to understand the factors that affect the CEO salary. n is the 500 firms in the US and p are the variables profit, number of employees and industry.\n",
    "- b) This is a *classification* problem and we are interested in a prediction to see if the product is going to be a success or a failure. n are the 20 products we use the info of and p are the variables price, mkt budget and others.\n",
    "- c) This is a *regression* problem, and we are interested in a prediction to get the %change in the USD/Euro. n is the data from 2012 of every week and p are the %change  in the USD/Euro, %change in the US market, %change in the British market, and %change in the German market. "
   ]
  },
  {
   "cell_type": "markdown",
   "id": "d41581ae",
   "metadata": {},
   "source": [
    "10. This exercise involves the Boston housing data set.\n",
    "\n",
    "- (a) To begin, load in the Boston data set. The Boston data set is\n",
    "part of the MASS library in R.\n",
    "How many rows are in this data set? How many columns? What\n",
    "do the rows and columns represent?\n",
    "- (b) Make some pairwise scatterplots of the predictors (columns) in\n",
    "this data set. Describe your findings.\n",
    "- (c) Are any of the predictors associated with per capita crime rate?\n",
    "If so, explain the relationship.\n",
    "- (d) Do any of the suburbs of Boston appear to have particularly\n",
    "high crime rates? Tax rates? Pupil-teacher ratios? Comment on\n",
    "the range of each predictor.\n",
    "- (e) How many of the suburbs in this data set bound the Charles\n",
    "river?"
   ]
  },
  {
   "cell_type": "code",
   "execution_count": 5,
   "id": "ea283e8b",
   "metadata": {},
   "outputs": [
    {
     "data": {
      "text/html": [
       "506"
      ],
      "text/latex": [
       "506"
      ],
      "text/markdown": [
       "506"
      ],
      "text/plain": [
       "[1] 506"
      ]
     },
     "metadata": {},
     "output_type": "display_data"
    },
    {
     "data": {
      "text/html": [
       "14"
      ],
      "text/latex": [
       "14"
      ],
      "text/markdown": [
       "14"
      ],
      "text/plain": [
       "[1] 14"
      ]
     },
     "metadata": {},
     "output_type": "display_data"
    }
   ],
   "source": [
    "library(MASS)\n",
    "#?Boston\n",
    "nrow(Boston);ncol(Boston)  "
   ]
  },
  {
   "cell_type": "markdown",
   "id": "abd5f4e1",
   "metadata": {},
   "source": [
    "a) The set has 506 rows and 14 columns. The rows represent housing values in suburbs of Boston and the columns refer to different variables that influence the house values."
   ]
  },
  {
   "cell_type": "code",
   "execution_count": 12,
   "id": "4b813d9e",
   "metadata": {
    "scrolled": true
   },
   "outputs": [
    {
     "data": {
      "text/html": [
       "<table class=\"dataframe\">\n",
       "<caption>A matrix: 14 × 14 of type dbl</caption>\n",
       "<thead>\n",
       "\t<tr><th></th><th scope=col>crim</th><th scope=col>zn</th><th scope=col>indus</th><th scope=col>chas</th><th scope=col>nox</th><th scope=col>rm</th><th scope=col>age</th><th scope=col>dis</th><th scope=col>rad</th><th scope=col>tax</th><th scope=col>ptratio</th><th scope=col>black</th><th scope=col>lstat</th><th scope=col>medv</th></tr>\n",
       "</thead>\n",
       "<tbody>\n",
       "\t<tr><th scope=row>crim</th><td> 1.00000000</td><td>-0.20046922</td><td> 0.40658341</td><td>-0.055891582</td><td> 0.42097171</td><td>-0.21924670</td><td> 0.35273425</td><td>-0.37967009</td><td> 0.625505145</td><td> 0.58276431</td><td> 0.2899456</td><td>-0.38506394</td><td> 0.4556215</td><td>-0.3883046</td></tr>\n",
       "\t<tr><th scope=row>zn</th><td>-0.20046922</td><td> 1.00000000</td><td>-0.53382819</td><td>-0.042696719</td><td>-0.51660371</td><td> 0.31199059</td><td>-0.56953734</td><td> 0.66440822</td><td>-0.311947826</td><td>-0.31456332</td><td>-0.3916785</td><td> 0.17552032</td><td>-0.4129946</td><td> 0.3604453</td></tr>\n",
       "\t<tr><th scope=row>indus</th><td> 0.40658341</td><td>-0.53382819</td><td> 1.00000000</td><td> 0.062938027</td><td> 0.76365145</td><td>-0.39167585</td><td> 0.64477851</td><td>-0.70802699</td><td> 0.595129275</td><td> 0.72076018</td><td> 0.3832476</td><td>-0.35697654</td><td> 0.6037997</td><td>-0.4837252</td></tr>\n",
       "\t<tr><th scope=row>chas</th><td>-0.05589158</td><td>-0.04269672</td><td> 0.06293803</td><td> 1.000000000</td><td> 0.09120281</td><td> 0.09125123</td><td> 0.08651777</td><td>-0.09917578</td><td>-0.007368241</td><td>-0.03558652</td><td>-0.1215152</td><td> 0.04878848</td><td>-0.0539293</td><td> 0.1752602</td></tr>\n",
       "\t<tr><th scope=row>nox</th><td> 0.42097171</td><td>-0.51660371</td><td> 0.76365145</td><td> 0.091202807</td><td> 1.00000000</td><td>-0.30218819</td><td> 0.73147010</td><td>-0.76923011</td><td> 0.611440563</td><td> 0.66802320</td><td> 0.1889327</td><td>-0.38005064</td><td> 0.5908789</td><td>-0.4273208</td></tr>\n",
       "\t<tr><th scope=row>rm</th><td>-0.21924670</td><td> 0.31199059</td><td>-0.39167585</td><td> 0.091251225</td><td>-0.30218819</td><td> 1.00000000</td><td>-0.24026493</td><td> 0.20524621</td><td>-0.209846668</td><td>-0.29204783</td><td>-0.3555015</td><td> 0.12806864</td><td>-0.6138083</td><td> 0.6953599</td></tr>\n",
       "\t<tr><th scope=row>age</th><td> 0.35273425</td><td>-0.56953734</td><td> 0.64477851</td><td> 0.086517774</td><td> 0.73147010</td><td>-0.24026493</td><td> 1.00000000</td><td>-0.74788054</td><td> 0.456022452</td><td> 0.50645559</td><td> 0.2615150</td><td>-0.27353398</td><td> 0.6023385</td><td>-0.3769546</td></tr>\n",
       "\t<tr><th scope=row>dis</th><td>-0.37967009</td><td> 0.66440822</td><td>-0.70802699</td><td>-0.099175780</td><td>-0.76923011</td><td> 0.20524621</td><td>-0.74788054</td><td> 1.00000000</td><td>-0.494587930</td><td>-0.53443158</td><td>-0.2324705</td><td> 0.29151167</td><td>-0.4969958</td><td> 0.2499287</td></tr>\n",
       "\t<tr><th scope=row>rad</th><td> 0.62550515</td><td>-0.31194783</td><td> 0.59512927</td><td>-0.007368241</td><td> 0.61144056</td><td>-0.20984667</td><td> 0.45602245</td><td>-0.49458793</td><td> 1.000000000</td><td> 0.91022819</td><td> 0.4647412</td><td>-0.44441282</td><td> 0.4886763</td><td>-0.3816262</td></tr>\n",
       "\t<tr><th scope=row>tax</th><td> 0.58276431</td><td>-0.31456332</td><td> 0.72076018</td><td>-0.035586518</td><td> 0.66802320</td><td>-0.29204783</td><td> 0.50645559</td><td>-0.53443158</td><td> 0.910228189</td><td> 1.00000000</td><td> 0.4608530</td><td>-0.44180801</td><td> 0.5439934</td><td>-0.4685359</td></tr>\n",
       "\t<tr><th scope=row>ptratio</th><td> 0.28994558</td><td>-0.39167855</td><td> 0.38324756</td><td>-0.121515174</td><td> 0.18893268</td><td>-0.35550149</td><td> 0.26151501</td><td>-0.23247054</td><td> 0.464741179</td><td> 0.46085304</td><td> 1.0000000</td><td>-0.17738330</td><td> 0.3740443</td><td>-0.5077867</td></tr>\n",
       "\t<tr><th scope=row>black</th><td>-0.38506394</td><td> 0.17552032</td><td>-0.35697654</td><td> 0.048788485</td><td>-0.38005064</td><td> 0.12806864</td><td>-0.27353398</td><td> 0.29151167</td><td>-0.444412816</td><td>-0.44180801</td><td>-0.1773833</td><td> 1.00000000</td><td>-0.3660869</td><td> 0.3334608</td></tr>\n",
       "\t<tr><th scope=row>lstat</th><td> 0.45562148</td><td>-0.41299457</td><td> 0.60379972</td><td>-0.053929298</td><td> 0.59087892</td><td>-0.61380827</td><td> 0.60233853</td><td>-0.49699583</td><td> 0.488676335</td><td> 0.54399341</td><td> 0.3740443</td><td>-0.36608690</td><td> 1.0000000</td><td>-0.7376627</td></tr>\n",
       "\t<tr><th scope=row>medv</th><td>-0.38830461</td><td> 0.36044534</td><td>-0.48372516</td><td> 0.175260177</td><td>-0.42732077</td><td> 0.69535995</td><td>-0.37695457</td><td> 0.24992873</td><td>-0.381626231</td><td>-0.46853593</td><td>-0.5077867</td><td> 0.33346082</td><td>-0.7376627</td><td> 1.0000000</td></tr>\n",
       "</tbody>\n",
       "</table>\n"
      ],
      "text/latex": [
       "A matrix: 14 × 14 of type dbl\n",
       "\\begin{tabular}{r|llllllllllllll}\n",
       "  & crim & zn & indus & chas & nox & rm & age & dis & rad & tax & ptratio & black & lstat & medv\\\\\n",
       "\\hline\n",
       "\tcrim &  1.00000000 & -0.20046922 &  0.40658341 & -0.055891582 &  0.42097171 & -0.21924670 &  0.35273425 & -0.37967009 &  0.625505145 &  0.58276431 &  0.2899456 & -0.38506394 &  0.4556215 & -0.3883046\\\\\n",
       "\tzn & -0.20046922 &  1.00000000 & -0.53382819 & -0.042696719 & -0.51660371 &  0.31199059 & -0.56953734 &  0.66440822 & -0.311947826 & -0.31456332 & -0.3916785 &  0.17552032 & -0.4129946 &  0.3604453\\\\\n",
       "\tindus &  0.40658341 & -0.53382819 &  1.00000000 &  0.062938027 &  0.76365145 & -0.39167585 &  0.64477851 & -0.70802699 &  0.595129275 &  0.72076018 &  0.3832476 & -0.35697654 &  0.6037997 & -0.4837252\\\\\n",
       "\tchas & -0.05589158 & -0.04269672 &  0.06293803 &  1.000000000 &  0.09120281 &  0.09125123 &  0.08651777 & -0.09917578 & -0.007368241 & -0.03558652 & -0.1215152 &  0.04878848 & -0.0539293 &  0.1752602\\\\\n",
       "\tnox &  0.42097171 & -0.51660371 &  0.76365145 &  0.091202807 &  1.00000000 & -0.30218819 &  0.73147010 & -0.76923011 &  0.611440563 &  0.66802320 &  0.1889327 & -0.38005064 &  0.5908789 & -0.4273208\\\\\n",
       "\trm & -0.21924670 &  0.31199059 & -0.39167585 &  0.091251225 & -0.30218819 &  1.00000000 & -0.24026493 &  0.20524621 & -0.209846668 & -0.29204783 & -0.3555015 &  0.12806864 & -0.6138083 &  0.6953599\\\\\n",
       "\tage &  0.35273425 & -0.56953734 &  0.64477851 &  0.086517774 &  0.73147010 & -0.24026493 &  1.00000000 & -0.74788054 &  0.456022452 &  0.50645559 &  0.2615150 & -0.27353398 &  0.6023385 & -0.3769546\\\\\n",
       "\tdis & -0.37967009 &  0.66440822 & -0.70802699 & -0.099175780 & -0.76923011 &  0.20524621 & -0.74788054 &  1.00000000 & -0.494587930 & -0.53443158 & -0.2324705 &  0.29151167 & -0.4969958 &  0.2499287\\\\\n",
       "\trad &  0.62550515 & -0.31194783 &  0.59512927 & -0.007368241 &  0.61144056 & -0.20984667 &  0.45602245 & -0.49458793 &  1.000000000 &  0.91022819 &  0.4647412 & -0.44441282 &  0.4886763 & -0.3816262\\\\\n",
       "\ttax &  0.58276431 & -0.31456332 &  0.72076018 & -0.035586518 &  0.66802320 & -0.29204783 &  0.50645559 & -0.53443158 &  0.910228189 &  1.00000000 &  0.4608530 & -0.44180801 &  0.5439934 & -0.4685359\\\\\n",
       "\tptratio &  0.28994558 & -0.39167855 &  0.38324756 & -0.121515174 &  0.18893268 & -0.35550149 &  0.26151501 & -0.23247054 &  0.464741179 &  0.46085304 &  1.0000000 & -0.17738330 &  0.3740443 & -0.5077867\\\\\n",
       "\tblack & -0.38506394 &  0.17552032 & -0.35697654 &  0.048788485 & -0.38005064 &  0.12806864 & -0.27353398 &  0.29151167 & -0.444412816 & -0.44180801 & -0.1773833 &  1.00000000 & -0.3660869 &  0.3334608\\\\\n",
       "\tlstat &  0.45562148 & -0.41299457 &  0.60379972 & -0.053929298 &  0.59087892 & -0.61380827 &  0.60233853 & -0.49699583 &  0.488676335 &  0.54399341 &  0.3740443 & -0.36608690 &  1.0000000 & -0.7376627\\\\\n",
       "\tmedv & -0.38830461 &  0.36044534 & -0.48372516 &  0.175260177 & -0.42732077 &  0.69535995 & -0.37695457 &  0.24992873 & -0.381626231 & -0.46853593 & -0.5077867 &  0.33346082 & -0.7376627 &  1.0000000\\\\\n",
       "\\end{tabular}\n"
      ],
      "text/markdown": [
       "\n",
       "A matrix: 14 × 14 of type dbl\n",
       "\n",
       "| <!--/--> | crim | zn | indus | chas | nox | rm | age | dis | rad | tax | ptratio | black | lstat | medv |\n",
       "|---|---|---|---|---|---|---|---|---|---|---|---|---|---|---|\n",
       "| crim |  1.00000000 | -0.20046922 |  0.40658341 | -0.055891582 |  0.42097171 | -0.21924670 |  0.35273425 | -0.37967009 |  0.625505145 |  0.58276431 |  0.2899456 | -0.38506394 |  0.4556215 | -0.3883046 |\n",
       "| zn | -0.20046922 |  1.00000000 | -0.53382819 | -0.042696719 | -0.51660371 |  0.31199059 | -0.56953734 |  0.66440822 | -0.311947826 | -0.31456332 | -0.3916785 |  0.17552032 | -0.4129946 |  0.3604453 |\n",
       "| indus |  0.40658341 | -0.53382819 |  1.00000000 |  0.062938027 |  0.76365145 | -0.39167585 |  0.64477851 | -0.70802699 |  0.595129275 |  0.72076018 |  0.3832476 | -0.35697654 |  0.6037997 | -0.4837252 |\n",
       "| chas | -0.05589158 | -0.04269672 |  0.06293803 |  1.000000000 |  0.09120281 |  0.09125123 |  0.08651777 | -0.09917578 | -0.007368241 | -0.03558652 | -0.1215152 |  0.04878848 | -0.0539293 |  0.1752602 |\n",
       "| nox |  0.42097171 | -0.51660371 |  0.76365145 |  0.091202807 |  1.00000000 | -0.30218819 |  0.73147010 | -0.76923011 |  0.611440563 |  0.66802320 |  0.1889327 | -0.38005064 |  0.5908789 | -0.4273208 |\n",
       "| rm | -0.21924670 |  0.31199059 | -0.39167585 |  0.091251225 | -0.30218819 |  1.00000000 | -0.24026493 |  0.20524621 | -0.209846668 | -0.29204783 | -0.3555015 |  0.12806864 | -0.6138083 |  0.6953599 |\n",
       "| age |  0.35273425 | -0.56953734 |  0.64477851 |  0.086517774 |  0.73147010 | -0.24026493 |  1.00000000 | -0.74788054 |  0.456022452 |  0.50645559 |  0.2615150 | -0.27353398 |  0.6023385 | -0.3769546 |\n",
       "| dis | -0.37967009 |  0.66440822 | -0.70802699 | -0.099175780 | -0.76923011 |  0.20524621 | -0.74788054 |  1.00000000 | -0.494587930 | -0.53443158 | -0.2324705 |  0.29151167 | -0.4969958 |  0.2499287 |\n",
       "| rad |  0.62550515 | -0.31194783 |  0.59512927 | -0.007368241 |  0.61144056 | -0.20984667 |  0.45602245 | -0.49458793 |  1.000000000 |  0.91022819 |  0.4647412 | -0.44441282 |  0.4886763 | -0.3816262 |\n",
       "| tax |  0.58276431 | -0.31456332 |  0.72076018 | -0.035586518 |  0.66802320 | -0.29204783 |  0.50645559 | -0.53443158 |  0.910228189 |  1.00000000 |  0.4608530 | -0.44180801 |  0.5439934 | -0.4685359 |\n",
       "| ptratio |  0.28994558 | -0.39167855 |  0.38324756 | -0.121515174 |  0.18893268 | -0.35550149 |  0.26151501 | -0.23247054 |  0.464741179 |  0.46085304 |  1.0000000 | -0.17738330 |  0.3740443 | -0.5077867 |\n",
       "| black | -0.38506394 |  0.17552032 | -0.35697654 |  0.048788485 | -0.38005064 |  0.12806864 | -0.27353398 |  0.29151167 | -0.444412816 | -0.44180801 | -0.1773833 |  1.00000000 | -0.3660869 |  0.3334608 |\n",
       "| lstat |  0.45562148 | -0.41299457 |  0.60379972 | -0.053929298 |  0.59087892 | -0.61380827 |  0.60233853 | -0.49699583 |  0.488676335 |  0.54399341 |  0.3740443 | -0.36608690 |  1.0000000 | -0.7376627 |\n",
       "| medv | -0.38830461 |  0.36044534 | -0.48372516 |  0.175260177 | -0.42732077 |  0.69535995 | -0.37695457 |  0.24992873 | -0.381626231 | -0.46853593 | -0.5077867 |  0.33346082 | -0.7376627 |  1.0000000 |\n",
       "\n"
      ],
      "text/plain": [
       "        crim        zn          indus       chas         nox        \n",
       "crim     1.00000000 -0.20046922  0.40658341 -0.055891582  0.42097171\n",
       "zn      -0.20046922  1.00000000 -0.53382819 -0.042696719 -0.51660371\n",
       "indus    0.40658341 -0.53382819  1.00000000  0.062938027  0.76365145\n",
       "chas    -0.05589158 -0.04269672  0.06293803  1.000000000  0.09120281\n",
       "nox      0.42097171 -0.51660371  0.76365145  0.091202807  1.00000000\n",
       "rm      -0.21924670  0.31199059 -0.39167585  0.091251225 -0.30218819\n",
       "age      0.35273425 -0.56953734  0.64477851  0.086517774  0.73147010\n",
       "dis     -0.37967009  0.66440822 -0.70802699 -0.099175780 -0.76923011\n",
       "rad      0.62550515 -0.31194783  0.59512927 -0.007368241  0.61144056\n",
       "tax      0.58276431 -0.31456332  0.72076018 -0.035586518  0.66802320\n",
       "ptratio  0.28994558 -0.39167855  0.38324756 -0.121515174  0.18893268\n",
       "black   -0.38506394  0.17552032 -0.35697654  0.048788485 -0.38005064\n",
       "lstat    0.45562148 -0.41299457  0.60379972 -0.053929298  0.59087892\n",
       "medv    -0.38830461  0.36044534 -0.48372516  0.175260177 -0.42732077\n",
       "        rm          age         dis         rad          tax         ptratio   \n",
       "crim    -0.21924670  0.35273425 -0.37967009  0.625505145  0.58276431  0.2899456\n",
       "zn       0.31199059 -0.56953734  0.66440822 -0.311947826 -0.31456332 -0.3916785\n",
       "indus   -0.39167585  0.64477851 -0.70802699  0.595129275  0.72076018  0.3832476\n",
       "chas     0.09125123  0.08651777 -0.09917578 -0.007368241 -0.03558652 -0.1215152\n",
       "nox     -0.30218819  0.73147010 -0.76923011  0.611440563  0.66802320  0.1889327\n",
       "rm       1.00000000 -0.24026493  0.20524621 -0.209846668 -0.29204783 -0.3555015\n",
       "age     -0.24026493  1.00000000 -0.74788054  0.456022452  0.50645559  0.2615150\n",
       "dis      0.20524621 -0.74788054  1.00000000 -0.494587930 -0.53443158 -0.2324705\n",
       "rad     -0.20984667  0.45602245 -0.49458793  1.000000000  0.91022819  0.4647412\n",
       "tax     -0.29204783  0.50645559 -0.53443158  0.910228189  1.00000000  0.4608530\n",
       "ptratio -0.35550149  0.26151501 -0.23247054  0.464741179  0.46085304  1.0000000\n",
       "black    0.12806864 -0.27353398  0.29151167 -0.444412816 -0.44180801 -0.1773833\n",
       "lstat   -0.61380827  0.60233853 -0.49699583  0.488676335  0.54399341  0.3740443\n",
       "medv     0.69535995 -0.37695457  0.24992873 -0.381626231 -0.46853593 -0.5077867\n",
       "        black       lstat      medv      \n",
       "crim    -0.38506394  0.4556215 -0.3883046\n",
       "zn       0.17552032 -0.4129946  0.3604453\n",
       "indus   -0.35697654  0.6037997 -0.4837252\n",
       "chas     0.04878848 -0.0539293  0.1752602\n",
       "nox     -0.38005064  0.5908789 -0.4273208\n",
       "rm       0.12806864 -0.6138083  0.6953599\n",
       "age     -0.27353398  0.6023385 -0.3769546\n",
       "dis      0.29151167 -0.4969958  0.2499287\n",
       "rad     -0.44441282  0.4886763 -0.3816262\n",
       "tax     -0.44180801  0.5439934 -0.4685359\n",
       "ptratio -0.17738330  0.3740443 -0.5077867\n",
       "black    1.00000000 -0.3660869  0.3334608\n",
       "lstat   -0.36608690  1.0000000 -0.7376627\n",
       "medv     0.33346082 -0.7376627  1.0000000"
      ]
     },
     "metadata": {},
     "output_type": "display_data"
    },
    {
     "data": {
      "image/png": "[encoded data removed]",
      "text/plain": [
       "plot without title"
      ]
     },
     "metadata": {
      "image/png": {
       "height": 420,
       "width": 420
      }
     },
     "output_type": "display_data"
    }
   ],
   "source": [
    "cor(Boston)\n",
    "pairs(Boston)"
   ]
  },
  {
   "cell_type": "markdown",
   "id": "a48866fc",
   "metadata": {},
   "source": [
    "b) There are several correlations among variables: \n",
    "- Crim with rad, tax\n",
    "- Zn with indus, nox, age\n",
    "- Indus with nox, age, dis, rad,tax, lstat\n",
    "- nox with age, dis, rad, tax, lsat\n",
    "- rm with lsat, medv\n",
    "- age with dis, tax, lsat"
   ]
  },
  {
   "cell_type": "markdown",
   "id": "a06e6de8",
   "metadata": {},
   "source": [
    "c) Crime is mainly related with variables rad and tax. This means that is correlated with the accessibility to radial highways, the easier the escape route, the easier to commit a crime. It also relates with tax, the higher the tax means more crime."
   ]
  },
  {
   "cell_type": "code",
   "execution_count": 22,
   "id": "b1e68feb",
   "metadata": {},
   "outputs": [
    {
     "data": {
      "image/png": "[encoded data removed]",
      "text/plain": [
       "plot without title"
      ]
     },
     "metadata": {
      "image/png": {
       "height": 420,
       "width": 420
      }
     },
     "output_type": "display_data"
    },
    {
     "data": {
      "image/png": "[encoded data removed]",
      "text/plain": [
       "plot without title"
      ]
     },
     "metadata": {
      "image/png": {
       "height": 420,
       "width": 420
      }
     },
     "output_type": "display_data"
    }
   ],
   "source": [
    "plot(Boston$crim,Boston$tax)\n",
    "plot(Boston$crim,Boston$rad)"
   ]
  },
  {
   "cell_type": "code",
   "execution_count": 24,
   "id": "48741561",
   "metadata": {},
   "outputs": [
    {
     "data": {
      "image/png": "[encoded data removed]",
      "text/plain": [
       "Plot with title \"Histogram of Boston$crim\""
      ]
     },
     "metadata": {
      "image/png": {
       "height": 420,
       "width": 420
      }
     },
     "output_type": "display_data"
    },
    {
     "data": {
      "image/png": "[encoded data removed]",
      "text/plain": [
       "Plot with title \"Histogram of Boston$tax\""
      ]
     },
     "metadata": {
      "image/png": {
       "height": 420,
       "width": 420
      }
     },
     "output_type": "display_data"
    },
    {
     "data": {
      "image/png": "[encoded data removed]",
      "text/plain": [
       "Plot with title \"Histogram of Boston$ptratio\""
      ]
     },
     "metadata": {
      "image/png": {
       "height": 420,
       "width": 420
      }
     },
     "output_type": "display_data"
    }
   ],
   "source": [
    "hist(Boston$crim)\n",
    "hist(Boston$tax)\n",
    "hist(Boston$ptratio)"
   ]
  },
  {
   "cell_type": "markdown",
   "id": "9d7a33f7",
   "metadata": {},
   "source": [
    "d) There seems to be some suburbs that have really high crime rates, but most of them are below 20.\n",
    "There is also a break between suburbs, most of them are below 400, but there are some above 600.\n",
    "Regarding pupil-teacher ratios, there is a concentration between 20 and 21."
   ]
  },
  {
   "cell_type": "code",
   "execution_count": 25,
   "id": "e3b665d1",
   "metadata": {},
   "outputs": [
    {
     "data": {
      "text/html": [
       "35"
      ],
      "text/latex": [
       "35"
      ],
      "text/markdown": [
       "35"
      ],
      "text/plain": [
       "[1] 35"
      ]
     },
     "metadata": {},
     "output_type": "display_data"
    }
   ],
   "source": [
    "sum(Boston$chas)"
   ]
  },
  {
   "cell_type": "markdown",
   "id": "872062fb",
   "metadata": {},
   "source": [
    "e) There are 35 suburbs that are bound to the Charles river. "
   ]
  },
  {
   "cell_type": "code",
   "execution_count": 26,
   "id": "a03616d3",
   "metadata": {},
   "outputs": [
    {
     "data": {
      "text/html": [
       "19.05"
      ],
      "text/latex": [
       "19.05"
      ],
      "text/markdown": [
       "19.05"
      ],
      "text/plain": [
       "[1] 19.05"
      ]
     },
     "metadata": {},
     "output_type": "display_data"
    }
   ],
   "source": [
    "median(Boston$ptratio)"
   ]
  },
  {
   "cell_type": "markdown",
   "id": "7082507d",
   "metadata": {},
   "source": [
    "f) Median pupil teacher ratio is 19.05"
   ]
  },
  {
   "cell_type": "code",
   "execution_count": 28,
   "id": "7f3dbe0a",
   "metadata": {},
   "outputs": [
    {
     "data": {
      "text/html": [
       "<table class=\"dataframe\">\n",
       "<caption>A data.frame: 2 × 14</caption>\n",
       "<thead>\n",
       "\t<tr><th></th><th scope=col>crim</th><th scope=col>zn</th><th scope=col>indus</th><th scope=col>chas</th><th scope=col>nox</th><th scope=col>rm</th><th scope=col>age</th><th scope=col>dis</th><th scope=col>rad</th><th scope=col>tax</th><th scope=col>ptratio</th><th scope=col>black</th><th scope=col>lstat</th><th scope=col>medv</th></tr>\n",
       "\t<tr><th></th><th scope=col>&lt;dbl&gt;</th><th scope=col>&lt;dbl&gt;</th><th scope=col>&lt;dbl&gt;</th><th scope=col>&lt;int&gt;</th><th scope=col>&lt;dbl&gt;</th><th scope=col>&lt;dbl&gt;</th><th scope=col>&lt;dbl&gt;</th><th scope=col>&lt;dbl&gt;</th><th scope=col>&lt;int&gt;</th><th scope=col>&lt;dbl&gt;</th><th scope=col>&lt;dbl&gt;</th><th scope=col>&lt;dbl&gt;</th><th scope=col>&lt;dbl&gt;</th><th scope=col>&lt;dbl&gt;</th></tr>\n",
       "</thead>\n",
       "<tbody>\n",
       "\t<tr><th scope=row>399</th><td>38.3518</td><td>0</td><td>18.1</td><td>0</td><td>0.693</td><td>5.453</td><td>100</td><td>1.4896</td><td>24</td><td>666</td><td>20.2</td><td>396.90</td><td>30.59</td><td>5</td></tr>\n",
       "\t<tr><th scope=row>406</th><td>67.9208</td><td>0</td><td>18.1</td><td>0</td><td>0.693</td><td>5.683</td><td>100</td><td>1.4254</td><td>24</td><td>666</td><td>20.2</td><td>384.97</td><td>22.98</td><td>5</td></tr>\n",
       "</tbody>\n",
       "</table>\n"
      ],
      "text/latex": [
       "A data.frame: 2 × 14\n",
       "\\begin{tabular}{r|llllllllllllll}\n",
       "  & crim & zn & indus & chas & nox & rm & age & dis & rad & tax & ptratio & black & lstat & medv\\\\\n",
       "  & <dbl> & <dbl> & <dbl> & <int> & <dbl> & <dbl> & <dbl> & <dbl> & <int> & <dbl> & <dbl> & <dbl> & <dbl> & <dbl>\\\\\n",
       "\\hline\n",
       "\t399 & 38.3518 & 0 & 18.1 & 0 & 0.693 & 5.453 & 100 & 1.4896 & 24 & 666 & 20.2 & 396.90 & 30.59 & 5\\\\\n",
       "\t406 & 67.9208 & 0 & 18.1 & 0 & 0.693 & 5.683 & 100 & 1.4254 & 24 & 666 & 20.2 & 384.97 & 22.98 & 5\\\\\n",
       "\\end{tabular}\n"
      ],
      "text/markdown": [
       "\n",
       "A data.frame: 2 × 14\n",
       "\n",
       "| <!--/--> | crim &lt;dbl&gt; | zn &lt;dbl&gt; | indus &lt;dbl&gt; | chas &lt;int&gt; | nox &lt;dbl&gt; | rm &lt;dbl&gt; | age &lt;dbl&gt; | dis &lt;dbl&gt; | rad &lt;int&gt; | tax &lt;dbl&gt; | ptratio &lt;dbl&gt; | black &lt;dbl&gt; | lstat &lt;dbl&gt; | medv &lt;dbl&gt; |\n",
       "|---|---|---|---|---|---|---|---|---|---|---|---|---|---|---|\n",
       "| 399 | 38.3518 | 0 | 18.1 | 0 | 0.693 | 5.453 | 100 | 1.4896 | 24 | 666 | 20.2 | 396.90 | 30.59 | 5 |\n",
       "| 406 | 67.9208 | 0 | 18.1 | 0 | 0.693 | 5.683 | 100 | 1.4254 | 24 | 666 | 20.2 | 384.97 | 22.98 | 5 |\n",
       "\n"
      ],
      "text/plain": [
       "    crim    zn indus chas nox   rm    age dis    rad tax ptratio black  lstat\n",
       "399 38.3518 0  18.1  0    0.693 5.453 100 1.4896 24  666 20.2    396.90 30.59\n",
       "406 67.9208 0  18.1  0    0.693 5.683 100 1.4254 24  666 20.2    384.97 22.98\n",
       "    medv\n",
       "399 5   \n",
       "406 5   "
      ]
     },
     "metadata": {},
     "output_type": "display_data"
    }
   ],
   "source": [
    "min_value<-subset(Boston, Boston$medv==min(Boston$medv))\n",
    "min_value"
   ]
  },
  {
   "cell_type": "code",
   "execution_count": 32,
   "id": "f67e063e",
   "metadata": {},
   "outputs": [
    {
     "data": {
      "text/html": [
       "<style>\n",
       ".dl-inline {width: auto; margin:0; padding: 0}\n",
       ".dl-inline>dt, .dl-inline>dd {float: none; width: auto; display: inline-block}\n",
       ".dl-inline>dt::after {content: \":\\0020\"; padding-right: .5ex}\n",
       ".dl-inline>dt:not(:first-of-type) {padding-left: .5ex}\n",
       "</style><dl class=dl-inline><dt>crim</dt><dd>TRUE</dd><dt>zn</dt><dd>FALSE</dd><dt>indus</dt><dd>TRUE</dd><dt>chas</dt><dd>FALSE</dd><dt>nox</dt><dd>TRUE</dd><dt>rm</dt><dd>FALSE</dd><dt>age</dt><dd>TRUE</dd><dt>dis</dt><dd>FALSE</dd><dt>rad</dt><dd>TRUE</dd><dt>tax</dt><dd>TRUE</dd><dt>ptratio</dt><dd>TRUE</dd><dt>black</dt><dd>TRUE</dd><dt>lstat</dt><dd>TRUE</dd><dt>medv</dt><dd>FALSE</dd></dl>\n"
      ],
      "text/latex": [
       "\\begin{description*}\n",
       "\\item[crim] TRUE\n",
       "\\item[zn] FALSE\n",
       "\\item[indus] TRUE\n",
       "\\item[chas] FALSE\n",
       "\\item[nox] TRUE\n",
       "\\item[rm] FALSE\n",
       "\\item[age] TRUE\n",
       "\\item[dis] FALSE\n",
       "\\item[rad] TRUE\n",
       "\\item[tax] TRUE\n",
       "\\item[ptratio] TRUE\n",
       "\\item[black] TRUE\n",
       "\\item[lstat] TRUE\n",
       "\\item[medv] FALSE\n",
       "\\end{description*}\n"
      ],
      "text/markdown": [
       "crim\n",
       ":   TRUEzn\n",
       ":   FALSEindus\n",
       ":   TRUEchas\n",
       ":   FALSEnox\n",
       ":   TRUErm\n",
       ":   FALSEage\n",
       ":   TRUEdis\n",
       ":   FALSErad\n",
       ":   TRUEtax\n",
       ":   TRUEptratio\n",
       ":   TRUEblack\n",
       ":   TRUElstat\n",
       ":   TRUEmedv\n",
       ":   FALSE\n",
       "\n"
      ],
      "text/plain": [
       "   crim      zn   indus    chas     nox      rm     age     dis     rad     tax \n",
       "   TRUE   FALSE    TRUE   FALSE    TRUE   FALSE    TRUE   FALSE    TRUE    TRUE \n",
       "ptratio   black   lstat    medv \n",
       "   TRUE    TRUE    TRUE   FALSE "
      ]
     },
     "metadata": {},
     "output_type": "display_data"
    }
   ],
   "source": [
    "colMeans(min_value)>colMeans(Boston)"
   ]
  },
  {
   "cell_type": "markdown",
   "id": "470de944",
   "metadata": {},
   "source": [
    "g) List of values higher than the mean of each predictor:\n",
    "- Crime rates\n",
    "- Indus\n",
    "- Nox\n",
    "- Age\n",
    "- Rad\n",
    "- Tax\n",
    "- Ptratio\n",
    "- Black\n",
    "- lstat\n",
    "\n",
    "It looks like is not the best place to live."
   ]
  },
  {
   "cell_type": "code",
   "execution_count": 35,
   "id": "d9fbe7a2",
   "metadata": {},
   "outputs": [
    {
     "data": {
      "text/html": [
       "64"
      ],
      "text/latex": [
       "64"
      ],
      "text/markdown": [
       "64"
      ],
      "text/plain": [
       "[1] 64"
      ]
     },
     "metadata": {},
     "output_type": "display_data"
    },
    {
     "data": {
      "text/html": [
       "13"
      ],
      "text/latex": [
       "13"
      ],
      "text/markdown": [
       "13"
      ],
      "text/plain": [
       "[1] 13"
      ]
     },
     "metadata": {},
     "output_type": "display_data"
    }
   ],
   "source": [
    "nrow(subset(Boston,Boston$rm>7))\n",
    "nrow(subset(Boston,Boston$rm>8))"
   ]
  },
  {
   "cell_type": "code",
   "execution_count": 38,
   "id": "f7358b80",
   "metadata": {},
   "outputs": [
    {
     "data": {
      "text/html": [
       "<style>\n",
       ".dl-inline {width: auto; margin:0; padding: 0}\n",
       ".dl-inline>dt, .dl-inline>dd {float: none; width: auto; display: inline-block}\n",
       ".dl-inline>dt::after {content: \":\\0020\"; padding-right: .5ex}\n",
       ".dl-inline>dt:not(:first-of-type) {padding-left: .5ex}\n",
       "</style><dl class=dl-inline><dt>crim</dt><dd>FALSE</dd><dt>zn</dt><dd>TRUE</dd><dt>indus</dt><dd>FALSE</dd><dt>chas</dt><dd>TRUE</dd><dt>nox</dt><dd>FALSE</dd><dt>rm</dt><dd>TRUE</dd><dt>age</dt><dd>TRUE</dd><dt>dis</dt><dd>FALSE</dd><dt>rad</dt><dd>FALSE</dd><dt>tax</dt><dd>FALSE</dd><dt>ptratio</dt><dd>FALSE</dd><dt>black</dt><dd>TRUE</dd><dt>lstat</dt><dd>FALSE</dd><dt>medv</dt><dd>TRUE</dd></dl>\n"
      ],
      "text/latex": [
       "\\begin{description*}\n",
       "\\item[crim] FALSE\n",
       "\\item[zn] TRUE\n",
       "\\item[indus] FALSE\n",
       "\\item[chas] TRUE\n",
       "\\item[nox] FALSE\n",
       "\\item[rm] TRUE\n",
       "\\item[age] TRUE\n",
       "\\item[dis] FALSE\n",
       "\\item[rad] FALSE\n",
       "\\item[tax] FALSE\n",
       "\\item[ptratio] FALSE\n",
       "\\item[black] TRUE\n",
       "\\item[lstat] FALSE\n",
       "\\item[medv] TRUE\n",
       "\\end{description*}\n"
      ],
      "text/markdown": [
       "crim\n",
       ":   FALSEzn\n",
       ":   TRUEindus\n",
       ":   FALSEchas\n",
       ":   TRUEnox\n",
       ":   FALSErm\n",
       ":   TRUEage\n",
       ":   TRUEdis\n",
       ":   FALSErad\n",
       ":   FALSEtax\n",
       ":   FALSEptratio\n",
       ":   FALSEblack\n",
       ":   TRUElstat\n",
       ":   FALSEmedv\n",
       ":   TRUE\n",
       "\n"
      ],
      "text/plain": [
       "   crim      zn   indus    chas     nox      rm     age     dis     rad     tax \n",
       "  FALSE    TRUE   FALSE    TRUE   FALSE    TRUE    TRUE   FALSE   FALSE   FALSE \n",
       "ptratio   black   lstat    medv \n",
       "  FALSE    TRUE   FALSE    TRUE "
      ]
     },
     "metadata": {},
     "output_type": "display_data"
    }
   ],
   "source": [
    "more_than_8<-subset(Boston,Boston$rm>8)\n",
    "colMeans(more_than_8)>colMeans(Boston)"
   ]
  },
  {
   "cell_type": "markdown",
   "id": "922be0cd",
   "metadata": {},
   "source": [
    "h) Crime rates are lower for suburbs with more than 8 rooms per dwelling, also higher age and lower taxes."
   ]
  },
  {
   "cell_type": "markdown",
   "id": "8d32555d",
   "metadata": {},
   "source": [
    "3. Suppose we have a data set with five predictors, X1 =GPA, X2 = IQ,\n",
    "X3 = Gender (1 for Female and 0 forMale), X4 = Interaction between\n",
    "GPA and IQ, and X5 = Interaction between GPA and Gender. The\n",
    "response is starting salary after graduation (in thousands of dollars).\n",
    "Suppose we use least squares to fit the model, and get ˆβ0 = 50, ˆβ1 =\n",
    "20, ˆβ2 = 0.07, ˆβ3 = 35, ˆβ4 = 0.01, ˆβ5 = −10."
   ]
  },
  {
   "cell_type": "markdown",
   "id": "6df1d28d",
   "metadata": {},
   "source": [
    "ST_SALARY = GPA+IQ+GENDER+GPAIQ+GPAGENDER\n",
    "\n",
    "ˆβ0 = 50+ ˆβ1 =20+ ˆβ2 = 0.07+ ˆβ3 = 35+ ˆβ4 = 0.01+ ˆβ5 = −10."
   ]
  },
  {
   "cell_type": "markdown",
   "id": "f615121a",
   "metadata": {},
   "source": [
    "a) iii is correct, because the coefficient for gender if female is 35 and if male is 0, but if GPA is high enough, males win more, since B5 is -10."
   ]
  },
  {
   "cell_type": "code",
   "execution_count": 42,
   "id": "8a5e2d73",
   "metadata": {},
   "outputs": [
    {
     "data": {
      "text/html": [
       "137.1"
      ],
      "text/latex": [
       "137.1"
      ],
      "text/markdown": [
       "137.1"
      ],
      "text/plain": [
       "[1] 137.1"
      ]
     },
     "metadata": {},
     "output_type": "display_data"
    }
   ],
   "source": [
    "#b) \n",
    "50 + 20 * 4 + 0.07 * 110 + 35 + 0.01 * (4 * 110) - 10 * 4"
   ]
  },
  {
   "cell_type": "markdown",
   "id": "a7806a9a",
   "metadata": {},
   "source": [
    "c) False, because we need to check the significance of the coefficient by examinin the p-value."
   ]
  },
  {
   "cell_type": "markdown",
   "id": "fd8202b7",
   "metadata": {},
   "source": [
    "10. This question should be answered using the Carseats data set.\n",
    "\n",
    "(a) Fit a multiple regression model to predict Sales using Price,\n",
    "Urban, and US.\n",
    "\n",
    "(b) Provide an interpretation of each coefficient in the model. Be\n",
    "careful—some of the variables in the model are qualitative!\n",
    "\n",
    "(c) Write out the model in equation form, being careful to handle\n",
    "the qualitative variables properly.\n",
    "\n",
    "(d) For which of the predictors can you reject the null hypothesis\n",
    "H0 : βj = 0?\n",
    "\n",
    "(e) On the basis of your response to the previous question, fit a\n",
    "smaller model that only uses the predictors for which there is\n",
    "evidence of association with the outcome.\n",
    "\n",
    "(f) How well do the models in (a) and (e) fit the data?\n",
    "\n",
    "(g) Using the model from (e), obtain 95% confidence intervals for\n",
    "the coefficient(s).\n",
    "\n",
    "(h) Is there evidence of outliers or high leverage observations in the\n",
    "model from (e)?"
   ]
  },
  {
   "cell_type": "code",
   "execution_count": 47,
   "id": "5f0e7ca2",
   "metadata": {},
   "outputs": [
    {
     "data": {
      "text/html": [
       "<table class=\"dataframe\">\n",
       "<caption>A data.frame: 6 × 11</caption>\n",
       "<thead>\n",
       "\t<tr><th></th><th scope=col>Sales</th><th scope=col>CompPrice</th><th scope=col>Income</th><th scope=col>Advertising</th><th scope=col>Population</th><th scope=col>Price</th><th scope=col>ShelveLoc</th><th scope=col>Age</th><th scope=col>Education</th><th scope=col>Urban</th><th scope=col>US</th></tr>\n",
       "\t<tr><th></th><th scope=col>&lt;dbl&gt;</th><th scope=col>&lt;dbl&gt;</th><th scope=col>&lt;dbl&gt;</th><th scope=col>&lt;dbl&gt;</th><th scope=col>&lt;dbl&gt;</th><th scope=col>&lt;dbl&gt;</th><th scope=col>&lt;fct&gt;</th><th scope=col>&lt;dbl&gt;</th><th scope=col>&lt;dbl&gt;</th><th scope=col>&lt;fct&gt;</th><th scope=col>&lt;fct&gt;</th></tr>\n",
       "</thead>\n",
       "<tbody>\n",
       "\t<tr><th scope=row>1</th><td> 9.50</td><td>138</td><td> 73</td><td>11</td><td>276</td><td>120</td><td>Bad   </td><td>42</td><td>17</td><td>Yes</td><td>Yes</td></tr>\n",
       "\t<tr><th scope=row>2</th><td>11.22</td><td>111</td><td> 48</td><td>16</td><td>260</td><td> 83</td><td>Good  </td><td>65</td><td>10</td><td>Yes</td><td>Yes</td></tr>\n",
       "\t<tr><th scope=row>3</th><td>10.06</td><td>113</td><td> 35</td><td>10</td><td>269</td><td> 80</td><td>Medium</td><td>59</td><td>12</td><td>Yes</td><td>Yes</td></tr>\n",
       "\t<tr><th scope=row>4</th><td> 7.40</td><td>117</td><td>100</td><td> 4</td><td>466</td><td> 97</td><td>Medium</td><td>55</td><td>14</td><td>Yes</td><td>Yes</td></tr>\n",
       "\t<tr><th scope=row>5</th><td> 4.15</td><td>141</td><td> 64</td><td> 3</td><td>340</td><td>128</td><td>Bad   </td><td>38</td><td>13</td><td>Yes</td><td>No </td></tr>\n",
       "\t<tr><th scope=row>6</th><td>10.81</td><td>124</td><td>113</td><td>13</td><td>501</td><td> 72</td><td>Bad   </td><td>78</td><td>16</td><td>No </td><td>Yes</td></tr>\n",
       "</tbody>\n",
       "</table>\n"
      ],
      "text/latex": [
       "A data.frame: 6 × 11\n",
       "\\begin{tabular}{r|lllllllllll}\n",
       "  & Sales & CompPrice & Income & Advertising & Population & Price & ShelveLoc & Age & Education & Urban & US\\\\\n",
       "  & <dbl> & <dbl> & <dbl> & <dbl> & <dbl> & <dbl> & <fct> & <dbl> & <dbl> & <fct> & <fct>\\\\\n",
       "\\hline\n",
       "\t1 &  9.50 & 138 &  73 & 11 & 276 & 120 & Bad    & 42 & 17 & Yes & Yes\\\\\n",
       "\t2 & 11.22 & 111 &  48 & 16 & 260 &  83 & Good   & 65 & 10 & Yes & Yes\\\\\n",
       "\t3 & 10.06 & 113 &  35 & 10 & 269 &  80 & Medium & 59 & 12 & Yes & Yes\\\\\n",
       "\t4 &  7.40 & 117 & 100 &  4 & 466 &  97 & Medium & 55 & 14 & Yes & Yes\\\\\n",
       "\t5 &  4.15 & 141 &  64 &  3 & 340 & 128 & Bad    & 38 & 13 & Yes & No \\\\\n",
       "\t6 & 10.81 & 124 & 113 & 13 & 501 &  72 & Bad    & 78 & 16 & No  & Yes\\\\\n",
       "\\end{tabular}\n"
      ],
      "text/markdown": [
       "\n",
       "A data.frame: 6 × 11\n",
       "\n",
       "| <!--/--> | Sales &lt;dbl&gt; | CompPrice &lt;dbl&gt; | Income &lt;dbl&gt; | Advertising &lt;dbl&gt; | Population &lt;dbl&gt; | Price &lt;dbl&gt; | ShelveLoc &lt;fct&gt; | Age &lt;dbl&gt; | Education &lt;dbl&gt; | Urban &lt;fct&gt; | US &lt;fct&gt; |\n",
       "|---|---|---|---|---|---|---|---|---|---|---|---|\n",
       "| 1 |  9.50 | 138 |  73 | 11 | 276 | 120 | Bad    | 42 | 17 | Yes | Yes |\n",
       "| 2 | 11.22 | 111 |  48 | 16 | 260 |  83 | Good   | 65 | 10 | Yes | Yes |\n",
       "| 3 | 10.06 | 113 |  35 | 10 | 269 |  80 | Medium | 59 | 12 | Yes | Yes |\n",
       "| 4 |  7.40 | 117 | 100 |  4 | 466 |  97 | Medium | 55 | 14 | Yes | Yes |\n",
       "| 5 |  4.15 | 141 |  64 |  3 | 340 | 128 | Bad    | 38 | 13 | Yes | No  |\n",
       "| 6 | 10.81 | 124 | 113 | 13 | 501 |  72 | Bad    | 78 | 16 | No  | Yes |\n",
       "\n"
      ],
      "text/plain": [
       "  Sales CompPrice Income Advertising Population Price ShelveLoc Age Education\n",
       "1  9.50 138        73    11          276        120   Bad       42  17       \n",
       "2 11.22 111        48    16          260         83   Good      65  10       \n",
       "3 10.06 113        35    10          269         80   Medium    59  12       \n",
       "4  7.40 117       100     4          466         97   Medium    55  14       \n",
       "5  4.15 141        64     3          340        128   Bad       38  13       \n",
       "6 10.81 124       113    13          501         72   Bad       78  16       \n",
       "  Urban US \n",
       "1 Yes   Yes\n",
       "2 Yes   Yes\n",
       "3 Yes   Yes\n",
       "4 Yes   Yes\n",
       "5 Yes   No \n",
       "6 No    Yes"
      ]
     },
     "metadata": {},
     "output_type": "display_data"
    }
   ],
   "source": [
    "library(ISLR)\n",
    "head(Carseats)"
   ]
  },
  {
   "cell_type": "code",
   "execution_count": 49,
   "id": "c558938c",
   "metadata": {},
   "outputs": [
    {
     "data": {
      "text/plain": [
       "\n",
       "Call:\n",
       "lm(formula = Sales ~ Price + Urban + US, data = Carseats)\n",
       "\n",
       "Residuals:\n",
       "    Min      1Q  Median      3Q     Max \n",
       "-6.9206 -1.6220 -0.0564  1.5786  7.0581 \n",
       "\n",
       "Coefficients:\n",
       "             Estimate Std. Error t value Pr(>|t|)    \n",
       "(Intercept) 13.043469   0.651012  20.036  < 2e-16 ***\n",
       "Price       -0.054459   0.005242 -10.389  < 2e-16 ***\n",
       "UrbanYes    -0.021916   0.271650  -0.081    0.936    \n",
       "USYes        1.200573   0.259042   4.635 4.86e-06 ***\n",
       "---\n",
       "Signif. codes:  0 '***' 0.001 '**' 0.01 '*' 0.05 '.' 0.1 ' ' 1\n",
       "\n",
       "Residual standard error: 2.472 on 396 degrees of freedom\n",
       "Multiple R-squared:  0.2393,\tAdjusted R-squared:  0.2335 \n",
       "F-statistic: 41.52 on 3 and 396 DF,  p-value: < 2.2e-16\n"
      ]
     },
     "metadata": {},
     "output_type": "display_data"
    }
   ],
   "source": [
    "#a)\n",
    "fit<-lm(Sales~Price+Urban+US,data=Carseats)\n",
    "summary(fit)"
   ]
  },
  {
   "cell_type": "markdown",
   "id": "ee4aa9e1",
   "metadata": {},
   "source": [
    "b) Price shows that on average, the higher the price the lower the sales.\n",
    "\n",
    "UrbanYes coefficient shows that if the sales are made in urban areas are lower on average, but since the coefficient is not significant according to the p-value, we can say that there is no relation.\n",
    "\n",
    "USYes coefficient shows that if the location is in the US, then sales will increase by 1.2"
   ]
  },
  {
   "cell_type": "markdown",
   "id": "08b7f8ee",
   "metadata": {},
   "source": [
    "c) Sales = 13.04 + -0.05 Price + -0.02 UrbanYes + 1.20 USYes"
   ]
  },
  {
   "cell_type": "markdown",
   "id": "3cd47bbd",
   "metadata": {},
   "source": [
    "d) We can reject for Price and for USYes, since the p values are lower than 0.05."
   ]
  },
  {
   "cell_type": "code",
   "execution_count": 50,
   "id": "b606885a",
   "metadata": {},
   "outputs": [
    {
     "data": {
      "text/plain": [
       "\n",
       "Call:\n",
       "lm(formula = Sales ~ Price + US, data = Carseats)\n",
       "\n",
       "Residuals:\n",
       "    Min      1Q  Median      3Q     Max \n",
       "-6.9269 -1.6286 -0.0574  1.5766  7.0515 \n",
       "\n",
       "Coefficients:\n",
       "            Estimate Std. Error t value Pr(>|t|)    \n",
       "(Intercept) 13.03079    0.63098  20.652  < 2e-16 ***\n",
       "Price       -0.05448    0.00523 -10.416  < 2e-16 ***\n",
       "USYes        1.19964    0.25846   4.641 4.71e-06 ***\n",
       "---\n",
       "Signif. codes:  0 '***' 0.001 '**' 0.01 '*' 0.05 '.' 0.1 ' ' 1\n",
       "\n",
       "Residual standard error: 2.469 on 397 degrees of freedom\n",
       "Multiple R-squared:  0.2393,\tAdjusted R-squared:  0.2354 \n",
       "F-statistic: 62.43 on 2 and 397 DF,  p-value: < 2.2e-16\n"
      ]
     },
     "metadata": {},
     "output_type": "display_data"
    }
   ],
   "source": [
    "#e)\n",
    "fit2<-lm(Sales~Price+US,data=Carseats)\n",
    "summary(fit2)"
   ]
  },
  {
   "cell_type": "markdown",
   "id": "974ed6a7",
   "metadata": {},
   "source": [
    "f) The R squared for the two models are very similar, but the adjusted R squared for the second model is a bit better. "
   ]
  },
  {
   "cell_type": "code",
   "execution_count": 55,
   "id": "0c60e048",
   "metadata": {},
   "outputs": [
    {
     "data": {
      "text/html": [
       "<table class=\"dataframe\">\n",
       "<caption>A matrix: 3 × 2 of type dbl</caption>\n",
       "<thead>\n",
       "\t<tr><th></th><th scope=col>2.5 %</th><th scope=col>97.5 %</th></tr>\n",
       "</thead>\n",
       "<tbody>\n",
       "\t<tr><th scope=row>(Intercept)</th><td>11.79032020</td><td>14.27126531</td></tr>\n",
       "\t<tr><th scope=row>Price</th><td>-0.06475984</td><td>-0.04419543</td></tr>\n",
       "\t<tr><th scope=row>USYes</th><td> 0.69151957</td><td> 1.70776632</td></tr>\n",
       "</tbody>\n",
       "</table>\n"
      ],
      "text/latex": [
       "A matrix: 3 × 2 of type dbl\n",
       "\\begin{tabular}{r|ll}\n",
       "  & 2.5 \\% & 97.5 \\%\\\\\n",
       "\\hline\n",
       "\t(Intercept) & 11.79032020 & 14.27126531\\\\\n",
       "\tPrice & -0.06475984 & -0.04419543\\\\\n",
       "\tUSYes &  0.69151957 &  1.70776632\\\\\n",
       "\\end{tabular}\n"
      ],
      "text/markdown": [
       "\n",
       "A matrix: 3 × 2 of type dbl\n",
       "\n",
       "| <!--/--> | 2.5 % | 97.5 % |\n",
       "|---|---|---|\n",
       "| (Intercept) | 11.79032020 | 14.27126531 |\n",
       "| Price | -0.06475984 | -0.04419543 |\n",
       "| USYes |  0.69151957 |  1.70776632 |\n",
       "\n"
      ],
      "text/plain": [
       "            2.5 %       97.5 %     \n",
       "(Intercept) 11.79032020 14.27126531\n",
       "Price       -0.06475984 -0.04419543\n",
       "USYes        0.69151957  1.70776632"
      ]
     },
     "metadata": {},
     "output_type": "display_data"
    }
   ],
   "source": [
    "#g)\n",
    "confint(fit2,level=0.95)"
   ]
  },
  {
   "cell_type": "code",
   "execution_count": 56,
   "id": "a45bcfb8",
   "metadata": {},
   "outputs": [
    {
     "data": {
      "image/png": "[encoded data removed]",
      "text/plain": [
       "Plot with title \"\""
      ]
     },
     "metadata": {
      "image/png": {
       "height": 420,
       "width": 420
      }
     },
     "output_type": "display_data"
    },
    {
     "data": {
      "image/png": "[encoded data removed]",
      "text/plain": [
       "Plot with title \"\""
      ]
     },
     "metadata": {
      "image/png": {
       "height": 420,
       "width": 420
      }
     },
     "output_type": "display_data"
    },
    {
     "data": {
      "image/png": "[encoded data removed]",
      "text/plain": [
       "Plot with title \"\""
      ]
     },
     "metadata": {
      "image/png": {
       "height": 420,
       "width": 420
      }
     },
     "output_type": "display_data"
    },
    {
     "data": {
      "image/png": "[encoded data removed]",
      "text/plain": [
       "Plot with title \"\""
      ]
     },
     "metadata": {
      "image/png": {
       "height": 420,
       "width": 420
      }
     },
     "output_type": "display_data"
    }
   ],
   "source": [
    "plot(fit)"
   ]
  },
  {
   "cell_type": "markdown",
   "id": "5b62fc79",
   "metadata": {},
   "source": [
    "h) There is no evidence of outliers, since the residuals look randomly distributed."
   ]
  },
  {
   "cell_type": "markdown",
   "id": "d07e16e7",
   "metadata": {},
   "source": [
    "15. This problem involves the Boston data set, which we saw in the lab\n",
    "for this chapter. We will now try to predict per capita crime rate\n",
    "using the other variables in this data set. In other words, per capita\n",
    "crime rate is the response, and the other variables are the predictors.\n",
    "\n",
    "(a) For each predictor, fit a simple linear regression model to predict\n",
    "the response. Describe your results. In which of the models is\n",
    "there a statistically significant association between the predictor\n",
    "and the response? Create some plots to back up your assertions.\n",
    "\n",
    "(b) Fit a multiple regression model to predict the response using\n",
    "all of the predictors. Describe your results. For which predictors\n",
    "can we reject the null hypothesis H0 : βj = 0?\n",
    "\n",
    "(c) How do your results from (a) compare to your results from (b)?\n",
    "Create a plot displaying the univariate regression coefficients\n",
    "from (a) on the x-axis, and the multiple regression coefficients\n",
    "from (b) on the y-axis. That is, each predictor is displayed as a\n",
    "single point in the plot. Its coefficient in a simple linear regression\n",
    "model is shown on the x-axis, and its coefficient estimate\n",
    "in the multiple linear regression model is shown on the y-axis.\n",
    "\n",
    "(d) Is there evidence of non-linear association between any of the\n",
    "predictors and the response? To answer this question, for each\n",
    "predictor X, fit a model of the form\n",
    "Y = β0 + β1X + β2X2 + β3X3 + \u0003."
   ]
  },
  {
   "cell_type": "code",
   "execution_count": 77,
   "id": "18d834eb",
   "metadata": {},
   "outputs": [
    {
     "name": "stdout",
     "output_type": "stream",
     "text": [
      "[1] \"zn\"\n",
      "\n",
      "Call:\n",
      "lm(formula = Boston$crim ~ Boston[, i])\n",
      "\n",
      "Residuals:\n",
      "   Min     1Q Median     3Q    Max \n",
      "-4.429 -4.222 -2.620  1.250 84.523 \n",
      "\n",
      "Coefficients:\n",
      "            Estimate Std. Error t value Pr(>|t|)    \n",
      "(Intercept)  4.45369    0.41722  10.675  < 2e-16 ***\n",
      "Boston[, i] -0.07393    0.01609  -4.594 5.51e-06 ***\n",
      "---\n",
      "Signif. codes:  0 '***' 0.001 '**' 0.01 '*' 0.05 '.' 0.1 ' ' 1\n",
      "\n",
      "Residual standard error: 8.435 on 504 degrees of freedom\n",
      "Multiple R-squared:  0.04019,\tAdjusted R-squared:  0.03828 \n",
      "F-statistic:  21.1 on 1 and 504 DF,  p-value: 5.506e-06\n",
      "\n",
      "[1] \"indus\"\n",
      "\n",
      "Call:\n",
      "lm(formula = Boston$crim ~ Boston[, i])\n",
      "\n",
      "Residuals:\n",
      "    Min      1Q  Median      3Q     Max \n",
      "-11.972  -2.698  -0.736   0.712  81.813 \n",
      "\n",
      "Coefficients:\n",
      "            Estimate Std. Error t value Pr(>|t|)    \n",
      "(Intercept) -2.06374    0.66723  -3.093  0.00209 ** \n",
      "Boston[, i]  0.50978    0.05102   9.991  < 2e-16 ***\n",
      "---\n",
      "Signif. codes:  0 '***' 0.001 '**' 0.01 '*' 0.05 '.' 0.1 ' ' 1\n",
      "\n",
      "Residual standard error: 7.866 on 504 degrees of freedom\n",
      "Multiple R-squared:  0.1653,\tAdjusted R-squared:  0.1637 \n",
      "F-statistic: 99.82 on 1 and 504 DF,  p-value: < 2.2e-16\n",
      "\n",
      "[1] \"chas\"\n",
      "\n",
      "Call:\n",
      "lm(formula = Boston$crim ~ Boston[, i])\n",
      "\n",
      "Residuals:\n",
      "   Min     1Q Median     3Q    Max \n",
      "-3.738 -3.661 -3.435  0.018 85.232 \n",
      "\n",
      "Coefficients:\n",
      "            Estimate Std. Error t value Pr(>|t|)    \n",
      "(Intercept)   3.7444     0.3961   9.453   <2e-16 ***\n",
      "Boston[, i]  -1.8928     1.5061  -1.257    0.209    \n",
      "---\n",
      "Signif. codes:  0 '***' 0.001 '**' 0.01 '*' 0.05 '.' 0.1 ' ' 1\n",
      "\n",
      "Residual standard error: 8.597 on 504 degrees of freedom\n",
      "Multiple R-squared:  0.003124,\tAdjusted R-squared:  0.001146 \n",
      "F-statistic: 1.579 on 1 and 504 DF,  p-value: 0.2094\n",
      "\n",
      "[1] \"nox\"\n",
      "\n",
      "Call:\n",
      "lm(formula = Boston$crim ~ Boston[, i])\n",
      "\n",
      "Residuals:\n",
      "    Min      1Q  Median      3Q     Max \n",
      "-12.371  -2.738  -0.974   0.559  81.728 \n",
      "\n",
      "Coefficients:\n",
      "            Estimate Std. Error t value Pr(>|t|)    \n",
      "(Intercept)  -13.720      1.699  -8.073 5.08e-15 ***\n",
      "Boston[, i]   31.249      2.999  10.419  < 2e-16 ***\n",
      "---\n",
      "Signif. codes:  0 '***' 0.001 '**' 0.01 '*' 0.05 '.' 0.1 ' ' 1\n",
      "\n",
      "Residual standard error: 7.81 on 504 degrees of freedom\n",
      "Multiple R-squared:  0.1772,\tAdjusted R-squared:  0.1756 \n",
      "F-statistic: 108.6 on 1 and 504 DF,  p-value: < 2.2e-16\n",
      "\n",
      "[1] \"rm\"\n",
      "\n",
      "Call:\n",
      "lm(formula = Boston$crim ~ Boston[, i])\n",
      "\n",
      "Residuals:\n",
      "   Min     1Q Median     3Q    Max \n",
      "-6.604 -3.952 -2.654  0.989 87.197 \n",
      "\n",
      "Coefficients:\n",
      "            Estimate Std. Error t value Pr(>|t|)    \n",
      "(Intercept)   20.482      3.365   6.088 2.27e-09 ***\n",
      "Boston[, i]   -2.684      0.532  -5.045 6.35e-07 ***\n",
      "---\n",
      "Signif. codes:  0 '***' 0.001 '**' 0.01 '*' 0.05 '.' 0.1 ' ' 1\n",
      "\n",
      "Residual standard error: 8.401 on 504 degrees of freedom\n",
      "Multiple R-squared:  0.04807,\tAdjusted R-squared:  0.04618 \n",
      "F-statistic: 25.45 on 1 and 504 DF,  p-value: 6.347e-07\n",
      "\n",
      "[1] \"age\"\n",
      "\n",
      "Call:\n",
      "lm(formula = Boston$crim ~ Boston[, i])\n",
      "\n",
      "Residuals:\n",
      "   Min     1Q Median     3Q    Max \n",
      "-6.789 -4.257 -1.230  1.527 82.849 \n",
      "\n",
      "Coefficients:\n",
      "            Estimate Std. Error t value Pr(>|t|)    \n",
      "(Intercept) -3.77791    0.94398  -4.002 7.22e-05 ***\n",
      "Boston[, i]  0.10779    0.01274   8.463 2.85e-16 ***\n",
      "---\n",
      "Signif. codes:  0 '***' 0.001 '**' 0.01 '*' 0.05 '.' 0.1 ' ' 1\n",
      "\n",
      "Residual standard error: 8.057 on 504 degrees of freedom\n",
      "Multiple R-squared:  0.1244,\tAdjusted R-squared:  0.1227 \n",
      "F-statistic: 71.62 on 1 and 504 DF,  p-value: 2.855e-16\n",
      "\n",
      "[1] \"dis\"\n",
      "\n",
      "Call:\n",
      "lm(formula = Boston$crim ~ Boston[, i])\n",
      "\n",
      "Residuals:\n",
      "   Min     1Q Median     3Q    Max \n",
      "-6.708 -4.134 -1.527  1.516 81.674 \n",
      "\n",
      "Coefficients:\n",
      "            Estimate Std. Error t value Pr(>|t|)    \n",
      "(Intercept)   9.4993     0.7304  13.006   <2e-16 ***\n",
      "Boston[, i]  -1.5509     0.1683  -9.213   <2e-16 ***\n",
      "---\n",
      "Signif. codes:  0 '***' 0.001 '**' 0.01 '*' 0.05 '.' 0.1 ' ' 1\n",
      "\n",
      "Residual standard error: 7.965 on 504 degrees of freedom\n",
      "Multiple R-squared:  0.1441,\tAdjusted R-squared:  0.1425 \n",
      "F-statistic: 84.89 on 1 and 504 DF,  p-value: < 2.2e-16\n",
      "\n",
      "[1] \"rad\"\n",
      "\n",
      "Call:\n",
      "lm(formula = Boston$crim ~ Boston[, i])\n",
      "\n",
      "Residuals:\n",
      "    Min      1Q  Median      3Q     Max \n",
      "-10.164  -1.381  -0.141   0.660  76.433 \n",
      "\n",
      "Coefficients:\n",
      "            Estimate Std. Error t value Pr(>|t|)    \n",
      "(Intercept) -2.28716    0.44348  -5.157 3.61e-07 ***\n",
      "Boston[, i]  0.61791    0.03433  17.998  < 2e-16 ***\n",
      "---\n",
      "Signif. codes:  0 '***' 0.001 '**' 0.01 '*' 0.05 '.' 0.1 ' ' 1\n",
      "\n",
      "Residual standard error: 6.718 on 504 degrees of freedom\n",
      "Multiple R-squared:  0.3913,\tAdjusted R-squared:   0.39 \n",
      "F-statistic: 323.9 on 1 and 504 DF,  p-value: < 2.2e-16\n",
      "\n",
      "[1] \"tax\"\n",
      "\n",
      "Call:\n",
      "lm(formula = Boston$crim ~ Boston[, i])\n",
      "\n",
      "Residuals:\n",
      "    Min      1Q  Median      3Q     Max \n",
      "-12.513  -2.738  -0.194   1.065  77.696 \n",
      "\n",
      "Coefficients:\n",
      "             Estimate Std. Error t value Pr(>|t|)    \n",
      "(Intercept) -8.528369   0.815809  -10.45   <2e-16 ***\n",
      "Boston[, i]  0.029742   0.001847   16.10   <2e-16 ***\n",
      "---\n",
      "Signif. codes:  0 '***' 0.001 '**' 0.01 '*' 0.05 '.' 0.1 ' ' 1\n",
      "\n",
      "Residual standard error: 6.997 on 504 degrees of freedom\n",
      "Multiple R-squared:  0.3396,\tAdjusted R-squared:  0.3383 \n",
      "F-statistic: 259.2 on 1 and 504 DF,  p-value: < 2.2e-16\n",
      "\n",
      "[1] \"ptratio\"\n",
      "\n",
      "Call:\n",
      "lm(formula = Boston$crim ~ Boston[, i])\n",
      "\n",
      "Residuals:\n",
      "   Min     1Q Median     3Q    Max \n",
      "-7.654 -3.985 -1.912  1.825 83.353 \n",
      "\n",
      "Coefficients:\n",
      "            Estimate Std. Error t value Pr(>|t|)    \n",
      "(Intercept) -17.6469     3.1473  -5.607 3.40e-08 ***\n",
      "Boston[, i]   1.1520     0.1694   6.801 2.94e-11 ***\n",
      "---\n",
      "Signif. codes:  0 '***' 0.001 '**' 0.01 '*' 0.05 '.' 0.1 ' ' 1\n",
      "\n",
      "Residual standard error: 8.24 on 504 degrees of freedom\n",
      "Multiple R-squared:  0.08407,\tAdjusted R-squared:  0.08225 \n",
      "F-statistic: 46.26 on 1 and 504 DF,  p-value: 2.943e-11\n",
      "\n",
      "[1] \"black\"\n",
      "\n",
      "Call:\n",
      "lm(formula = Boston$crim ~ Boston[, i])\n",
      "\n",
      "Residuals:\n",
      "    Min      1Q  Median      3Q     Max \n",
      "-13.756  -2.299  -2.095  -1.296  86.822 \n",
      "\n",
      "Coefficients:\n",
      "             Estimate Std. Error t value Pr(>|t|)    \n",
      "(Intercept) 16.553529   1.425903  11.609   <2e-16 ***\n",
      "Boston[, i] -0.036280   0.003873  -9.367   <2e-16 ***\n",
      "---\n",
      "Signif. codes:  0 '***' 0.001 '**' 0.01 '*' 0.05 '.' 0.1 ' ' 1\n",
      "\n",
      "Residual standard error: 7.946 on 504 degrees of freedom\n",
      "Multiple R-squared:  0.1483,\tAdjusted R-squared:  0.1466 \n",
      "F-statistic: 87.74 on 1 and 504 DF,  p-value: < 2.2e-16\n",
      "\n",
      "[1] \"lstat\"\n",
      "\n",
      "Call:\n",
      "lm(formula = Boston$crim ~ Boston[, i])\n",
      "\n",
      "Residuals:\n",
      "    Min      1Q  Median      3Q     Max \n",
      "-13.925  -2.822  -0.664   1.079  82.862 \n",
      "\n",
      "Coefficients:\n",
      "            Estimate Std. Error t value Pr(>|t|)    \n",
      "(Intercept) -3.33054    0.69376  -4.801 2.09e-06 ***\n",
      "Boston[, i]  0.54880    0.04776  11.491  < 2e-16 ***\n",
      "---\n",
      "Signif. codes:  0 '***' 0.001 '**' 0.01 '*' 0.05 '.' 0.1 ' ' 1\n",
      "\n",
      "Residual standard error: 7.664 on 504 degrees of freedom\n",
      "Multiple R-squared:  0.2076,\tAdjusted R-squared:  0.206 \n",
      "F-statistic:   132 on 1 and 504 DF,  p-value: < 2.2e-16\n",
      "\n",
      "[1] \"medv\"\n",
      "\n",
      "Call:\n",
      "lm(formula = Boston$crim ~ Boston[, i])\n",
      "\n",
      "Residuals:\n",
      "   Min     1Q Median     3Q    Max \n",
      "-9.071 -4.022 -2.343  1.298 80.957 \n",
      "\n",
      "Coefficients:\n",
      "            Estimate Std. Error t value Pr(>|t|)    \n",
      "(Intercept) 11.79654    0.93419   12.63   <2e-16 ***\n",
      "Boston[, i] -0.36316    0.03839   -9.46   <2e-16 ***\n",
      "---\n",
      "Signif. codes:  0 '***' 0.001 '**' 0.01 '*' 0.05 '.' 0.1 ' ' 1\n",
      "\n",
      "Residual standard error: 7.934 on 504 degrees of freedom\n",
      "Multiple R-squared:  0.1508,\tAdjusted R-squared:  0.1491 \n",
      "F-statistic: 89.49 on 1 and 504 DF,  p-value: < 2.2e-16\n",
      "\n"
     ]
    }
   ],
   "source": [
    "vars<-names(Boston)[2:ncol(Boston)]\n",
    "for (i in vars){\n",
    "    print(i)\n",
    "    print(summary(lm(Boston$crim~Boston[,i])))\n",
    "}"
   ]
  },
  {
   "cell_type": "code",
   "execution_count": null,
   "id": "34344d15",
   "metadata": {},
   "outputs": [],
   "source": [
    "for (i in vars){\n",
    "    print(i)\n",
    "    print(plot(Boston[,i],Boston$crim))\n",
    "}"
   ]
  },
  {
   "cell_type": "markdown",
   "id": "6a168d7f",
   "metadata": {},
   "source": [
    "a) \n",
    "\n",
    "*Zn* is significant and has negative relation\n",
    "\n",
    "*indus* is significant and has positive relation\n",
    "\n",
    "*chas* is not significant and has negative relation\n",
    "\n",
    "*nox* is significant and has positive relation\n",
    "\n",
    "*rm* is significant and has negative relation\n",
    "\n",
    "*age* is significant and has positive relation\n",
    "\n",
    "*dis* is significant and has negative relation\n",
    "\n",
    "*rad* is significant and has positive relation\n",
    "\n",
    "*tax* is significant and has positive relation\n",
    "\n",
    "*ptratio* is significant and has positive relation\n",
    "\n",
    "*black* is significant and has negative relation\n",
    "\n",
    "*lstat* is significant and has positive relation\n",
    "\n",
    "*medv* is significant and has negative relation\n"
   ]
  },
  {
   "cell_type": "code",
   "execution_count": 79,
   "id": "3f83ad5a",
   "metadata": {},
   "outputs": [
    {
     "data": {
      "text/plain": [
       "\n",
       "Call:\n",
       "lm(formula = crim ~ ., data = Boston)\n",
       "\n",
       "Residuals:\n",
       "   Min     1Q Median     3Q    Max \n",
       "-9.924 -2.120 -0.353  1.019 75.051 \n",
       "\n",
       "Coefficients:\n",
       "              Estimate Std. Error t value Pr(>|t|)    \n",
       "(Intercept)  17.033228   7.234903   2.354 0.018949 *  \n",
       "zn            0.044855   0.018734   2.394 0.017025 *  \n",
       "indus        -0.063855   0.083407  -0.766 0.444294    \n",
       "chas         -0.749134   1.180147  -0.635 0.525867    \n",
       "nox         -10.313535   5.275536  -1.955 0.051152 .  \n",
       "rm            0.430131   0.612830   0.702 0.483089    \n",
       "age           0.001452   0.017925   0.081 0.935488    \n",
       "dis          -0.987176   0.281817  -3.503 0.000502 ***\n",
       "rad           0.588209   0.088049   6.680 6.46e-11 ***\n",
       "tax          -0.003780   0.005156  -0.733 0.463793    \n",
       "ptratio      -0.271081   0.186450  -1.454 0.146611    \n",
       "black        -0.007538   0.003673  -2.052 0.040702 *  \n",
       "lstat         0.126211   0.075725   1.667 0.096208 .  \n",
       "medv         -0.198887   0.060516  -3.287 0.001087 ** \n",
       "---\n",
       "Signif. codes:  0 '***' 0.001 '**' 0.01 '*' 0.05 '.' 0.1 ' ' 1\n",
       "\n",
       "Residual standard error: 6.439 on 492 degrees of freedom\n",
       "Multiple R-squared:  0.454,\tAdjusted R-squared:  0.4396 \n",
       "F-statistic: 31.47 on 13 and 492 DF,  p-value: < 2.2e-16\n"
      ]
     },
     "metadata": {},
     "output_type": "display_data"
    }
   ],
   "source": [
    "#b) \n",
    "fit<-lm(crim~.,data=Boston)\n",
    "summary(fit)"
   ]
  },
  {
   "cell_type": "markdown",
   "id": "e599a1d6",
   "metadata": {},
   "source": [
    "b) we can reject the null hypothesis at a 5% level for zn, dis,rad,black and medv.\n",
    "We can also see that most of the variables show a negative relation, with means that on average the higher their values, the lower the crime."
   ]
  },
  {
   "cell_type": "code",
   "execution_count": 88,
   "id": "005e02f0",
   "metadata": {},
   "outputs": [
    {
     "data": {
      "image/png": "[encoded data removed]",
      "text/plain": [
       "plot without title"
      ]
     },
     "metadata": {
      "image/png": {
       "height": 420,
       "width": 420
      }
     },
     "output_type": "display_data"
    }
   ],
   "source": [
    "#c)\n",
    "univ<-vector()\n",
    "for (i in vars){\n",
    "    univ[i]<-coefficients(lm(Boston$crim~Boston[,i]))[2]\n",
    "}\n",
    "\n",
    "plot(as.numeric(univ),as.numeric(coef(fit)[2:length(coef(fit))]))"
   ]
  },
  {
   "cell_type": "markdown",
   "id": "ef295054",
   "metadata": {},
   "source": [
    "c) We can see that there is a big difference for some coefficients, specially for nox, where in the simple model the coefficient is 31 and in the multiple model is -10. \n",
    "We can also see that some of the variables that were significant in the simple model are not significant for the multiple model.\n"
   ]
  },
  {
   "cell_type": "code",
   "execution_count": 99,
   "id": "55611ad1",
   "metadata": {},
   "outputs": [
    {
     "name": "stdout",
     "output_type": "stream",
     "text": [
      "[1] \"zn\"\n",
      "\n",
      "Call:\n",
      "lm(formula = Boston$crim ~ poly(Boston[, i], 3))\n",
      "\n",
      "Residuals:\n",
      "   Min     1Q Median     3Q    Max \n",
      "-4.821 -4.614 -1.294  0.473 84.130 \n",
      "\n",
      "Coefficients:\n",
      "                      Estimate Std. Error t value             Pr(>|t|)    \n",
      "(Intercept)             3.6135     0.3722   9.709 < 0.0000000000000002 ***\n",
      "poly(Boston[, i], 3)1 -38.7498     8.3722  -4.628            0.0000047 ***\n",
      "poly(Boston[, i], 3)2  23.9398     8.3722   2.859              0.00442 ** \n",
      "poly(Boston[, i], 3)3 -10.0719     8.3722  -1.203              0.22954    \n",
      "---\n",
      "Signif. codes:  0 '***' 0.001 '**' 0.01 '*' 0.05 '.' 0.1 ' ' 1\n",
      "\n",
      "Residual standard error: 8.372 on 502 degrees of freedom\n",
      "Multiple R-squared:  0.05824,\tAdjusted R-squared:  0.05261 \n",
      "F-statistic: 10.35 on 3 and 502 DF,  p-value: 0.000001281\n",
      "\n",
      "[1] \"indus\"\n",
      "\n",
      "Call:\n",
      "lm(formula = Boston$crim ~ poly(Boston[, i], 3))\n",
      "\n",
      "Residuals:\n",
      "   Min     1Q Median     3Q    Max \n",
      "-8.278 -2.514  0.054  0.764 79.713 \n",
      "\n",
      "Coefficients:\n",
      "                      Estimate Std. Error t value             Pr(>|t|)    \n",
      "(Intercept)              3.614      0.330  10.950 < 0.0000000000000002 ***\n",
      "poly(Boston[, i], 3)1   78.591      7.423  10.587 < 0.0000000000000002 ***\n",
      "poly(Boston[, i], 3)2  -24.395      7.423  -3.286              0.00109 ** \n",
      "poly(Boston[, i], 3)3  -54.130      7.423  -7.292      0.0000000000012 ***\n",
      "---\n",
      "Signif. codes:  0 '***' 0.001 '**' 0.01 '*' 0.05 '.' 0.1 ' ' 1\n",
      "\n",
      "Residual standard error: 7.423 on 502 degrees of freedom\n",
      "Multiple R-squared:  0.2597,\tAdjusted R-squared:  0.2552 \n",
      "F-statistic: 58.69 on 3 and 502 DF,  p-value: < 0.00000000000000022\n",
      "\n",
      "[1] \"nox\"\n",
      "\n",
      "Call:\n",
      "lm(formula = Boston$crim ~ poly(Boston[, i], 3))\n",
      "\n",
      "Residuals:\n",
      "   Min     1Q Median     3Q    Max \n",
      "-9.110 -2.068 -0.255  0.739 78.302 \n",
      "\n",
      "Coefficients:\n",
      "                      Estimate Std. Error t value             Pr(>|t|)    \n",
      "(Intercept)             3.6135     0.3216  11.237 < 0.0000000000000002 ***\n",
      "poly(Boston[, i], 3)1  81.3720     7.2336  11.249 < 0.0000000000000002 ***\n",
      "poly(Boston[, i], 3)2 -28.8286     7.2336  -3.985 0.000077367546493901 ***\n",
      "poly(Boston[, i], 3)3 -60.3619     7.2336  -8.345 0.000000000000000696 ***\n",
      "---\n",
      "Signif. codes:  0 '***' 0.001 '**' 0.01 '*' 0.05 '.' 0.1 ' ' 1\n",
      "\n",
      "Residual standard error: 7.234 on 502 degrees of freedom\n",
      "Multiple R-squared:  0.297,\tAdjusted R-squared:  0.2928 \n",
      "F-statistic: 70.69 on 3 and 502 DF,  p-value: < 0.00000000000000022\n",
      "\n",
      "[1] \"rm\"\n",
      "\n",
      "Call:\n",
      "lm(formula = Boston$crim ~ poly(Boston[, i], 3))\n",
      "\n",
      "Residuals:\n",
      "    Min      1Q  Median      3Q     Max \n",
      "-18.485  -3.468  -2.221  -0.015  87.219 \n",
      "\n",
      "Coefficients:\n",
      "                      Estimate Std. Error t value             Pr(>|t|)    \n",
      "(Intercept)             3.6135     0.3703   9.758 < 0.0000000000000002 ***\n",
      "poly(Boston[, i], 3)1 -42.3794     8.3297  -5.088          0.000000513 ***\n",
      "poly(Boston[, i], 3)2  26.5768     8.3297   3.191              0.00151 ** \n",
      "poly(Boston[, i], 3)3  -5.5103     8.3297  -0.662              0.50858    \n",
      "---\n",
      "Signif. codes:  0 '***' 0.001 '**' 0.01 '*' 0.05 '.' 0.1 ' ' 1\n",
      "\n",
      "Residual standard error: 8.33 on 502 degrees of freedom\n",
      "Multiple R-squared:  0.06779,\tAdjusted R-squared:  0.06222 \n",
      "F-statistic: 12.17 on 3 and 502 DF,  p-value: 0.0000001067\n",
      "\n",
      "[1] \"age\"\n",
      "\n",
      "Call:\n",
      "lm(formula = Boston$crim ~ poly(Boston[, i], 3))\n",
      "\n",
      "Residuals:\n",
      "   Min     1Q Median     3Q    Max \n",
      "-9.762 -2.673 -0.516  0.019 82.842 \n",
      "\n",
      "Coefficients:\n",
      "                      Estimate Std. Error t value             Pr(>|t|)    \n",
      "(Intercept)             3.6135     0.3485  10.368 < 0.0000000000000002 ***\n",
      "poly(Boston[, i], 3)1  68.1820     7.8397   8.697 < 0.0000000000000002 ***\n",
      "poly(Boston[, i], 3)2  37.4845     7.8397   4.781           0.00000229 ***\n",
      "poly(Boston[, i], 3)3  21.3532     7.8397   2.724              0.00668 ** \n",
      "---\n",
      "Signif. codes:  0 '***' 0.001 '**' 0.01 '*' 0.05 '.' 0.1 ' ' 1\n",
      "\n",
      "Residual standard error: 7.84 on 502 degrees of freedom\n",
      "Multiple R-squared:  0.1742,\tAdjusted R-squared:  0.1693 \n",
      "F-statistic: 35.31 on 3 and 502 DF,  p-value: < 0.00000000000000022\n",
      "\n",
      "[1] \"dis\"\n",
      "\n",
      "Call:\n",
      "lm(formula = Boston$crim ~ poly(Boston[, i], 3))\n",
      "\n",
      "Residuals:\n",
      "    Min      1Q  Median      3Q     Max \n",
      "-10.757  -2.588   0.031   1.267  76.378 \n",
      "\n",
      "Coefficients:\n",
      "                      Estimate Std. Error t value             Pr(>|t|)    \n",
      "(Intercept)             3.6135     0.3259  11.087 < 0.0000000000000002 ***\n",
      "poly(Boston[, i], 3)1 -73.3886     7.3315 -10.010 < 0.0000000000000002 ***\n",
      "poly(Boston[, i], 3)2  56.3730     7.3315   7.689   0.0000000000000787 ***\n",
      "poly(Boston[, i], 3)3 -42.6219     7.3315  -5.814   0.0000000108883203 ***\n",
      "---\n",
      "Signif. codes:  0 '***' 0.001 '**' 0.01 '*' 0.05 '.' 0.1 ' ' 1\n",
      "\n",
      "Residual standard error: 7.331 on 502 degrees of freedom\n",
      "Multiple R-squared:  0.2778,\tAdjusted R-squared:  0.2735 \n",
      "F-statistic: 64.37 on 3 and 502 DF,  p-value: < 0.00000000000000022\n",
      "\n",
      "[1] \"rad\"\n",
      "\n",
      "Call:\n",
      "lm(formula = Boston$crim ~ poly(Boston[, i], 3))\n",
      "\n",
      "Residuals:\n",
      "    Min      1Q  Median      3Q     Max \n",
      "-10.381  -0.412  -0.269   0.179  76.217 \n",
      "\n",
      "Coefficients:\n",
      "                      Estimate Std. Error t value             Pr(>|t|)    \n",
      "(Intercept)             3.6135     0.2971  12.164 < 0.0000000000000002 ***\n",
      "poly(Boston[, i], 3)1 120.9074     6.6824  18.093 < 0.0000000000000002 ***\n",
      "poly(Boston[, i], 3)2  17.4923     6.6824   2.618              0.00912 ** \n",
      "poly(Boston[, i], 3)3   4.6985     6.6824   0.703              0.48231    \n",
      "---\n",
      "Signif. codes:  0 '***' 0.001 '**' 0.01 '*' 0.05 '.' 0.1 ' ' 1\n",
      "\n",
      "Residual standard error: 6.682 on 502 degrees of freedom\n",
      "Multiple R-squared:    0.4,\tAdjusted R-squared:  0.3965 \n",
      "F-statistic: 111.6 on 3 and 502 DF,  p-value: < 0.00000000000000022\n",
      "\n",
      "[1] \"tax\"\n",
      "\n",
      "Call:\n",
      "lm(formula = Boston$crim ~ poly(Boston[, i], 3))\n",
      "\n",
      "Residuals:\n",
      "    Min      1Q  Median      3Q     Max \n",
      "-13.273  -1.389   0.046   0.536  76.950 \n",
      "\n",
      "Coefficients:\n",
      "                      Estimate Std. Error t value             Pr(>|t|)    \n",
      "(Intercept)             3.6135     0.3047  11.860 < 0.0000000000000002 ***\n",
      "poly(Boston[, i], 3)1 112.6458     6.8537  16.436 < 0.0000000000000002 ***\n",
      "poly(Boston[, i], 3)2  32.0873     6.8537   4.682           0.00000367 ***\n",
      "poly(Boston[, i], 3)3  -7.9968     6.8537  -1.167                0.244    \n",
      "---\n",
      "Signif. codes:  0 '***' 0.001 '**' 0.01 '*' 0.05 '.' 0.1 ' ' 1\n",
      "\n",
      "Residual standard error: 6.854 on 502 degrees of freedom\n",
      "Multiple R-squared:  0.3689,\tAdjusted R-squared:  0.3651 \n",
      "F-statistic:  97.8 on 3 and 502 DF,  p-value: < 0.00000000000000022\n",
      "\n",
      "[1] \"ptratio\"\n",
      "\n",
      "Call:\n",
      "lm(formula = Boston$crim ~ poly(Boston[, i], 3))\n",
      "\n",
      "Residuals:\n",
      "   Min     1Q Median     3Q    Max \n",
      "-6.833 -4.146 -1.655  1.408 82.697 \n",
      "\n",
      "Coefficients:\n",
      "                      Estimate Std. Error t value             Pr(>|t|)    \n",
      "(Intercept)              3.614      0.361  10.008 < 0.0000000000000002 ***\n",
      "poly(Boston[, i], 3)1   56.045      8.122   6.901      0.0000000000157 ***\n",
      "poly(Boston[, i], 3)2   24.775      8.122   3.050              0.00241 ** \n",
      "poly(Boston[, i], 3)3  -22.280      8.122  -2.743              0.00630 ** \n",
      "---\n",
      "Signif. codes:  0 '***' 0.001 '**' 0.01 '*' 0.05 '.' 0.1 ' ' 1\n",
      "\n",
      "Residual standard error: 8.122 on 502 degrees of freedom\n",
      "Multiple R-squared:  0.1138,\tAdjusted R-squared:  0.1085 \n",
      "F-statistic: 21.48 on 3 and 502 DF,  p-value: 0.0000000000004171\n",
      "\n",
      "[1] \"black\"\n",
      "\n",
      "Call:\n",
      "lm(formula = Boston$crim ~ poly(Boston[, i], 3))\n",
      "\n",
      "Residuals:\n",
      "    Min      1Q  Median      3Q     Max \n",
      "-13.096  -2.343  -2.128  -1.439  86.790 \n",
      "\n",
      "Coefficients:\n",
      "                      Estimate Std. Error t value            Pr(>|t|)    \n",
      "(Intercept)             3.6135     0.3536  10.218 <0.0000000000000002 ***\n",
      "poly(Boston[, i], 3)1 -74.4312     7.9546  -9.357 <0.0000000000000002 ***\n",
      "poly(Boston[, i], 3)2   5.9264     7.9546   0.745               0.457    \n",
      "poly(Boston[, i], 3)3  -4.8346     7.9546  -0.608               0.544    \n",
      "---\n",
      "Signif. codes:  0 '***' 0.001 '**' 0.01 '*' 0.05 '.' 0.1 ' ' 1\n",
      "\n",
      "Residual standard error: 7.955 on 502 degrees of freedom\n",
      "Multiple R-squared:  0.1498,\tAdjusted R-squared:  0.1448 \n",
      "F-statistic: 29.49 on 3 and 502 DF,  p-value: < 0.00000000000000022\n",
      "\n",
      "[1] \"lstat\"\n",
      "\n",
      "Call:\n",
      "lm(formula = Boston$crim ~ poly(Boston[, i], 3))\n",
      "\n",
      "Residuals:\n",
      "    Min      1Q  Median      3Q     Max \n",
      "-15.234  -2.151  -0.486   0.066  83.353 \n",
      "\n",
      "Coefficients:\n",
      "                      Estimate Std. Error t value            Pr(>|t|)    \n",
      "(Intercept)             3.6135     0.3392  10.654 <0.0000000000000002 ***\n",
      "poly(Boston[, i], 3)1  88.0697     7.6294  11.543 <0.0000000000000002 ***\n",
      "poly(Boston[, i], 3)2  15.8882     7.6294   2.082              0.0378 *  \n",
      "poly(Boston[, i], 3)3 -11.5740     7.6294  -1.517              0.1299    \n",
      "---\n",
      "Signif. codes:  0 '***' 0.001 '**' 0.01 '*' 0.05 '.' 0.1 ' ' 1\n",
      "\n",
      "Residual standard error: 7.629 on 502 degrees of freedom\n",
      "Multiple R-squared:  0.2179,\tAdjusted R-squared:  0.2133 \n",
      "F-statistic: 46.63 on 3 and 502 DF,  p-value: < 0.00000000000000022\n",
      "\n",
      "[1] \"medv\"\n",
      "\n",
      "Call:\n",
      "lm(formula = Boston$crim ~ poly(Boston[, i], 3))\n",
      "\n",
      "Residuals:\n",
      "    Min      1Q  Median      3Q     Max \n",
      "-24.427  -1.976  -0.437   0.439  73.655 \n",
      "\n",
      "Coefficients:\n",
      "                      Estimate Std. Error t value             Pr(>|t|)    \n",
      "(Intercept)              3.614      0.292  12.374 < 0.0000000000000002 ***\n",
      "poly(Boston[, i], 3)1  -75.058      6.569 -11.426 < 0.0000000000000002 ***\n",
      "poly(Boston[, i], 3)2   88.086      6.569  13.409 < 0.0000000000000002 ***\n",
      "poly(Boston[, i], 3)3  -48.033      6.569  -7.312     0.00000000000105 ***\n",
      "---\n",
      "Signif. codes:  0 '***' 0.001 '**' 0.01 '*' 0.05 '.' 0.1 ' ' 1\n",
      "\n",
      "Residual standard error: 6.569 on 502 degrees of freedom\n",
      "Multiple R-squared:  0.4202,\tAdjusted R-squared:  0.4167 \n",
      "F-statistic: 121.3 on 3 and 502 DF,  p-value: < 0.00000000000000022\n",
      "\n"
     ]
    }
   ],
   "source": [
    "#d)\n",
    "#remove qualitative predictors\n",
    "vars2<-vars[vars!=\"chas\"]\n",
    "for (i in vars2){\n",
    "    print(i)\n",
    "    print(summary(lm(Boston$crim~poly(Boston[,i],3))))\n",
    "}"
   ]
  },
  {
   "cell_type": "markdown",
   "id": "f60c9220",
   "metadata": {},
   "source": [
    "d) For most of the variables the result is signifcant for all three levels, which means there is evidence that there can be be a non linear association. \n",
    "The only variables that do not show evidence are Black and chas(since it is a dummy variable)."
   ]
  }
 ],
 "metadata": {
  "kernelspec": {
   "display_name": "R",
   "language": "R",
   "name": "ir"
  },
  "language_info": {
   "codemirror_mode": "r",
   "file_extension": ".r",
   "mimetype": "text/x-r-source",
   "name": "R",
   "pygments_lexer": "r",
   "version": "4.0.5"
  }
 },
 "nbformat": 4,
 "nbformat_minor": 5
}
